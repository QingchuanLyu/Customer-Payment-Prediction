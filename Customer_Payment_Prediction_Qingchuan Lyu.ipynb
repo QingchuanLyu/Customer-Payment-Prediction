{
 "cells": [
  {
   "cell_type": "markdown",
   "metadata": {},
   "source": [
    "### Customer Payment (Revenue) Prediction\n",
    "#### Author: Qingchuan Lyu\n",
    "__Goal__: we want to learn more about the users who started the new new service during November 2020.  \n",
    "\n",
    "__Problems__:\n",
    "\n",
    "Using only the first 7 days of payments and events, what is our best prediction for day 60 revenue.  We can model per user and/or aggregates grouped by platform, channel and geo.\n",
    "\n",
    "__Strategy Highlights__:\n",
    "* To predict day 60 revenue with the first 7 days of payments and events, I computed the total revenue on day 60 for each combination of platform, channel and geo. According to total revenue on day 60 and the sample size of each combination, I divided users into 4 groups ('combo_category' = 0, 1, 2, 3) and found the optimal model for each group. See Section [Grouping Users](#group).\n",
    "* Building a PCA pipeline most often significantly reduced RMSE. The only exception was the last group (combo_category = 3), where a simple OLS model outperformed all the other regularized linear models and tree models on the out-of-sample data. See Section [Modeling](#model).\n",
    "\n",
    "[References](#References)\n",
    "\n",
    "[Appendix: Failed Attempts](#Appendix)"
   ]
  },
  {
   "cell_type": "code",
   "execution_count": 7,
   "metadata": {},
   "outputs": [],
   "source": [
    "# Import libraries\n",
    "import pandas as pd\n",
    "import numpy as np\n",
    "from datetime import datetime\n",
    "import matplotlib.pyplot as plt\n",
    "# Store plots in notebook.\n",
    "%matplotlib inline\n",
    "\n",
    "from sklearn.model_selection import train_test_split\n",
    "from sklearn.preprocessing import StandardScaler\n",
    "from sklearn.decomposition import PCA\n",
    "from sklearn.pipeline import Pipeline\n",
    "from sklearn.linear_model import LinearRegression, ElasticNet, Lasso, Ridge\n",
    "from sklearn.model_selection import GridSearchCV\n",
    "from sklearn.ensemble import RandomForestRegressor\n",
    "from sklearn.tree import DecisionTreeRegressor\n",
    "from sklearn.metrics import mean_squared_error\n",
    "\n",
    "import warnings\n",
    "warnings.filterwarnings('ignore')\n",
    "def ignore_warn(*args, **kwargs):\n",
    "    pass\n",
    "warnings.warn = ignore_warn"
   ]
  },
  {
   "cell_type": "code",
   "execution_count": 8,
   "metadata": {},
   "outputs": [],
   "source": [
    "# Import input files\n",
    "users_df = pd.read_csv(\"/Users/qingchuanlyu/Documents/Application/Companies/EA/take home/dataset/users.csv\")"
   ]
  },
  {
   "cell_type": "code",
   "execution_count": 9,
   "metadata": {},
   "outputs": [
    {
     "data": {
      "text/html": [
       "<div>\n",
       "<style scoped>\n",
       "    .dataframe tbody tr th:only-of-type {\n",
       "        vertical-align: middle;\n",
       "    }\n",
       "\n",
       "    .dataframe tbody tr th {\n",
       "        vertical-align: top;\n",
       "    }\n",
       "\n",
       "    .dataframe thead th {\n",
       "        text-align: right;\n",
       "    }\n",
       "</style>\n",
       "<table border=\"1\" class=\"dataframe\">\n",
       "  <thead>\n",
       "    <tr style=\"text-align: right;\">\n",
       "      <th></th>\n",
       "      <th>user</th>\n",
       "      <th>platform</th>\n",
       "      <th>channel</th>\n",
       "      <th>geo</th>\n",
       "      <th>install_date</th>\n",
       "    </tr>\n",
       "  </thead>\n",
       "  <tbody>\n",
       "    <tr>\n",
       "      <th>0</th>\n",
       "      <td>-6850362954315242018</td>\n",
       "      <td>purple</td>\n",
       "      <td>Mice</td>\n",
       "      <td>AB</td>\n",
       "      <td>2020-11-03</td>\n",
       "    </tr>\n",
       "    <tr>\n",
       "      <th>1</th>\n",
       "      <td>7863223365093340651</td>\n",
       "      <td>purple</td>\n",
       "      <td>Mice</td>\n",
       "      <td>AB</td>\n",
       "      <td>2020-11-03</td>\n",
       "    </tr>\n",
       "    <tr>\n",
       "      <th>2</th>\n",
       "      <td>-5844463704494523566</td>\n",
       "      <td>purple</td>\n",
       "      <td>Mice</td>\n",
       "      <td>AB</td>\n",
       "      <td>2020-11-03</td>\n",
       "    </tr>\n",
       "    <tr>\n",
       "      <th>3</th>\n",
       "      <td>-2710245180531833391</td>\n",
       "      <td>purple</td>\n",
       "      <td>Mice</td>\n",
       "      <td>AB</td>\n",
       "      <td>2020-11-03</td>\n",
       "    </tr>\n",
       "    <tr>\n",
       "      <th>4</th>\n",
       "      <td>-1227926074670215435</td>\n",
       "      <td>purple</td>\n",
       "      <td>Mice</td>\n",
       "      <td>AB</td>\n",
       "      <td>2020-11-03</td>\n",
       "    </tr>\n",
       "  </tbody>\n",
       "</table>\n",
       "</div>"
      ],
      "text/plain": [
       "                  user platform channel geo install_date\n",
       "0 -6850362954315242018   purple    Mice  AB   2020-11-03\n",
       "1  7863223365093340651   purple    Mice  AB   2020-11-03\n",
       "2 -5844463704494523566   purple    Mice  AB   2020-11-03\n",
       "3 -2710245180531833391   purple    Mice  AB   2020-11-03\n",
       "4 -1227926074670215435   purple    Mice  AB   2020-11-03"
      ]
     },
     "execution_count": 9,
     "metadata": {},
     "output_type": "execute_result"
    }
   ],
   "source": [
    "users_df.head()"
   ]
  },
  {
   "cell_type": "code",
   "execution_count": 10,
   "metadata": {},
   "outputs": [],
   "source": [
    "events_all = pd.read_csv(\"/Users/qingchuanlyu/Documents/Application/Companies/EA/take home/dataset/all_events.csv\")"
   ]
  },
  {
   "cell_type": "code",
   "execution_count": 11,
   "metadata": {},
   "outputs": [
    {
     "data": {
      "text/html": [
       "<div>\n",
       "<style scoped>\n",
       "    .dataframe tbody tr th:only-of-type {\n",
       "        vertical-align: middle;\n",
       "    }\n",
       "\n",
       "    .dataframe tbody tr th {\n",
       "        vertical-align: top;\n",
       "    }\n",
       "\n",
       "    .dataframe thead th {\n",
       "        text-align: right;\n",
       "    }\n",
       "</style>\n",
       "<table border=\"1\" class=\"dataframe\">\n",
       "  <thead>\n",
       "    <tr style=\"text-align: right;\">\n",
       "      <th></th>\n",
       "      <th>user</th>\n",
       "      <th>event</th>\n",
       "      <th>event_time</th>\n",
       "    </tr>\n",
       "  </thead>\n",
       "  <tbody>\n",
       "    <tr>\n",
       "      <th>0</th>\n",
       "      <td>8629825311730842634</td>\n",
       "      <td>__UNINSTALL__</td>\n",
       "      <td>2020-10-04 01:02:53 UTC</td>\n",
       "    </tr>\n",
       "    <tr>\n",
       "      <th>1</th>\n",
       "      <td>7969139209064461440</td>\n",
       "      <td>checkpoint_d</td>\n",
       "      <td>2020-11-14 23:22:21 UTC</td>\n",
       "    </tr>\n",
       "    <tr>\n",
       "      <th>2</th>\n",
       "      <td>5997886761676625641</td>\n",
       "      <td>checkpoint_b</td>\n",
       "      <td>2020-10-12 20:42:05 UTC</td>\n",
       "    </tr>\n",
       "    <tr>\n",
       "      <th>3</th>\n",
       "      <td>8439996094898480238</td>\n",
       "      <td>__UNINSTALL__</td>\n",
       "      <td>2020-11-10 02:44:21 UTC</td>\n",
       "    </tr>\n",
       "    <tr>\n",
       "      <th>4</th>\n",
       "      <td>987174099125648640</td>\n",
       "      <td>checkpoint_c</td>\n",
       "      <td>2020-12-03 17:23:01 UTC</td>\n",
       "    </tr>\n",
       "  </tbody>\n",
       "</table>\n",
       "</div>"
      ],
      "text/plain": [
       "                  user          event               event_time\n",
       "0  8629825311730842634  __UNINSTALL__  2020-10-04 01:02:53 UTC\n",
       "1  7969139209064461440   checkpoint_d  2020-11-14 23:22:21 UTC\n",
       "2  5997886761676625641   checkpoint_b  2020-10-12 20:42:05 UTC\n",
       "3  8439996094898480238  __UNINSTALL__  2020-11-10 02:44:21 UTC\n",
       "4   987174099125648640   checkpoint_c  2020-12-03 17:23:01 UTC"
      ]
     },
     "execution_count": 11,
     "metadata": {},
     "output_type": "execute_result"
    }
   ],
   "source": [
    "events_all.head()"
   ]
  },
  {
   "cell_type": "code",
   "execution_count": 12,
   "metadata": {},
   "outputs": [],
   "source": [
    "revenue_df = pd.read_csv(\"/Users/qingchuanlyu/Documents/Application/Companies/EA/take home/dataset/revenue_transactions.csv\")"
   ]
  },
  {
   "cell_type": "code",
   "execution_count": 13,
   "metadata": {},
   "outputs": [
    {
     "data": {
      "text/html": [
       "<div>\n",
       "<style scoped>\n",
       "    .dataframe tbody tr th:only-of-type {\n",
       "        vertical-align: middle;\n",
       "    }\n",
       "\n",
       "    .dataframe tbody tr th {\n",
       "        vertical-align: top;\n",
       "    }\n",
       "\n",
       "    .dataframe thead th {\n",
       "        text-align: right;\n",
       "    }\n",
       "</style>\n",
       "<table border=\"1\" class=\"dataframe\">\n",
       "  <thead>\n",
       "    <tr style=\"text-align: right;\">\n",
       "      <th></th>\n",
       "      <th>user</th>\n",
       "      <th>revenue</th>\n",
       "      <th>event_time_unix</th>\n",
       "    </tr>\n",
       "  </thead>\n",
       "  <tbody>\n",
       "    <tr>\n",
       "      <th>0</th>\n",
       "      <td>-5857284260667862713</td>\n",
       "      <td>391.840</td>\n",
       "      <td>1607719843</td>\n",
       "    </tr>\n",
       "    <tr>\n",
       "      <th>1</th>\n",
       "      <td>-5320862144580316075</td>\n",
       "      <td>73.346</td>\n",
       "      <td>1606075953</td>\n",
       "    </tr>\n",
       "    <tr>\n",
       "      <th>2</th>\n",
       "      <td>7479991034279227950</td>\n",
       "      <td>74.834</td>\n",
       "      <td>1609396933</td>\n",
       "    </tr>\n",
       "    <tr>\n",
       "      <th>3</th>\n",
       "      <td>-4613260486179764053</td>\n",
       "      <td>160.766</td>\n",
       "      <td>1608685422</td>\n",
       "    </tr>\n",
       "    <tr>\n",
       "      <th>4</th>\n",
       "      <td>-4628126647390979390</td>\n",
       "      <td>137.764</td>\n",
       "      <td>1608662419</td>\n",
       "    </tr>\n",
       "  </tbody>\n",
       "</table>\n",
       "</div>"
      ],
      "text/plain": [
       "                  user  revenue  event_time_unix\n",
       "0 -5857284260667862713  391.840       1607719843\n",
       "1 -5320862144580316075   73.346       1606075953\n",
       "2  7479991034279227950   74.834       1609396933\n",
       "3 -4613260486179764053  160.766       1608685422\n",
       "4 -4628126647390979390  137.764       1608662419"
      ]
     },
     "execution_count": 13,
     "metadata": {},
     "output_type": "execute_result"
    }
   ],
   "source": [
    "revenue_df.head()"
   ]
  },
  {
   "cell_type": "markdown",
   "metadata": {},
   "source": [
    "### Cleaning"
   ]
  },
  {
   "cell_type": "code",
   "execution_count": 14,
   "metadata": {},
   "outputs": [
    {
     "data": {
      "text/plain": [
       "user             int64\n",
       "platform        object\n",
       "channel         object\n",
       "geo             object\n",
       "install_date    object\n",
       "dtype: object"
      ]
     },
     "execution_count": 14,
     "metadata": {},
     "output_type": "execute_result"
    }
   ],
   "source": [
    "users_df.dtypes"
   ]
  },
  {
   "cell_type": "code",
   "execution_count": 15,
   "metadata": {},
   "outputs": [
    {
     "data": {
      "text/html": [
       "<div>\n",
       "<style scoped>\n",
       "    .dataframe tbody tr th:only-of-type {\n",
       "        vertical-align: middle;\n",
       "    }\n",
       "\n",
       "    .dataframe tbody tr th {\n",
       "        vertical-align: top;\n",
       "    }\n",
       "\n",
       "    .dataframe thead th {\n",
       "        text-align: right;\n",
       "    }\n",
       "</style>\n",
       "<table border=\"1\" class=\"dataframe\">\n",
       "  <thead>\n",
       "    <tr style=\"text-align: right;\">\n",
       "      <th></th>\n",
       "      <th>user</th>\n",
       "      <th>platform</th>\n",
       "      <th>channel</th>\n",
       "      <th>geo</th>\n",
       "      <th>install_date</th>\n",
       "      <th>install_datetime</th>\n",
       "    </tr>\n",
       "  </thead>\n",
       "  <tbody>\n",
       "  </tbody>\n",
       "</table>\n",
       "</div>"
      ],
      "text/plain": [
       "Empty DataFrame\n",
       "Columns: [user, platform, channel, geo, install_date, install_datetime]\n",
       "Index: []"
      ]
     },
     "execution_count": 15,
     "metadata": {},
     "output_type": "execute_result"
    }
   ],
   "source": [
    "# Users table: transfer the datatype of 'install_date'\n",
    "users_df['install_datetime'] = pd.to_datetime(users_df['install_date'])\n",
    "# Check if any user data was before or later than November 2020\n",
    "users_df[(users_df['install_datetime'] < '2020-11-01') | (users_df['install_datetime'] > '2020-11-30')]"
   ]
  },
  {
   "cell_type": "markdown",
   "metadata": {},
   "source": [
    "All users in the user table were within the study window of November 2020."
   ]
  },
  {
   "cell_type": "code",
   "execution_count": 16,
   "metadata": {},
   "outputs": [
    {
     "data": {
      "text/plain": [
       "user                         int64\n",
       "platform                    object\n",
       "channel                     object\n",
       "geo                         object\n",
       "install_date                object\n",
       "install_datetime    datetime64[ns]\n",
       "dtype: object"
      ]
     },
     "execution_count": 16,
     "metadata": {},
     "output_type": "execute_result"
    }
   ],
   "source": [
    "users_df.dtypes"
   ]
  },
  {
   "cell_type": "code",
   "execution_count": 17,
   "metadata": {},
   "outputs": [],
   "source": [
    "# Revenue table: transfer unix time to a normal date type\n",
    "revenue_df['transaction_time'] = pd.to_datetime(revenue_df['event_time_unix'],unit='s')"
   ]
  },
  {
   "cell_type": "code",
   "execution_count": 18,
   "metadata": {},
   "outputs": [
    {
     "data": {
      "text/html": [
       "<div>\n",
       "<style scoped>\n",
       "    .dataframe tbody tr th:only-of-type {\n",
       "        vertical-align: middle;\n",
       "    }\n",
       "\n",
       "    .dataframe tbody tr th {\n",
       "        vertical-align: top;\n",
       "    }\n",
       "\n",
       "    .dataframe thead th {\n",
       "        text-align: right;\n",
       "    }\n",
       "</style>\n",
       "<table border=\"1\" class=\"dataframe\">\n",
       "  <thead>\n",
       "    <tr style=\"text-align: right;\">\n",
       "      <th></th>\n",
       "      <th>user</th>\n",
       "      <th>revenue</th>\n",
       "      <th>event_time_unix</th>\n",
       "      <th>transaction_time</th>\n",
       "    </tr>\n",
       "  </thead>\n",
       "  <tbody>\n",
       "    <tr>\n",
       "      <th>0</th>\n",
       "      <td>-5857284260667862713</td>\n",
       "      <td>391.840</td>\n",
       "      <td>1607719843</td>\n",
       "      <td>2020-12-11 20:50:43</td>\n",
       "    </tr>\n",
       "    <tr>\n",
       "      <th>1</th>\n",
       "      <td>-5320862144580316075</td>\n",
       "      <td>73.346</td>\n",
       "      <td>1606075953</td>\n",
       "      <td>2020-11-22 20:12:33</td>\n",
       "    </tr>\n",
       "    <tr>\n",
       "      <th>2</th>\n",
       "      <td>7479991034279227950</td>\n",
       "      <td>74.834</td>\n",
       "      <td>1609396933</td>\n",
       "      <td>2020-12-31 06:42:13</td>\n",
       "    </tr>\n",
       "    <tr>\n",
       "      <th>3</th>\n",
       "      <td>-4613260486179764053</td>\n",
       "      <td>160.766</td>\n",
       "      <td>1608685422</td>\n",
       "      <td>2020-12-23 01:03:42</td>\n",
       "    </tr>\n",
       "    <tr>\n",
       "      <th>4</th>\n",
       "      <td>-4628126647390979390</td>\n",
       "      <td>137.764</td>\n",
       "      <td>1608662419</td>\n",
       "      <td>2020-12-22 18:40:19</td>\n",
       "    </tr>\n",
       "  </tbody>\n",
       "</table>\n",
       "</div>"
      ],
      "text/plain": [
       "                  user  revenue  event_time_unix    transaction_time\n",
       "0 -5857284260667862713  391.840       1607719843 2020-12-11 20:50:43\n",
       "1 -5320862144580316075   73.346       1606075953 2020-11-22 20:12:33\n",
       "2  7479991034279227950   74.834       1609396933 2020-12-31 06:42:13\n",
       "3 -4613260486179764053  160.766       1608685422 2020-12-23 01:03:42\n",
       "4 -4628126647390979390  137.764       1608662419 2020-12-22 18:40:19"
      ]
     },
     "execution_count": 18,
     "metadata": {},
     "output_type": "execute_result"
    }
   ],
   "source": [
    "revenue_df.head()"
   ]
  },
  {
   "cell_type": "code",
   "execution_count": 19,
   "metadata": {},
   "outputs": [
    {
     "data": {
      "text/plain": [
       "user                         int64\n",
       "revenue                    float64\n",
       "event_time_unix              int64\n",
       "transaction_time    datetime64[ns]\n",
       "dtype: object"
      ]
     },
     "execution_count": 19,
     "metadata": {},
     "output_type": "execute_result"
    }
   ],
   "source": [
    "revenue_df.dtypes"
   ]
  },
  {
   "cell_type": "code",
   "execution_count": 20,
   "metadata": {},
   "outputs": [
    {
     "data": {
      "text/html": [
       "<div>\n",
       "<style scoped>\n",
       "    .dataframe tbody tr th:only-of-type {\n",
       "        vertical-align: middle;\n",
       "    }\n",
       "\n",
       "    .dataframe tbody tr th {\n",
       "        vertical-align: top;\n",
       "    }\n",
       "\n",
       "    .dataframe thead th {\n",
       "        text-align: right;\n",
       "    }\n",
       "</style>\n",
       "<table border=\"1\" class=\"dataframe\">\n",
       "  <thead>\n",
       "    <tr style=\"text-align: right;\">\n",
       "      <th></th>\n",
       "      <th>user</th>\n",
       "      <th>revenue</th>\n",
       "      <th>event_time_unix</th>\n",
       "      <th>transaction_time</th>\n",
       "    </tr>\n",
       "  </thead>\n",
       "  <tbody>\n",
       "    <tr>\n",
       "      <th>41</th>\n",
       "      <td>-9158721160290802642</td>\n",
       "      <td>13.392</td>\n",
       "      <td>1597097160</td>\n",
       "      <td>2020-08-10 22:06:00</td>\n",
       "    </tr>\n",
       "    <tr>\n",
       "      <th>64</th>\n",
       "      <td>7758665106893810672</td>\n",
       "      <td>15.686</td>\n",
       "      <td>1599250474</td>\n",
       "      <td>2020-09-04 20:14:34</td>\n",
       "    </tr>\n",
       "    <tr>\n",
       "      <th>184</th>\n",
       "      <td>3504962259294482717</td>\n",
       "      <td>33.480</td>\n",
       "      <td>1601243176</td>\n",
       "      <td>2020-09-27 21:46:16</td>\n",
       "    </tr>\n",
       "    <tr>\n",
       "      <th>189</th>\n",
       "      <td>3213188719188095811</td>\n",
       "      <td>23.560</td>\n",
       "      <td>1601545713</td>\n",
       "      <td>2020-10-01 09:48:33</td>\n",
       "    </tr>\n",
       "    <tr>\n",
       "      <th>265</th>\n",
       "      <td>3562288386363372448</td>\n",
       "      <td>33.666</td>\n",
       "      <td>1602860273</td>\n",
       "      <td>2020-10-16 14:57:53</td>\n",
       "    </tr>\n",
       "    <tr>\n",
       "      <th>...</th>\n",
       "      <td>...</td>\n",
       "      <td>...</td>\n",
       "      <td>...</td>\n",
       "      <td>...</td>\n",
       "    </tr>\n",
       "    <tr>\n",
       "      <th>277011</th>\n",
       "      <td>-7225198879896254107</td>\n",
       "      <td>61.938</td>\n",
       "      <td>1599250510</td>\n",
       "      <td>2020-09-04 20:15:10</td>\n",
       "    </tr>\n",
       "    <tr>\n",
       "      <th>277040</th>\n",
       "      <td>-2196858143486580488</td>\n",
       "      <td>61.938</td>\n",
       "      <td>1600802203</td>\n",
       "      <td>2020-09-22 19:16:43</td>\n",
       "    </tr>\n",
       "    <tr>\n",
       "      <th>277069</th>\n",
       "      <td>5774997814734506718</td>\n",
       "      <td>61.938</td>\n",
       "      <td>1603545195</td>\n",
       "      <td>2020-10-24 13:13:15</td>\n",
       "    </tr>\n",
       "    <tr>\n",
       "      <th>277075</th>\n",
       "      <td>2715677088331392770</td>\n",
       "      <td>61.938</td>\n",
       "      <td>1596716991</td>\n",
       "      <td>2020-08-06 12:29:51</td>\n",
       "    </tr>\n",
       "    <tr>\n",
       "      <th>277095</th>\n",
       "      <td>6778394404743534567</td>\n",
       "      <td>61.938</td>\n",
       "      <td>1597374111</td>\n",
       "      <td>2020-08-14 03:01:51</td>\n",
       "    </tr>\n",
       "  </tbody>\n",
       "</table>\n",
       "<p>8791 rows × 4 columns</p>\n",
       "</div>"
      ],
      "text/plain": [
       "                       user  revenue  event_time_unix    transaction_time\n",
       "41     -9158721160290802642   13.392       1597097160 2020-08-10 22:06:00\n",
       "64      7758665106893810672   15.686       1599250474 2020-09-04 20:14:34\n",
       "184     3504962259294482717   33.480       1601243176 2020-09-27 21:46:16\n",
       "189     3213188719188095811   23.560       1601545713 2020-10-01 09:48:33\n",
       "265     3562288386363372448   33.666       1602860273 2020-10-16 14:57:53\n",
       "...                     ...      ...              ...                 ...\n",
       "277011 -7225198879896254107   61.938       1599250510 2020-09-04 20:15:10\n",
       "277040 -2196858143486580488   61.938       1600802203 2020-09-22 19:16:43\n",
       "277069  5774997814734506718   61.938       1603545195 2020-10-24 13:13:15\n",
       "277075  2715677088331392770   61.938       1596716991 2020-08-06 12:29:51\n",
       "277095  6778394404743534567   61.938       1597374111 2020-08-14 03:01:51\n",
       "\n",
       "[8791 rows x 4 columns]"
      ]
     },
     "execution_count": 20,
     "metadata": {},
     "output_type": "execute_result"
    }
   ],
   "source": [
    "# Check if any transaction time was before November 2020 in the revenues table\n",
    "revenue_df[revenue_df['transaction_time'] < '2020-11-01']"
   ]
  },
  {
   "cell_type": "code",
   "execution_count": 21,
   "metadata": {},
   "outputs": [],
   "source": [
    "# Add 'install_datetime' to the revenues table for each user\n",
    "revenue_df = revenue_df.merge(users_df[['user', 'install_datetime']], on = 'user', how = 'left')\n",
    "# Restrict to revenue transactions after 'install_datetime'\n",
    "revenue_df = revenue_df[revenue_df['transaction_time'] >= revenue_df['install_datetime']]"
   ]
  },
  {
   "cell_type": "code",
   "execution_count": 22,
   "metadata": {},
   "outputs": [],
   "source": [
    "# Transfer 'event_time' from object to datetime\n",
    "events_all['event_datetime'] = pd.to_datetime(events_all['event_time']).dt.tz_convert(None)\n",
    "# Add install dates of each users to the events table\n",
    "events_all = events_all.merge(users_df[['user', 'install_datetime']], how = 'left', on = 'user')"
   ]
  },
  {
   "cell_type": "code",
   "execution_count": 23,
   "metadata": {},
   "outputs": [],
   "source": [
    "events_all['events_day_diff'] = (events_all['event_datetime'] - events_all['install_datetime']).dt.days"
   ]
  },
  {
   "cell_type": "code",
   "execution_count": 24,
   "metadata": {},
   "outputs": [],
   "source": [
    "# Remove events when 'event_datetime' was before 'install_date' for a user, or after 7 days of 'install_date'\n",
    "events_df = events_all[(events_all['events_day_diff'] <= 7) & (events_all['events_day_diff'] >= 1)]"
   ]
  },
  {
   "cell_type": "code",
   "execution_count": 25,
   "metadata": {},
   "outputs": [],
   "source": [
    "# Difference between transaction time and installation time\n",
    "revenue_df['rev_day_diff'] = (revenue_df['transaction_time'] - revenue_df['install_datetime']).dt.days"
   ]
  },
  {
   "cell_type": "code",
   "execution_count": 23,
   "metadata": {},
   "outputs": [],
   "source": [
    "# Remove transactions before 'install_date' for a user, or after 7 days of 'install_date'\n",
    "rev_study_period = revenue_df[revenue_df['rev_day_diff'].isin((1, 2, 3, 4, 5, 6, 7))]\n",
    "# Create daily revenue for users\n",
    "rev_study_period = rev_study_period.groupby(['user', 'rev_day_diff', 'install_datetime'])\\\n",
    "                                   .agg(daily_rev = ('revenue', 'sum'))\\\n",
    "                                   .reset_index()"
   ]
  },
  {
   "cell_type": "code",
   "execution_count": 24,
   "metadata": {},
   "outputs": [
    {
     "data": {
      "text/html": [
       "<div>\n",
       "<style scoped>\n",
       "    .dataframe tbody tr th:only-of-type {\n",
       "        vertical-align: middle;\n",
       "    }\n",
       "\n",
       "    .dataframe tbody tr th {\n",
       "        vertical-align: top;\n",
       "    }\n",
       "\n",
       "    .dataframe thead th {\n",
       "        text-align: right;\n",
       "    }\n",
       "</style>\n",
       "<table border=\"1\" class=\"dataframe\">\n",
       "  <thead>\n",
       "    <tr style=\"text-align: right;\">\n",
       "      <th></th>\n",
       "      <th>user</th>\n",
       "      <th>rev_day_diff</th>\n",
       "      <th>install_datetime</th>\n",
       "      <th>daily_rev</th>\n",
       "    </tr>\n",
       "  </thead>\n",
       "  <tbody>\n",
       "    <tr>\n",
       "      <th>0</th>\n",
       "      <td>-9223024671825712078</td>\n",
       "      <td>7</td>\n",
       "      <td>2020-11-06</td>\n",
       "      <td>86.614</td>\n",
       "    </tr>\n",
       "    <tr>\n",
       "      <th>1</th>\n",
       "      <td>-9222407629623737699</td>\n",
       "      <td>6</td>\n",
       "      <td>2020-11-19</td>\n",
       "      <td>63.488</td>\n",
       "    </tr>\n",
       "    <tr>\n",
       "      <th>2</th>\n",
       "      <td>-9222407629623737699</td>\n",
       "      <td>7</td>\n",
       "      <td>2020-11-19</td>\n",
       "      <td>158.844</td>\n",
       "    </tr>\n",
       "    <tr>\n",
       "      <th>3</th>\n",
       "      <td>-9221115360712779506</td>\n",
       "      <td>6</td>\n",
       "      <td>2020-11-07</td>\n",
       "      <td>362.514</td>\n",
       "    </tr>\n",
       "    <tr>\n",
       "      <th>4</th>\n",
       "      <td>-9221115360712779506</td>\n",
       "      <td>7</td>\n",
       "      <td>2020-11-07</td>\n",
       "      <td>92.194</td>\n",
       "    </tr>\n",
       "    <tr>\n",
       "      <th>...</th>\n",
       "      <td>...</td>\n",
       "      <td>...</td>\n",
       "      <td>...</td>\n",
       "      <td>...</td>\n",
       "    </tr>\n",
       "    <tr>\n",
       "      <th>20261</th>\n",
       "      <td>9214623768181784609</td>\n",
       "      <td>4</td>\n",
       "      <td>2020-11-28</td>\n",
       "      <td>30.938</td>\n",
       "    </tr>\n",
       "    <tr>\n",
       "      <th>20262</th>\n",
       "      <td>9215003010450134224</td>\n",
       "      <td>1</td>\n",
       "      <td>2020-11-28</td>\n",
       "      <td>142.352</td>\n",
       "    </tr>\n",
       "    <tr>\n",
       "      <th>20263</th>\n",
       "      <td>9215379809662654789</td>\n",
       "      <td>3</td>\n",
       "      <td>2020-11-27</td>\n",
       "      <td>247.876</td>\n",
       "    </tr>\n",
       "    <tr>\n",
       "      <th>20264</th>\n",
       "      <td>9216381112594331202</td>\n",
       "      <td>6</td>\n",
       "      <td>2020-11-28</td>\n",
       "      <td>30.938</td>\n",
       "    </tr>\n",
       "    <tr>\n",
       "      <th>20265</th>\n",
       "      <td>9217228432531751818</td>\n",
       "      <td>1</td>\n",
       "      <td>2020-11-21</td>\n",
       "      <td>61.938</td>\n",
       "    </tr>\n",
       "  </tbody>\n",
       "</table>\n",
       "<p>20266 rows × 4 columns</p>\n",
       "</div>"
      ],
      "text/plain": [
       "                      user  rev_day_diff install_datetime  daily_rev\n",
       "0     -9223024671825712078             7       2020-11-06     86.614\n",
       "1     -9222407629623737699             6       2020-11-19     63.488\n",
       "2     -9222407629623737699             7       2020-11-19    158.844\n",
       "3     -9221115360712779506             6       2020-11-07    362.514\n",
       "4     -9221115360712779506             7       2020-11-07     92.194\n",
       "...                    ...           ...              ...        ...\n",
       "20261  9214623768181784609             4       2020-11-28     30.938\n",
       "20262  9215003010450134224             1       2020-11-28    142.352\n",
       "20263  9215379809662654789             3       2020-11-27    247.876\n",
       "20264  9216381112594331202             6       2020-11-28     30.938\n",
       "20265  9217228432531751818             1       2020-11-21     61.938\n",
       "\n",
       "[20266 rows x 4 columns]"
      ]
     },
     "execution_count": 24,
     "metadata": {},
     "output_type": "execute_result"
    }
   ],
   "source": [
    "rev_study_period.sort_values(by = ['user'])"
   ]
  },
  {
   "cell_type": "code",
   "execution_count": 25,
   "metadata": {},
   "outputs": [],
   "source": [
    "# Sum up day 60 revenue for users\n",
    "users_d60 = revenue_df[revenue_df['rev_day_diff'] == 60].groupby('user')\\\n",
    "                                                        .agg(revenue_d60 = ('revenue', 'sum'))\\\n",
    "                                                        .reset_index()"
   ]
  },
  {
   "cell_type": "code",
   "execution_count": 26,
   "metadata": {},
   "outputs": [
    {
     "data": {
      "text/html": [
       "<div>\n",
       "<style scoped>\n",
       "    .dataframe tbody tr th:only-of-type {\n",
       "        vertical-align: middle;\n",
       "    }\n",
       "\n",
       "    .dataframe tbody tr th {\n",
       "        vertical-align: top;\n",
       "    }\n",
       "\n",
       "    .dataframe thead th {\n",
       "        text-align: right;\n",
       "    }\n",
       "</style>\n",
       "<table border=\"1\" class=\"dataframe\">\n",
       "  <thead>\n",
       "    <tr style=\"text-align: right;\">\n",
       "      <th></th>\n",
       "      <th>user</th>\n",
       "      <th>revenue_d60</th>\n",
       "    </tr>\n",
       "  </thead>\n",
       "  <tbody>\n",
       "    <tr>\n",
       "      <th>0</th>\n",
       "      <td>-9207576918249685972</td>\n",
       "      <td>123.938</td>\n",
       "    </tr>\n",
       "    <tr>\n",
       "      <th>1</th>\n",
       "      <td>-9173585236325656261</td>\n",
       "      <td>123.938</td>\n",
       "    </tr>\n",
       "    <tr>\n",
       "      <th>2</th>\n",
       "      <td>-9162440965433711475</td>\n",
       "      <td>137.640</td>\n",
       "    </tr>\n",
       "    <tr>\n",
       "      <th>3</th>\n",
       "      <td>-9161367584164921409</td>\n",
       "      <td>30.814</td>\n",
       "    </tr>\n",
       "    <tr>\n",
       "      <th>4</th>\n",
       "      <td>-9157165326575102981</td>\n",
       "      <td>805.566</td>\n",
       "    </tr>\n",
       "  </tbody>\n",
       "</table>\n",
       "</div>"
      ],
      "text/plain": [
       "                  user  revenue_d60\n",
       "0 -9207576918249685972      123.938\n",
       "1 -9173585236325656261      123.938\n",
       "2 -9162440965433711475      137.640\n",
       "3 -9161367584164921409       30.814\n",
       "4 -9157165326575102981      805.566"
      ]
     },
     "execution_count": 26,
     "metadata": {},
     "output_type": "execute_result"
    }
   ],
   "source": [
    "users_d60.head()"
   ]
  },
  {
   "cell_type": "code",
   "execution_count": 27,
   "metadata": {},
   "outputs": [],
   "source": [
    "# Add day 60 revenue to the revenue table\n",
    "rev_study_period = rev_study_period.merge(users_d60, on = 'user', how = 'outer')"
   ]
  },
  {
   "cell_type": "code",
   "execution_count": 28,
   "metadata": {},
   "outputs": [
    {
     "data": {
      "text/html": [
       "<div>\n",
       "<style scoped>\n",
       "    .dataframe tbody tr th:only-of-type {\n",
       "        vertical-align: middle;\n",
       "    }\n",
       "\n",
       "    .dataframe tbody tr th {\n",
       "        vertical-align: top;\n",
       "    }\n",
       "\n",
       "    .dataframe thead th {\n",
       "        text-align: right;\n",
       "    }\n",
       "</style>\n",
       "<table border=\"1\" class=\"dataframe\">\n",
       "  <thead>\n",
       "    <tr style=\"text-align: right;\">\n",
       "      <th></th>\n",
       "      <th>user</th>\n",
       "      <th>rev_day_diff</th>\n",
       "      <th>install_datetime</th>\n",
       "      <th>daily_rev</th>\n",
       "      <th>revenue_d60</th>\n",
       "    </tr>\n",
       "  </thead>\n",
       "  <tbody>\n",
       "    <tr>\n",
       "      <th>0</th>\n",
       "      <td>-9223024671825712078</td>\n",
       "      <td>7.0</td>\n",
       "      <td>2020-11-06</td>\n",
       "      <td>86.614</td>\n",
       "      <td>NaN</td>\n",
       "    </tr>\n",
       "    <tr>\n",
       "      <th>1</th>\n",
       "      <td>-9222407629623737699</td>\n",
       "      <td>6.0</td>\n",
       "      <td>2020-11-19</td>\n",
       "      <td>63.488</td>\n",
       "      <td>NaN</td>\n",
       "    </tr>\n",
       "    <tr>\n",
       "      <th>2</th>\n",
       "      <td>-9222407629623737699</td>\n",
       "      <td>7.0</td>\n",
       "      <td>2020-11-19</td>\n",
       "      <td>158.844</td>\n",
       "      <td>NaN</td>\n",
       "    </tr>\n",
       "    <tr>\n",
       "      <th>3</th>\n",
       "      <td>-9221115360712779506</td>\n",
       "      <td>6.0</td>\n",
       "      <td>2020-11-07</td>\n",
       "      <td>362.514</td>\n",
       "      <td>NaN</td>\n",
       "    </tr>\n",
       "    <tr>\n",
       "      <th>4</th>\n",
       "      <td>-9221115360712779506</td>\n",
       "      <td>7.0</td>\n",
       "      <td>2020-11-07</td>\n",
       "      <td>92.194</td>\n",
       "      <td>NaN</td>\n",
       "    </tr>\n",
       "    <tr>\n",
       "      <th>...</th>\n",
       "      <td>...</td>\n",
       "      <td>...</td>\n",
       "      <td>...</td>\n",
       "      <td>...</td>\n",
       "      <td>...</td>\n",
       "    </tr>\n",
       "    <tr>\n",
       "      <th>20926</th>\n",
       "      <td>9125030842078137741</td>\n",
       "      <td>NaN</td>\n",
       "      <td>NaT</td>\n",
       "      <td>NaN</td>\n",
       "      <td>123.938</td>\n",
       "    </tr>\n",
       "    <tr>\n",
       "      <th>20927</th>\n",
       "      <td>9149422826372800343</td>\n",
       "      <td>NaN</td>\n",
       "      <td>NaT</td>\n",
       "      <td>NaN</td>\n",
       "      <td>123.938</td>\n",
       "    </tr>\n",
       "    <tr>\n",
       "      <th>20928</th>\n",
       "      <td>9179070853256280581</td>\n",
       "      <td>NaN</td>\n",
       "      <td>NaT</td>\n",
       "      <td>NaN</td>\n",
       "      <td>30.938</td>\n",
       "    </tr>\n",
       "    <tr>\n",
       "      <th>20929</th>\n",
       "      <td>9223133388388252066</td>\n",
       "      <td>NaN</td>\n",
       "      <td>NaT</td>\n",
       "      <td>NaN</td>\n",
       "      <td>123.938</td>\n",
       "    </tr>\n",
       "    <tr>\n",
       "      <th>20930</th>\n",
       "      <td>9223171701287020021</td>\n",
       "      <td>NaN</td>\n",
       "      <td>NaT</td>\n",
       "      <td>NaN</td>\n",
       "      <td>123.938</td>\n",
       "    </tr>\n",
       "  </tbody>\n",
       "</table>\n",
       "<p>20931 rows × 5 columns</p>\n",
       "</div>"
      ],
      "text/plain": [
       "                      user  rev_day_diff install_datetime  daily_rev  \\\n",
       "0     -9223024671825712078           7.0       2020-11-06     86.614   \n",
       "1     -9222407629623737699           6.0       2020-11-19     63.488   \n",
       "2     -9222407629623737699           7.0       2020-11-19    158.844   \n",
       "3     -9221115360712779506           6.0       2020-11-07    362.514   \n",
       "4     -9221115360712779506           7.0       2020-11-07     92.194   \n",
       "...                    ...           ...              ...        ...   \n",
       "20926  9125030842078137741           NaN              NaT        NaN   \n",
       "20927  9149422826372800343           NaN              NaT        NaN   \n",
       "20928  9179070853256280581           NaN              NaT        NaN   \n",
       "20929  9223133388388252066           NaN              NaT        NaN   \n",
       "20930  9223171701287020021           NaN              NaT        NaN   \n",
       "\n",
       "       revenue_d60  \n",
       "0              NaN  \n",
       "1              NaN  \n",
       "2              NaN  \n",
       "3              NaN  \n",
       "4              NaN  \n",
       "...            ...  \n",
       "20926      123.938  \n",
       "20927      123.938  \n",
       "20928       30.938  \n",
       "20929      123.938  \n",
       "20930      123.938  \n",
       "\n",
       "[20931 rows x 5 columns]"
      ]
     },
     "execution_count": 28,
     "metadata": {},
     "output_type": "execute_result"
    }
   ],
   "source": [
    "rev_study_period"
   ]
  },
  {
   "cell_type": "code",
   "execution_count": 29,
   "metadata": {},
   "outputs": [
    {
     "data": {
      "text/plain": [
       "1.0    4241\n",
       "2.0    3124\n",
       "3.0    2755\n",
       "5.0    2621\n",
       "4.0    2577\n",
       "6.0    2525\n",
       "7.0    2423\n",
       "Name: rev_day_diff, dtype: int64"
      ]
     },
     "execution_count": 29,
     "metadata": {},
     "output_type": "execute_result"
    }
   ],
   "source": [
    "rev_study_period['rev_day_diff'].value_counts()"
   ]
  },
  {
   "cell_type": "code",
   "execution_count": 30,
   "metadata": {},
   "outputs": [
    {
     "data": {
      "text/plain": [
       "5.0    279\n",
       "4.0    264\n",
       "6.0    261\n",
       "3.0    256\n",
       "2.0    255\n",
       "7.0    255\n",
       "1.0    253\n",
       "Name: rev_day_diff, dtype: int64"
      ]
     },
     "execution_count": 30,
     "metadata": {},
     "output_type": "execute_result"
    }
   ],
   "source": [
    "rev_study_period[rev_study_period['revenue_d60'] > 0]['rev_day_diff'].value_counts()"
   ]
  },
  {
   "cell_type": "code",
   "execution_count": 31,
   "metadata": {},
   "outputs": [
    {
     "data": {
      "text/plain": [
       "1.0    3988\n",
       "2.0    2869\n",
       "3.0    2499\n",
       "5.0    2342\n",
       "4.0    2313\n",
       "6.0    2264\n",
       "7.0    2168\n",
       "Name: rev_day_diff, dtype: int64"
      ]
     },
     "execution_count": 31,
     "metadata": {},
     "output_type": "execute_result"
    }
   ],
   "source": [
    "rev_study_period[rev_study_period['revenue_d60'].isnull()]['rev_day_diff'].value_counts()"
   ]
  },
  {
   "cell_type": "markdown",
   "metadata": {},
   "source": [
    "Compare payments within 7 days of installation by different day 60 revenue\n",
    "* Most payments were made right after the installation day.\n",
    "* No matter restricting to users with or without payments on day 60, most users made a payment on the first day after installation dates."
   ]
  },
  {
   "cell_type": "code",
   "execution_count": 32,
   "metadata": {},
   "outputs": [
    {
     "data": {
      "text/html": [
       "<div>\n",
       "<style scoped>\n",
       "    .dataframe tbody tr th:only-of-type {\n",
       "        vertical-align: middle;\n",
       "    }\n",
       "\n",
       "    .dataframe tbody tr th {\n",
       "        vertical-align: top;\n",
       "    }\n",
       "\n",
       "    .dataframe thead th {\n",
       "        text-align: right;\n",
       "    }\n",
       "</style>\n",
       "<table border=\"1\" class=\"dataframe\">\n",
       "  <thead>\n",
       "    <tr style=\"text-align: right;\">\n",
       "      <th></th>\n",
       "      <th></th>\n",
       "      <th>rev_day_diff</th>\n",
       "      <th>NaN</th>\n",
       "      <th>1.0</th>\n",
       "      <th>2.0</th>\n",
       "      <th>3.0</th>\n",
       "      <th>4.0</th>\n",
       "      <th>5.0</th>\n",
       "      <th>6.0</th>\n",
       "      <th>7.0</th>\n",
       "    </tr>\n",
       "    <tr>\n",
       "      <th>user</th>\n",
       "      <th>install_datetime</th>\n",
       "      <th>revenue_d60</th>\n",
       "      <th></th>\n",
       "      <th></th>\n",
       "      <th></th>\n",
       "      <th></th>\n",
       "      <th></th>\n",
       "      <th></th>\n",
       "      <th></th>\n",
       "      <th></th>\n",
       "    </tr>\n",
       "  </thead>\n",
       "  <tbody>\n",
       "    <tr>\n",
       "      <th>-9223024671825712078</th>\n",
       "      <th>2020-11-06</th>\n",
       "      <th>NaN</th>\n",
       "      <td>NaN</td>\n",
       "      <td>NaN</td>\n",
       "      <td>NaN</td>\n",
       "      <td>NaN</td>\n",
       "      <td>NaN</td>\n",
       "      <td>NaN</td>\n",
       "      <td>NaN</td>\n",
       "      <td>86.614</td>\n",
       "    </tr>\n",
       "    <tr>\n",
       "      <th>-9222407629623737699</th>\n",
       "      <th>2020-11-19</th>\n",
       "      <th>NaN</th>\n",
       "      <td>NaN</td>\n",
       "      <td>NaN</td>\n",
       "      <td>NaN</td>\n",
       "      <td>NaN</td>\n",
       "      <td>NaN</td>\n",
       "      <td>NaN</td>\n",
       "      <td>63.488</td>\n",
       "      <td>158.844</td>\n",
       "    </tr>\n",
       "    <tr>\n",
       "      <th>-9221115360712779506</th>\n",
       "      <th>2020-11-07</th>\n",
       "      <th>NaN</th>\n",
       "      <td>NaN</td>\n",
       "      <td>NaN</td>\n",
       "      <td>NaN</td>\n",
       "      <td>NaN</td>\n",
       "      <td>NaN</td>\n",
       "      <td>NaN</td>\n",
       "      <td>362.514</td>\n",
       "      <td>92.194</td>\n",
       "    </tr>\n",
       "    <tr>\n",
       "      <th>-9219913297147836699</th>\n",
       "      <th>2020-11-27</th>\n",
       "      <th>NaN</th>\n",
       "      <td>NaN</td>\n",
       "      <td>NaN</td>\n",
       "      <td>NaN</td>\n",
       "      <td>30.938</td>\n",
       "      <td>NaN</td>\n",
       "      <td>30.938</td>\n",
       "      <td>NaN</td>\n",
       "      <td>NaN</td>\n",
       "    </tr>\n",
       "    <tr>\n",
       "      <th>-9216925406964736628</th>\n",
       "      <th>2020-11-18</th>\n",
       "      <th>NaN</th>\n",
       "      <td>NaN</td>\n",
       "      <td>309.628</td>\n",
       "      <td>NaN</td>\n",
       "      <td>NaN</td>\n",
       "      <td>NaN</td>\n",
       "      <td>9.238</td>\n",
       "      <td>89.652</td>\n",
       "      <td>NaN</td>\n",
       "    </tr>\n",
       "  </tbody>\n",
       "</table>\n",
       "</div>"
      ],
      "text/plain": [
       "rev_day_diff                                       NaN      1.0  2.0     3.0  \\\n",
       "user                 install_datetime revenue_d60                              \n",
       "-9223024671825712078 2020-11-06       NaN          NaN      NaN  NaN     NaN   \n",
       "-9222407629623737699 2020-11-19       NaN          NaN      NaN  NaN     NaN   \n",
       "-9221115360712779506 2020-11-07       NaN          NaN      NaN  NaN     NaN   \n",
       "-9219913297147836699 2020-11-27       NaN          NaN      NaN  NaN  30.938   \n",
       "-9216925406964736628 2020-11-18       NaN          NaN  309.628  NaN     NaN   \n",
       "\n",
       "rev_day_diff                                       4.0     5.0      6.0  \\\n",
       "user                 install_datetime revenue_d60                         \n",
       "-9223024671825712078 2020-11-06       NaN          NaN     NaN      NaN   \n",
       "-9222407629623737699 2020-11-19       NaN          NaN     NaN   63.488   \n",
       "-9221115360712779506 2020-11-07       NaN          NaN     NaN  362.514   \n",
       "-9219913297147836699 2020-11-27       NaN          NaN  30.938      NaN   \n",
       "-9216925406964736628 2020-11-18       NaN          NaN   9.238   89.652   \n",
       "\n",
       "rev_day_diff                                           7.0  \n",
       "user                 install_datetime revenue_d60           \n",
       "-9223024671825712078 2020-11-06       NaN           86.614  \n",
       "-9222407629623737699 2020-11-19       NaN          158.844  \n",
       "-9221115360712779506 2020-11-07       NaN           92.194  \n",
       "-9219913297147836699 2020-11-27       NaN              NaN  \n",
       "-9216925406964736628 2020-11-18       NaN              NaN  "
      ]
     },
     "execution_count": 32,
     "metadata": {},
     "output_type": "execute_result"
    }
   ],
   "source": [
    "# Pivot daily revenues (7 days after installation)\n",
    "rev_daily = rev_study_period.pivot(index=['user', 'install_datetime', 'revenue_d60']\\\n",
    "                                   , columns='rev_day_diff'\\\n",
    "                                   , values='daily_rev')\n",
    "rev_daily.head()"
   ]
  },
  {
   "cell_type": "code",
   "execution_count": 33,
   "metadata": {},
   "outputs": [],
   "source": [
    "# Clean up column headers\n",
    "rev_daily.index.name\n",
    "rev_daily = rev_daily.rename_axis(None, axis=1).reset_index()"
   ]
  },
  {
   "cell_type": "code",
   "execution_count": 34,
   "metadata": {},
   "outputs": [
    {
     "data": {
      "text/html": [
       "<div>\n",
       "<style scoped>\n",
       "    .dataframe tbody tr th:only-of-type {\n",
       "        vertical-align: middle;\n",
       "    }\n",
       "\n",
       "    .dataframe tbody tr th {\n",
       "        vertical-align: top;\n",
       "    }\n",
       "\n",
       "    .dataframe thead th {\n",
       "        text-align: right;\n",
       "    }\n",
       "</style>\n",
       "<table border=\"1\" class=\"dataframe\">\n",
       "  <thead>\n",
       "    <tr style=\"text-align: right;\">\n",
       "      <th></th>\n",
       "      <th>user</th>\n",
       "      <th>install_datetime</th>\n",
       "      <th>revenue_d60</th>\n",
       "      <th>NaN</th>\n",
       "      <th>1.0</th>\n",
       "      <th>2.0</th>\n",
       "      <th>3.0</th>\n",
       "      <th>4.0</th>\n",
       "      <th>5.0</th>\n",
       "      <th>6.0</th>\n",
       "      <th>7.0</th>\n",
       "    </tr>\n",
       "  </thead>\n",
       "  <tbody>\n",
       "    <tr>\n",
       "      <th>0</th>\n",
       "      <td>-9223024671825712078</td>\n",
       "      <td>2020-11-06</td>\n",
       "      <td>NaN</td>\n",
       "      <td>NaN</td>\n",
       "      <td>NaN</td>\n",
       "      <td>NaN</td>\n",
       "      <td>NaN</td>\n",
       "      <td>NaN</td>\n",
       "      <td>NaN</td>\n",
       "      <td>NaN</td>\n",
       "      <td>86.614</td>\n",
       "    </tr>\n",
       "    <tr>\n",
       "      <th>1</th>\n",
       "      <td>-9222407629623737699</td>\n",
       "      <td>2020-11-19</td>\n",
       "      <td>NaN</td>\n",
       "      <td>NaN</td>\n",
       "      <td>NaN</td>\n",
       "      <td>NaN</td>\n",
       "      <td>NaN</td>\n",
       "      <td>NaN</td>\n",
       "      <td>NaN</td>\n",
       "      <td>63.488</td>\n",
       "      <td>158.844</td>\n",
       "    </tr>\n",
       "    <tr>\n",
       "      <th>2</th>\n",
       "      <td>-9221115360712779506</td>\n",
       "      <td>2020-11-07</td>\n",
       "      <td>NaN</td>\n",
       "      <td>NaN</td>\n",
       "      <td>NaN</td>\n",
       "      <td>NaN</td>\n",
       "      <td>NaN</td>\n",
       "      <td>NaN</td>\n",
       "      <td>NaN</td>\n",
       "      <td>362.514</td>\n",
       "      <td>92.194</td>\n",
       "    </tr>\n",
       "    <tr>\n",
       "      <th>3</th>\n",
       "      <td>-9219913297147836699</td>\n",
       "      <td>2020-11-27</td>\n",
       "      <td>NaN</td>\n",
       "      <td>NaN</td>\n",
       "      <td>NaN</td>\n",
       "      <td>NaN</td>\n",
       "      <td>30.938</td>\n",
       "      <td>NaN</td>\n",
       "      <td>30.938</td>\n",
       "      <td>NaN</td>\n",
       "      <td>NaN</td>\n",
       "    </tr>\n",
       "    <tr>\n",
       "      <th>4</th>\n",
       "      <td>-9216925406964736628</td>\n",
       "      <td>2020-11-18</td>\n",
       "      <td>NaN</td>\n",
       "      <td>NaN</td>\n",
       "      <td>309.628</td>\n",
       "      <td>NaN</td>\n",
       "      <td>NaN</td>\n",
       "      <td>NaN</td>\n",
       "      <td>9.238</td>\n",
       "      <td>89.652</td>\n",
       "      <td>NaN</td>\n",
       "    </tr>\n",
       "  </tbody>\n",
       "</table>\n",
       "</div>"
      ],
      "text/plain": [
       "                  user install_datetime  revenue_d60  NaN      1.0  2.0  \\\n",
       "0 -9223024671825712078       2020-11-06          NaN  NaN      NaN  NaN   \n",
       "1 -9222407629623737699       2020-11-19          NaN  NaN      NaN  NaN   \n",
       "2 -9221115360712779506       2020-11-07          NaN  NaN      NaN  NaN   \n",
       "3 -9219913297147836699       2020-11-27          NaN  NaN      NaN  NaN   \n",
       "4 -9216925406964736628       2020-11-18          NaN  NaN  309.628  NaN   \n",
       "\n",
       "      3.0  4.0     5.0      6.0      7.0  \n",
       "0     NaN  NaN     NaN      NaN   86.614  \n",
       "1     NaN  NaN     NaN   63.488  158.844  \n",
       "2     NaN  NaN     NaN  362.514   92.194  \n",
       "3  30.938  NaN  30.938      NaN      NaN  \n",
       "4     NaN  NaN   9.238   89.652      NaN  "
      ]
     },
     "execution_count": 34,
     "metadata": {},
     "output_type": "execute_result"
    }
   ],
   "source": [
    "rev_daily.head()"
   ]
  },
  {
   "cell_type": "code",
   "execution_count": 35,
   "metadata": {},
   "outputs": [],
   "source": [
    "# Remove the 'NaN' column\n",
    "# The NaN column is the value of revenue within the first 7 days when there's only payments on day 60\n",
    "rev_daily = rev_daily.loc[:, rev_daily.columns.notnull()]"
   ]
  },
  {
   "cell_type": "code",
   "execution_count": 36,
   "metadata": {},
   "outputs": [
    {
     "data": {
      "text/html": [
       "<div>\n",
       "<style scoped>\n",
       "    .dataframe tbody tr th:only-of-type {\n",
       "        vertical-align: middle;\n",
       "    }\n",
       "\n",
       "    .dataframe tbody tr th {\n",
       "        vertical-align: top;\n",
       "    }\n",
       "\n",
       "    .dataframe thead th {\n",
       "        text-align: right;\n",
       "    }\n",
       "</style>\n",
       "<table border=\"1\" class=\"dataframe\">\n",
       "  <thead>\n",
       "    <tr style=\"text-align: right;\">\n",
       "      <th></th>\n",
       "      <th>user</th>\n",
       "      <th>install_datetime</th>\n",
       "      <th>revenue_d60</th>\n",
       "      <th>1.0</th>\n",
       "      <th>2.0</th>\n",
       "      <th>3.0</th>\n",
       "      <th>4.0</th>\n",
       "      <th>5.0</th>\n",
       "      <th>6.0</th>\n",
       "      <th>7.0</th>\n",
       "    </tr>\n",
       "  </thead>\n",
       "  <tbody>\n",
       "    <tr>\n",
       "      <th>0</th>\n",
       "      <td>-9223024671825712078</td>\n",
       "      <td>2020-11-06</td>\n",
       "      <td>NaN</td>\n",
       "      <td>NaN</td>\n",
       "      <td>NaN</td>\n",
       "      <td>NaN</td>\n",
       "      <td>NaN</td>\n",
       "      <td>NaN</td>\n",
       "      <td>NaN</td>\n",
       "      <td>86.614</td>\n",
       "    </tr>\n",
       "    <tr>\n",
       "      <th>1</th>\n",
       "      <td>-9222407629623737699</td>\n",
       "      <td>2020-11-19</td>\n",
       "      <td>NaN</td>\n",
       "      <td>NaN</td>\n",
       "      <td>NaN</td>\n",
       "      <td>NaN</td>\n",
       "      <td>NaN</td>\n",
       "      <td>NaN</td>\n",
       "      <td>63.488</td>\n",
       "      <td>158.844</td>\n",
       "    </tr>\n",
       "    <tr>\n",
       "      <th>2</th>\n",
       "      <td>-9221115360712779506</td>\n",
       "      <td>2020-11-07</td>\n",
       "      <td>NaN</td>\n",
       "      <td>NaN</td>\n",
       "      <td>NaN</td>\n",
       "      <td>NaN</td>\n",
       "      <td>NaN</td>\n",
       "      <td>NaN</td>\n",
       "      <td>362.514</td>\n",
       "      <td>92.194</td>\n",
       "    </tr>\n",
       "    <tr>\n",
       "      <th>3</th>\n",
       "      <td>-9219913297147836699</td>\n",
       "      <td>2020-11-27</td>\n",
       "      <td>NaN</td>\n",
       "      <td>NaN</td>\n",
       "      <td>NaN</td>\n",
       "      <td>30.938</td>\n",
       "      <td>NaN</td>\n",
       "      <td>30.938</td>\n",
       "      <td>NaN</td>\n",
       "      <td>NaN</td>\n",
       "    </tr>\n",
       "    <tr>\n",
       "      <th>4</th>\n",
       "      <td>-9216925406964736628</td>\n",
       "      <td>2020-11-18</td>\n",
       "      <td>NaN</td>\n",
       "      <td>309.628</td>\n",
       "      <td>NaN</td>\n",
       "      <td>NaN</td>\n",
       "      <td>NaN</td>\n",
       "      <td>9.238</td>\n",
       "      <td>89.652</td>\n",
       "      <td>NaN</td>\n",
       "    </tr>\n",
       "  </tbody>\n",
       "</table>\n",
       "</div>"
      ],
      "text/plain": [
       "                  user install_datetime  revenue_d60      1.0  2.0     3.0  \\\n",
       "0 -9223024671825712078       2020-11-06          NaN      NaN  NaN     NaN   \n",
       "1 -9222407629623737699       2020-11-19          NaN      NaN  NaN     NaN   \n",
       "2 -9221115360712779506       2020-11-07          NaN      NaN  NaN     NaN   \n",
       "3 -9219913297147836699       2020-11-27          NaN      NaN  NaN  30.938   \n",
       "4 -9216925406964736628       2020-11-18          NaN  309.628  NaN     NaN   \n",
       "\n",
       "   4.0     5.0      6.0      7.0  \n",
       "0  NaN     NaN      NaN   86.614  \n",
       "1  NaN     NaN   63.488  158.844  \n",
       "2  NaN     NaN  362.514   92.194  \n",
       "3  NaN  30.938      NaN      NaN  \n",
       "4  NaN   9.238   89.652      NaN  "
      ]
     },
     "execution_count": 36,
     "metadata": {},
     "output_type": "execute_result"
    }
   ],
   "source": [
    "rev_daily.head()"
   ]
  },
  {
   "cell_type": "code",
   "execution_count": 37,
   "metadata": {},
   "outputs": [],
   "source": [
    "# Rename columns as rev_day_0, ..., rev_day_7\n",
    "rev_daily.rename(columns={1 : 'rev_day_1', 2 : 'rev_day_2', 3 : 'rev_day_3', 4 : 'rev_day_4'\\\n",
    "                          , 5 : 'rev_day_5', 6 : 'rev_day_6', 7 : 'rev_day_7'}\\\n",
    "                , inplace=True)"
   ]
  },
  {
   "cell_type": "code",
   "execution_count": 38,
   "metadata": {},
   "outputs": [
    {
     "data": {
      "text/html": [
       "<div>\n",
       "<style scoped>\n",
       "    .dataframe tbody tr th:only-of-type {\n",
       "        vertical-align: middle;\n",
       "    }\n",
       "\n",
       "    .dataframe tbody tr th {\n",
       "        vertical-align: top;\n",
       "    }\n",
       "\n",
       "    .dataframe thead th {\n",
       "        text-align: right;\n",
       "    }\n",
       "</style>\n",
       "<table border=\"1\" class=\"dataframe\">\n",
       "  <thead>\n",
       "    <tr style=\"text-align: right;\">\n",
       "      <th></th>\n",
       "      <th>user</th>\n",
       "      <th>revenue_d60</th>\n",
       "      <th>rev_day_1</th>\n",
       "      <th>rev_day_2</th>\n",
       "      <th>rev_day_3</th>\n",
       "      <th>rev_day_4</th>\n",
       "      <th>rev_day_5</th>\n",
       "      <th>rev_day_6</th>\n",
       "      <th>rev_day_7</th>\n",
       "    </tr>\n",
       "  </thead>\n",
       "  <tbody>\n",
       "    <tr>\n",
       "      <th>0</th>\n",
       "      <td>-9223024671825712078</td>\n",
       "      <td>NaN</td>\n",
       "      <td>NaN</td>\n",
       "      <td>NaN</td>\n",
       "      <td>NaN</td>\n",
       "      <td>NaN</td>\n",
       "      <td>NaN</td>\n",
       "      <td>NaN</td>\n",
       "      <td>86.614</td>\n",
       "    </tr>\n",
       "    <tr>\n",
       "      <th>1</th>\n",
       "      <td>-9222407629623737699</td>\n",
       "      <td>NaN</td>\n",
       "      <td>NaN</td>\n",
       "      <td>NaN</td>\n",
       "      <td>NaN</td>\n",
       "      <td>NaN</td>\n",
       "      <td>NaN</td>\n",
       "      <td>63.488</td>\n",
       "      <td>158.844</td>\n",
       "    </tr>\n",
       "    <tr>\n",
       "      <th>2</th>\n",
       "      <td>-9221115360712779506</td>\n",
       "      <td>NaN</td>\n",
       "      <td>NaN</td>\n",
       "      <td>NaN</td>\n",
       "      <td>NaN</td>\n",
       "      <td>NaN</td>\n",
       "      <td>NaN</td>\n",
       "      <td>362.514</td>\n",
       "      <td>92.194</td>\n",
       "    </tr>\n",
       "    <tr>\n",
       "      <th>3</th>\n",
       "      <td>-9219913297147836699</td>\n",
       "      <td>NaN</td>\n",
       "      <td>NaN</td>\n",
       "      <td>NaN</td>\n",
       "      <td>30.938</td>\n",
       "      <td>NaN</td>\n",
       "      <td>30.938</td>\n",
       "      <td>NaN</td>\n",
       "      <td>NaN</td>\n",
       "    </tr>\n",
       "    <tr>\n",
       "      <th>4</th>\n",
       "      <td>-9216925406964736628</td>\n",
       "      <td>NaN</td>\n",
       "      <td>309.628</td>\n",
       "      <td>NaN</td>\n",
       "      <td>NaN</td>\n",
       "      <td>NaN</td>\n",
       "      <td>9.238</td>\n",
       "      <td>89.652</td>\n",
       "      <td>NaN</td>\n",
       "    </tr>\n",
       "  </tbody>\n",
       "</table>\n",
       "</div>"
      ],
      "text/plain": [
       "                  user  revenue_d60  rev_day_1  rev_day_2  rev_day_3  \\\n",
       "0 -9223024671825712078          NaN        NaN        NaN        NaN   \n",
       "1 -9222407629623737699          NaN        NaN        NaN        NaN   \n",
       "2 -9221115360712779506          NaN        NaN        NaN        NaN   \n",
       "3 -9219913297147836699          NaN        NaN        NaN     30.938   \n",
       "4 -9216925406964736628          NaN    309.628        NaN        NaN   \n",
       "\n",
       "   rev_day_4  rev_day_5  rev_day_6  rev_day_7  \n",
       "0        NaN        NaN        NaN     86.614  \n",
       "1        NaN        NaN     63.488    158.844  \n",
       "2        NaN        NaN    362.514     92.194  \n",
       "3        NaN     30.938        NaN        NaN  \n",
       "4        NaN      9.238     89.652        NaN  "
      ]
     },
     "execution_count": 38,
     "metadata": {},
     "output_type": "execute_result"
    }
   ],
   "source": [
    "rev_daily = rev_daily.drop(['install_datetime'], axis = 1)\n",
    "rev_daily.head()"
   ]
  },
  {
   "cell_type": "code",
   "execution_count": 39,
   "metadata": {},
   "outputs": [
    {
     "data": {
      "text/html": [
       "<div>\n",
       "<style scoped>\n",
       "    .dataframe tbody tr th:only-of-type {\n",
       "        vertical-align: middle;\n",
       "    }\n",
       "\n",
       "    .dataframe tbody tr th {\n",
       "        vertical-align: top;\n",
       "    }\n",
       "\n",
       "    .dataframe thead th {\n",
       "        text-align: right;\n",
       "    }\n",
       "</style>\n",
       "<table border=\"1\" class=\"dataframe\">\n",
       "  <thead>\n",
       "    <tr style=\"text-align: right;\">\n",
       "      <th></th>\n",
       "      <th>user</th>\n",
       "      <th>event</th>\n",
       "      <th>event_time</th>\n",
       "      <th>event_datetime</th>\n",
       "      <th>install_datetime</th>\n",
       "      <th>events_day_diff</th>\n",
       "    </tr>\n",
       "  </thead>\n",
       "  <tbody>\n",
       "    <tr>\n",
       "      <th>4</th>\n",
       "      <td>987174099125648640</td>\n",
       "      <td>checkpoint_c</td>\n",
       "      <td>2020-12-03 17:23:01 UTC</td>\n",
       "      <td>2020-12-03 17:23:01</td>\n",
       "      <td>2020-11-29</td>\n",
       "      <td>4</td>\n",
       "    </tr>\n",
       "    <tr>\n",
       "      <th>7</th>\n",
       "      <td>-5875944197577849825</td>\n",
       "      <td>checkpoint_c</td>\n",
       "      <td>2020-12-04 05:12:55 UTC</td>\n",
       "      <td>2020-12-04 05:12:55</td>\n",
       "      <td>2020-11-30</td>\n",
       "      <td>4</td>\n",
       "    </tr>\n",
       "    <tr>\n",
       "      <th>8</th>\n",
       "      <td>880185644960156078</td>\n",
       "      <td>checkpoint_s</td>\n",
       "      <td>2020-12-02 03:48:11 UTC</td>\n",
       "      <td>2020-12-02 03:48:11</td>\n",
       "      <td>2020-11-29</td>\n",
       "      <td>3</td>\n",
       "    </tr>\n",
       "    <tr>\n",
       "      <th>9</th>\n",
       "      <td>-3854780075935461278</td>\n",
       "      <td>checkpoint_g</td>\n",
       "      <td>2020-12-01 22:33:13 UTC</td>\n",
       "      <td>2020-12-01 22:33:13</td>\n",
       "      <td>2020-11-25</td>\n",
       "      <td>6</td>\n",
       "    </tr>\n",
       "    <tr>\n",
       "      <th>15</th>\n",
       "      <td>-5695543000262062576</td>\n",
       "      <td>checkpoint_j</td>\n",
       "      <td>2020-11-08 04:39:40 UTC</td>\n",
       "      <td>2020-11-08 04:39:40</td>\n",
       "      <td>2020-11-01</td>\n",
       "      <td>7</td>\n",
       "    </tr>\n",
       "  </tbody>\n",
       "</table>\n",
       "</div>"
      ],
      "text/plain": [
       "                   user         event               event_time  \\\n",
       "4    987174099125648640  checkpoint_c  2020-12-03 17:23:01 UTC   \n",
       "7  -5875944197577849825  checkpoint_c  2020-12-04 05:12:55 UTC   \n",
       "8    880185644960156078  checkpoint_s  2020-12-02 03:48:11 UTC   \n",
       "9  -3854780075935461278  checkpoint_g  2020-12-01 22:33:13 UTC   \n",
       "15 -5695543000262062576  checkpoint_j  2020-11-08 04:39:40 UTC   \n",
       "\n",
       "        event_datetime install_datetime  events_day_diff  \n",
       "4  2020-12-03 17:23:01       2020-11-29                4  \n",
       "7  2020-12-04 05:12:55       2020-11-30                4  \n",
       "8  2020-12-02 03:48:11       2020-11-29                3  \n",
       "9  2020-12-01 22:33:13       2020-11-25                6  \n",
       "15 2020-11-08 04:39:40       2020-11-01                7  "
      ]
     },
     "execution_count": 39,
     "metadata": {},
     "output_type": "execute_result"
    }
   ],
   "source": [
    "# The table events_df is restricted to events 7 days after installation\n",
    "events_df.head()"
   ]
  },
  {
   "cell_type": "code",
   "execution_count": 40,
   "metadata": {},
   "outputs": [
    {
     "data": {
      "text/plain": [
       "(42684, 80389)"
      ]
     },
     "execution_count": 40,
     "metadata": {},
     "output_type": "execute_result"
    }
   ],
   "source": [
    "# Check if a user has more than one event on a day\n",
    "len(events_df.groupby(['user', 'events_day_diff'])), len(events_df)"
   ]
  },
  {
   "cell_type": "code",
   "execution_count": 41,
   "metadata": {},
   "outputs": [
    {
     "data": {
      "text/plain": [
       "(12919, 20931)"
      ]
     },
     "execution_count": 41,
     "metadata": {},
     "output_type": "execute_result"
    }
   ],
   "source": [
    "# Check if any user has multiple payments within 7 days of installation\n",
    "rev_study_period['user'].nunique(), len(rev_study_period['user'])"
   ]
  },
  {
   "cell_type": "markdown",
   "metadata": {},
   "source": [
    "Below shows payments came with the event '_iap_' after 7 days of installation, when there's at least a payment and an event on a day, there must be an '_iap_' event."
   ]
  },
  {
   "cell_type": "code",
   "execution_count": 56,
   "metadata": {},
   "outputs": [
    {
     "data": {
      "text/html": [
       "<div>\n",
       "<style scoped>\n",
       "    .dataframe tbody tr th:only-of-type {\n",
       "        vertical-align: middle;\n",
       "    }\n",
       "\n",
       "    .dataframe tbody tr th {\n",
       "        vertical-align: top;\n",
       "    }\n",
       "\n",
       "    .dataframe thead th {\n",
       "        text-align: right;\n",
       "    }\n",
       "</style>\n",
       "<table border=\"1\" class=\"dataframe\">\n",
       "  <thead>\n",
       "    <tr style=\"text-align: right;\">\n",
       "      <th></th>\n",
       "      <th>user</th>\n",
       "      <th>event</th>\n",
       "      <th>event_time</th>\n",
       "      <th>event_datetime</th>\n",
       "      <th>install_datetime</th>\n",
       "      <th>events_day_diff</th>\n",
       "      <th>daily_rev</th>\n",
       "      <th>rev_day_diff</th>\n",
       "    </tr>\n",
       "  </thead>\n",
       "  <tbody>\n",
       "    <tr>\n",
       "      <th>0</th>\n",
       "      <td>3630791608746977685</td>\n",
       "      <td>checkpoint_f</td>\n",
       "      <td>2020-12-02 02:26:02 UTC</td>\n",
       "      <td>2020-12-02 02:26:02</td>\n",
       "      <td>2020-11-29</td>\n",
       "      <td>3</td>\n",
       "      <td>37.138</td>\n",
       "      <td>3.0</td>\n",
       "    </tr>\n",
       "    <tr>\n",
       "      <th>1</th>\n",
       "      <td>3630791608746977685</td>\n",
       "      <td>__iap__</td>\n",
       "      <td>2020-12-02 16:34:49 UTC</td>\n",
       "      <td>2020-12-02 16:34:49</td>\n",
       "      <td>2020-11-29</td>\n",
       "      <td>3</td>\n",
       "      <td>37.138</td>\n",
       "      <td>3.0</td>\n",
       "    </tr>\n",
       "    <tr>\n",
       "      <th>2</th>\n",
       "      <td>-5996240097896480335</td>\n",
       "      <td>checkpoint_u</td>\n",
       "      <td>2020-11-20 12:47:09 UTC</td>\n",
       "      <td>2020-11-20 12:47:09</td>\n",
       "      <td>2020-11-16</td>\n",
       "      <td>4</td>\n",
       "      <td>23.622</td>\n",
       "      <td>4.0</td>\n",
       "    </tr>\n",
       "    <tr>\n",
       "      <th>3</th>\n",
       "      <td>-5996240097896480335</td>\n",
       "      <td>__iap__</td>\n",
       "      <td>2020-11-20 19:33:06 UTC</td>\n",
       "      <td>2020-11-20 19:33:06</td>\n",
       "      <td>2020-11-16</td>\n",
       "      <td>4</td>\n",
       "      <td>23.622</td>\n",
       "      <td>4.0</td>\n",
       "    </tr>\n",
       "    <tr>\n",
       "      <th>4</th>\n",
       "      <td>-5996240097896480335</td>\n",
       "      <td>__iap__</td>\n",
       "      <td>2020-11-20 19:32:29 UTC</td>\n",
       "      <td>2020-11-20 19:32:29</td>\n",
       "      <td>2020-11-16</td>\n",
       "      <td>4</td>\n",
       "      <td>23.622</td>\n",
       "      <td>4.0</td>\n",
       "    </tr>\n",
       "  </tbody>\n",
       "</table>\n",
       "</div>"
      ],
      "text/plain": [
       "                  user         event               event_time  \\\n",
       "0  3630791608746977685  checkpoint_f  2020-12-02 02:26:02 UTC   \n",
       "1  3630791608746977685       __iap__  2020-12-02 16:34:49 UTC   \n",
       "2 -5996240097896480335  checkpoint_u  2020-11-20 12:47:09 UTC   \n",
       "3 -5996240097896480335       __iap__  2020-11-20 19:33:06 UTC   \n",
       "4 -5996240097896480335       __iap__  2020-11-20 19:32:29 UTC   \n",
       "\n",
       "       event_datetime install_datetime  events_day_diff  daily_rev  \\\n",
       "0 2020-12-02 02:26:02       2020-11-29                3     37.138   \n",
       "1 2020-12-02 16:34:49       2020-11-29                3     37.138   \n",
       "2 2020-11-20 12:47:09       2020-11-16                4     23.622   \n",
       "3 2020-11-20 19:33:06       2020-11-16                4     23.622   \n",
       "4 2020-11-20 19:32:29       2020-11-16                4     23.622   \n",
       "\n",
       "   rev_day_diff  \n",
       "0           3.0  \n",
       "1           3.0  \n",
       "2           4.0  \n",
       "3           4.0  \n",
       "4           4.0  "
      ]
     },
     "execution_count": 56,
     "metadata": {},
     "output_type": "execute_result"
    }
   ],
   "source": [
    "# Check the relationshiop between events and payments\n",
    "events_revenue = events_df.merge(rev_study_period[['user', 'daily_rev', 'rev_day_diff']]\\\n",
    "                                  , left_on = ['user', 'events_day_diff'], right_on = ['user', 'rev_day_diff']\\\n",
    "                                  , how = 'inner')\n",
    "events_revenue.head()"
   ]
  },
  {
   "cell_type": "code",
   "execution_count": 57,
   "metadata": {},
   "outputs": [
    {
     "data": {
      "text/plain": [
       "array(['checkpoint_f', '__iap__', 'checkpoint_u', 'checkpoint_c',\n",
       "       'checkpoint_d', 'checkpoint_b', 'checkpoint_a',\n",
       "       'tutorial_complete', 'checkpoint_e', 'checkpoint_x',\n",
       "       'checkpoint_g', 'checkpoint_h', 'checkpoint_w',\n",
       "       'STEP_INIT_SESSION'], dtype=object)"
      ]
     },
     "execution_count": 57,
     "metadata": {},
     "output_type": "execute_result"
    }
   ],
   "source": [
    "events_revenue['event'].unique()"
   ]
  },
  {
   "cell_type": "code",
   "execution_count": 58,
   "metadata": {},
   "outputs": [
    {
     "data": {
      "text/plain": [
       "array(['checkpoint_c', 'checkpoint_s', 'checkpoint_g', 'checkpoint_j',\n",
       "       '__UNINSTALL__', 'checkpoint_d', 'checkpoint_b', 'checkpoint_f',\n",
       "       'checkpoint_e', 'checkpoint_l', 'checkpoint_h', 'checkpoint_n',\n",
       "       'checkpoint_u', 'checkpoint_k', 'checkpoint_p', 'checkpoint_m',\n",
       "       'checkpoint_i', '__REINSTALL__', 'checkpoint_o', 'checkpoint_x',\n",
       "       'checkpoint_t', 'LogInDone', 'checkpoint_r', 'checkpoint_v',\n",
       "       'checkpoint_z', 'checkpoint_q', 'checkpoint_w', 'checkpoint_y',\n",
       "       '__iap__', 'checkpoint_a', 'STEP_INIT_SESSION',\n",
       "       'tutorial_complete'], dtype=object)"
      ]
     },
     "execution_count": 58,
     "metadata": {},
     "output_type": "execute_result"
    }
   ],
   "source": [
    "# Check types of events within 7 days of installation\n",
    "events_df['event'].unique()"
   ]
  },
  {
   "cell_type": "code",
   "execution_count": 59,
   "metadata": {},
   "outputs": [
    {
     "data": {
      "text/plain": [
       "array(['checkpoint_c', 'checkpoint_s', 'checkpoint_g', 'checkpoint_j',\n",
       "       '__UNINSTALL__', 'checkpoint_d', 'checkpoint_b', 'checkpoint_f',\n",
       "       'checkpoint_e', 'checkpoint_l', 'checkpoint_h', 'checkpoint_n',\n",
       "       'checkpoint_u', 'checkpoint_k', 'checkpoint_p', 'checkpoint_m',\n",
       "       'checkpoint_i', '__REINSTALL__', 'checkpoint_o', 'checkpoint_x',\n",
       "       'checkpoint_t', 'LogInDone', 'checkpoint_r', 'checkpoint_v',\n",
       "       'checkpoint_z', 'checkpoint_q', 'checkpoint_w', 'checkpoint_y',\n",
       "       '__iap__', 'checkpoint_a', 'STEP_INIT_SESSION',\n",
       "       'tutorial_complete'], dtype=object)"
      ]
     },
     "execution_count": 59,
     "metadata": {},
     "output_type": "execute_result"
    }
   ],
   "source": [
    "# Combine 'Tutorial Complete' and 'tutorial_complete'\n",
    "events_df = events_df.replace('Tutorial Complete', 'tutorial_complete')\n",
    "events_df['event'].unique()"
   ]
  },
  {
   "cell_type": "code",
   "execution_count": 60,
   "metadata": {},
   "outputs": [
    {
     "data": {
      "text/html": [
       "<div>\n",
       "<style scoped>\n",
       "    .dataframe tbody tr th:only-of-type {\n",
       "        vertical-align: middle;\n",
       "    }\n",
       "\n",
       "    .dataframe tbody tr th {\n",
       "        vertical-align: top;\n",
       "    }\n",
       "\n",
       "    .dataframe thead th {\n",
       "        text-align: right;\n",
       "    }\n",
       "</style>\n",
       "<table border=\"1\" class=\"dataframe\">\n",
       "  <thead>\n",
       "    <tr style=\"text-align: right;\">\n",
       "      <th></th>\n",
       "      <th>user</th>\n",
       "      <th>events_day_diff</th>\n",
       "      <th>events_types</th>\n",
       "      <th>rev_day_diff</th>\n",
       "      <th>daily_rev</th>\n",
       "    </tr>\n",
       "  </thead>\n",
       "  <tbody>\n",
       "    <tr>\n",
       "      <th>0</th>\n",
       "      <td>-9223024671825712078</td>\n",
       "      <td>7</td>\n",
       "      <td>1</td>\n",
       "      <td>7.0</td>\n",
       "      <td>86.614</td>\n",
       "    </tr>\n",
       "    <tr>\n",
       "      <th>1</th>\n",
       "      <td>-9222449106698282755</td>\n",
       "      <td>1</td>\n",
       "      <td>0</td>\n",
       "      <td>NaN</td>\n",
       "      <td>NaN</td>\n",
       "    </tr>\n",
       "    <tr>\n",
       "      <th>2</th>\n",
       "      <td>-9222407629623737699</td>\n",
       "      <td>6</td>\n",
       "      <td>1</td>\n",
       "      <td>6.0</td>\n",
       "      <td>63.488</td>\n",
       "    </tr>\n",
       "    <tr>\n",
       "      <th>3</th>\n",
       "      <td>-9222407629623737699</td>\n",
       "      <td>7</td>\n",
       "      <td>1</td>\n",
       "      <td>7.0</td>\n",
       "      <td>158.844</td>\n",
       "    </tr>\n",
       "    <tr>\n",
       "      <th>4</th>\n",
       "      <td>-9221675257351750983</td>\n",
       "      <td>1</td>\n",
       "      <td>0</td>\n",
       "      <td>NaN</td>\n",
       "      <td>NaN</td>\n",
       "    </tr>\n",
       "  </tbody>\n",
       "</table>\n",
       "</div>"
      ],
      "text/plain": [
       "                  user  events_day_diff  events_types  rev_day_diff  daily_rev\n",
       "0 -9223024671825712078                7             1           7.0     86.614\n",
       "1 -9222449106698282755                1             0           NaN        NaN\n",
       "2 -9222407629623737699                6             1           6.0     63.488\n",
       "3 -9222407629623737699                7             1           7.0    158.844\n",
       "4 -9221675257351750983                1             0           NaN        NaN"
      ]
     },
     "execution_count": 60,
     "metadata": {},
     "output_type": "execute_result"
    }
   ],
   "source": [
    "# When there's a '__iap__' event on a day within 7 days of installation, is it guaranteed to be a day with payments?\n",
    "# When there's a payment, is it guaranteed that there's a '__iap__' event on the same day?\n",
    "events_df['iap_or_not'] = np.where(events_df['event'] == '__iap__', 1, 0)\n",
    "events_checks = events_df.groupby(['user', 'events_day_diff'])\\\n",
    "                         .agg(events_types = ('iap_or_not', 'max'))\\\n",
    "                         .reset_index()\n",
    "events_checks = events_checks.merge(rev_study_period[['user', 'rev_day_diff', 'daily_rev']]\\\n",
    "                                   , left_on = ['user', 'events_day_diff'], right_on = ['user', 'rev_day_diff']\\\n",
    "                                   , how = 'left')\n",
    "events_checks.head()"
   ]
  },
  {
   "cell_type": "code",
   "execution_count": 61,
   "metadata": {},
   "outputs": [
    {
     "data": {
      "text/html": [
       "<div>\n",
       "<style scoped>\n",
       "    .dataframe tbody tr th:only-of-type {\n",
       "        vertical-align: middle;\n",
       "    }\n",
       "\n",
       "    .dataframe tbody tr th {\n",
       "        vertical-align: top;\n",
       "    }\n",
       "\n",
       "    .dataframe thead th {\n",
       "        text-align: right;\n",
       "    }\n",
       "</style>\n",
       "<table border=\"1\" class=\"dataframe\">\n",
       "  <thead>\n",
       "    <tr style=\"text-align: right;\">\n",
       "      <th></th>\n",
       "      <th>user</th>\n",
       "      <th>events_day_diff</th>\n",
       "      <th>events_types</th>\n",
       "      <th>rev_day_diff</th>\n",
       "      <th>daily_rev</th>\n",
       "    </tr>\n",
       "  </thead>\n",
       "  <tbody>\n",
       "  </tbody>\n",
       "</table>\n",
       "</div>"
      ],
      "text/plain": [
       "Empty DataFrame\n",
       "Columns: [user, events_day_diff, events_types, rev_day_diff, daily_rev]\n",
       "Index: []"
      ]
     },
     "execution_count": 61,
     "metadata": {},
     "output_type": "execute_result"
    }
   ],
   "source": [
    "events_checks[(events_checks['events_types'] == 1) & (events_checks['rev_day_diff'].isnull())]"
   ]
  },
  {
   "cell_type": "code",
   "execution_count": 62,
   "metadata": {},
   "outputs": [
    {
     "data": {
      "text/html": [
       "<div>\n",
       "<style scoped>\n",
       "    .dataframe tbody tr th:only-of-type {\n",
       "        vertical-align: middle;\n",
       "    }\n",
       "\n",
       "    .dataframe tbody tr th {\n",
       "        vertical-align: top;\n",
       "    }\n",
       "\n",
       "    .dataframe thead th {\n",
       "        text-align: right;\n",
       "    }\n",
       "</style>\n",
       "<table border=\"1\" class=\"dataframe\">\n",
       "  <thead>\n",
       "    <tr style=\"text-align: right;\">\n",
       "      <th></th>\n",
       "      <th>user</th>\n",
       "      <th>events_day_diff</th>\n",
       "      <th>events_types</th>\n",
       "      <th>rev_day_diff</th>\n",
       "      <th>daily_rev</th>\n",
       "    </tr>\n",
       "  </thead>\n",
       "  <tbody>\n",
       "  </tbody>\n",
       "</table>\n",
       "</div>"
      ],
      "text/plain": [
       "Empty DataFrame\n",
       "Columns: [user, events_day_diff, events_types, rev_day_diff, daily_rev]\n",
       "Index: []"
      ]
     },
     "execution_count": 62,
     "metadata": {},
     "output_type": "execute_result"
    }
   ],
   "source": [
    "events_checks[(events_checks['events_types'] == 0) & (events_checks['rev_day_diff'].isnull() == 0)]"
   ]
  },
  {
   "cell_type": "markdown",
   "metadata": {},
   "source": [
    "Note:\n",
    "* When there's a '_iap_' on a day within 7 days of installation, there's always a payment made on the same day.\n",
    "* When there's a payment on a day within 7 days of installation, there's always a '_iap_' on that day."
   ]
  },
  {
   "cell_type": "code",
   "execution_count": 63,
   "metadata": {},
   "outputs": [
    {
     "data": {
      "text/plain": [
       "__iap__              91672\n",
       "STEP_INIT_SESSION     2802\n",
       "tutorial_complete     1052\n",
       "checkpoint_a           891\n",
       "checkpoint_d            14\n",
       "checkpoint_c            13\n",
       "checkpoint_b            12\n",
       "checkpoint_f             9\n",
       "checkpoint_e             9\n",
       "checkpoint_g             8\n",
       "checkpoint_h             8\n",
       "checkpoint_i             7\n",
       "checkpoint_w             4\n",
       "checkpoint_x             3\n",
       "checkpoint_j             2\n",
       "checkpoint_r             2\n",
       "checkpoint_u             1\n",
       "checkpoint_s             1\n",
       "checkpoint_k             1\n",
       "checkpoint_q             1\n",
       "checkpoint_m             1\n",
       "Name: event, dtype: int64"
      ]
     },
     "execution_count": 63,
     "metadata": {},
     "output_type": "execute_result"
    }
   ],
   "source": [
    "# Check what events came together with '_iap_'\n",
    "events_checks_types = events_df.merge(events_checks[['user', 'events_day_diff', 'events_types']]\\\n",
    "                                      , how = 'left', on = 'user')\n",
    "events_checks_types[events_checks_types['events_types'] == 1]['event'].value_counts()"
   ]
  },
  {
   "cell_type": "markdown",
   "metadata": {},
   "source": [
    "Tutorial_complete, checkpoint_a and step_init_session have siginificantly more counts on the days with iap events (payments)."
   ]
  },
  {
   "cell_type": "markdown",
   "metadata": {},
   "source": [
    "Below I check if the number of daily 'iap' events within 7 days of installation affected the day 60 revenue"
   ]
  },
  {
   "cell_type": "code",
   "execution_count": 64,
   "metadata": {},
   "outputs": [
    {
     "data": {
      "text/html": [
       "<div>\n",
       "<style scoped>\n",
       "    .dataframe tbody tr th:only-of-type {\n",
       "        vertical-align: middle;\n",
       "    }\n",
       "\n",
       "    .dataframe tbody tr th {\n",
       "        vertical-align: top;\n",
       "    }\n",
       "\n",
       "    .dataframe thead th {\n",
       "        text-align: right;\n",
       "    }\n",
       "</style>\n",
       "<table border=\"1\" class=\"dataframe\">\n",
       "  <thead>\n",
       "    <tr style=\"text-align: right;\">\n",
       "      <th></th>\n",
       "      <th>user</th>\n",
       "      <th>event</th>\n",
       "      <th>event_time</th>\n",
       "      <th>event_datetime</th>\n",
       "      <th>install_datetime</th>\n",
       "      <th>events_day_diff</th>\n",
       "      <th>iap_or_not</th>\n",
       "      <th>events_category</th>\n",
       "    </tr>\n",
       "  </thead>\n",
       "  <tbody>\n",
       "    <tr>\n",
       "      <th>4</th>\n",
       "      <td>987174099125648640</td>\n",
       "      <td>checkpoint_c</td>\n",
       "      <td>2020-12-03 17:23:01 UTC</td>\n",
       "      <td>2020-12-03 17:23:01</td>\n",
       "      <td>2020-11-29</td>\n",
       "      <td>4</td>\n",
       "      <td>0</td>\n",
       "      <td>1</td>\n",
       "    </tr>\n",
       "    <tr>\n",
       "      <th>7</th>\n",
       "      <td>-5875944197577849825</td>\n",
       "      <td>checkpoint_c</td>\n",
       "      <td>2020-12-04 05:12:55 UTC</td>\n",
       "      <td>2020-12-04 05:12:55</td>\n",
       "      <td>2020-11-30</td>\n",
       "      <td>4</td>\n",
       "      <td>0</td>\n",
       "      <td>1</td>\n",
       "    </tr>\n",
       "    <tr>\n",
       "      <th>8</th>\n",
       "      <td>880185644960156078</td>\n",
       "      <td>checkpoint_s</td>\n",
       "      <td>2020-12-02 03:48:11 UTC</td>\n",
       "      <td>2020-12-02 03:48:11</td>\n",
       "      <td>2020-11-29</td>\n",
       "      <td>3</td>\n",
       "      <td>0</td>\n",
       "      <td>1</td>\n",
       "    </tr>\n",
       "    <tr>\n",
       "      <th>9</th>\n",
       "      <td>-3854780075935461278</td>\n",
       "      <td>checkpoint_g</td>\n",
       "      <td>2020-12-01 22:33:13 UTC</td>\n",
       "      <td>2020-12-01 22:33:13</td>\n",
       "      <td>2020-11-25</td>\n",
       "      <td>6</td>\n",
       "      <td>0</td>\n",
       "      <td>1</td>\n",
       "    </tr>\n",
       "    <tr>\n",
       "      <th>15</th>\n",
       "      <td>-5695543000262062576</td>\n",
       "      <td>checkpoint_j</td>\n",
       "      <td>2020-11-08 04:39:40 UTC</td>\n",
       "      <td>2020-11-08 04:39:40</td>\n",
       "      <td>2020-11-01</td>\n",
       "      <td>7</td>\n",
       "      <td>0</td>\n",
       "      <td>1</td>\n",
       "    </tr>\n",
       "  </tbody>\n",
       "</table>\n",
       "</div>"
      ],
      "text/plain": [
       "                   user         event               event_time  \\\n",
       "4    987174099125648640  checkpoint_c  2020-12-03 17:23:01 UTC   \n",
       "7  -5875944197577849825  checkpoint_c  2020-12-04 05:12:55 UTC   \n",
       "8    880185644960156078  checkpoint_s  2020-12-02 03:48:11 UTC   \n",
       "9  -3854780075935461278  checkpoint_g  2020-12-01 22:33:13 UTC   \n",
       "15 -5695543000262062576  checkpoint_j  2020-11-08 04:39:40 UTC   \n",
       "\n",
       "        event_datetime install_datetime  events_day_diff  iap_or_not  \\\n",
       "4  2020-12-03 17:23:01       2020-11-29                4           0   \n",
       "7  2020-12-04 05:12:55       2020-11-30                4           0   \n",
       "8  2020-12-02 03:48:11       2020-11-29                3           0   \n",
       "9  2020-12-01 22:33:13       2020-11-25                6           0   \n",
       "15 2020-11-08 04:39:40       2020-11-01                7           0   \n",
       "\n",
       "    events_category  \n",
       "4                 1  \n",
       "7                 1  \n",
       "8                 1  \n",
       "9                 1  \n",
       "15                1  "
      ]
     },
     "execution_count": 64,
     "metadata": {},
     "output_type": "execute_result"
    }
   ],
   "source": [
    "# Assign events_category = 4 if __iap__, 3 if tutorial_complete or checkpoint_a, 2 if step_init_session\n",
    "# 1 otherwise\n",
    "conditions = [events_df['event'] == '__iap__'\\\n",
    "             , events_df['event'].isin(('tutorial_complete', 'checkpoint_a'))\\\n",
    "             , events_df['event'] == 'STEP_INIT_SESSION'\n",
    "             ]\n",
    "# Assign the event cloest related to payments with the highest value (ordered)\n",
    "choices = [4, 3, 2]\n",
    "events_df['events_category'] = np.select(conditions, choices, default=1)\n",
    "events_df.head()"
   ]
  },
  {
   "cell_type": "code",
   "execution_count": 66,
   "metadata": {},
   "outputs": [
    {
     "data": {
      "text/plain": [
       "(0, 0, 0, 0)"
      ]
     },
     "execution_count": 66,
     "metadata": {},
     "output_type": "execute_result"
    }
   ],
   "source": [
    "# Check if users in events and revenue datasets are a subset of users in the user dataset\n",
    "sum(~events_df['user'].isin(users_df['user'])), sum(~users_d60['user'].isin(users_df['user']))\\\n",
    ", sum(~rev_study_period['user'].isin(users_df['user'])), sum(~rev_daily['user'].isin(users_df['user']))"
   ]
  },
  {
   "cell_type": "markdown",
   "metadata": {},
   "source": [
    "Users in events (within 7 days of installation) and revenue datasets (within 7 days of installation or on day 60) are a subset of users in the user dataset"
   ]
  },
  {
   "cell_type": "markdown",
   "metadata": {},
   "source": [
    "The weakness of this approach (summing up the encoded and ordered events per day as a new feature) is that a player might just had many irrelevant events ('1' in the above condition) but ended up with a pretty large 'events_category' value. To compensate this, I created a new feature by multiplying the total number of 'iap' events and the 'events_category,' so that when there's no 'iap' events on a day, this user's new feature will be zero. Before that, let's explore the replationship between the day 60 revenue and the total number of 'iap,' and the total number of 'tutorial_complete' plus 'checkpoint_a' (two most relevant to 'iap') on a day."
   ]
  },
  {
   "cell_type": "code",
   "execution_count": 67,
   "metadata": {},
   "outputs": [
    {
     "data": {
      "text/html": [
       "<div>\n",
       "<style scoped>\n",
       "    .dataframe tbody tr th:only-of-type {\n",
       "        vertical-align: middle;\n",
       "    }\n",
       "\n",
       "    .dataframe tbody tr th {\n",
       "        vertical-align: top;\n",
       "    }\n",
       "\n",
       "    .dataframe thead th {\n",
       "        text-align: right;\n",
       "    }\n",
       "</style>\n",
       "<table border=\"1\" class=\"dataframe\">\n",
       "  <thead>\n",
       "    <tr style=\"text-align: right;\">\n",
       "      <th></th>\n",
       "      <th>user</th>\n",
       "      <th>event</th>\n",
       "      <th>event_time</th>\n",
       "      <th>event_datetime</th>\n",
       "      <th>install_datetime</th>\n",
       "      <th>events_day_diff</th>\n",
       "      <th>iap_or_not</th>\n",
       "      <th>events_category</th>\n",
       "      <th>tutorial_a</th>\n",
       "    </tr>\n",
       "  </thead>\n",
       "  <tbody>\n",
       "    <tr>\n",
       "      <th>4</th>\n",
       "      <td>987174099125648640</td>\n",
       "      <td>checkpoint_c</td>\n",
       "      <td>2020-12-03 17:23:01 UTC</td>\n",
       "      <td>2020-12-03 17:23:01</td>\n",
       "      <td>2020-11-29</td>\n",
       "      <td>4</td>\n",
       "      <td>0</td>\n",
       "      <td>1</td>\n",
       "      <td>0</td>\n",
       "    </tr>\n",
       "    <tr>\n",
       "      <th>7</th>\n",
       "      <td>-5875944197577849825</td>\n",
       "      <td>checkpoint_c</td>\n",
       "      <td>2020-12-04 05:12:55 UTC</td>\n",
       "      <td>2020-12-04 05:12:55</td>\n",
       "      <td>2020-11-30</td>\n",
       "      <td>4</td>\n",
       "      <td>0</td>\n",
       "      <td>1</td>\n",
       "      <td>0</td>\n",
       "    </tr>\n",
       "    <tr>\n",
       "      <th>8</th>\n",
       "      <td>880185644960156078</td>\n",
       "      <td>checkpoint_s</td>\n",
       "      <td>2020-12-02 03:48:11 UTC</td>\n",
       "      <td>2020-12-02 03:48:11</td>\n",
       "      <td>2020-11-29</td>\n",
       "      <td>3</td>\n",
       "      <td>0</td>\n",
       "      <td>1</td>\n",
       "      <td>0</td>\n",
       "    </tr>\n",
       "    <tr>\n",
       "      <th>9</th>\n",
       "      <td>-3854780075935461278</td>\n",
       "      <td>checkpoint_g</td>\n",
       "      <td>2020-12-01 22:33:13 UTC</td>\n",
       "      <td>2020-12-01 22:33:13</td>\n",
       "      <td>2020-11-25</td>\n",
       "      <td>6</td>\n",
       "      <td>0</td>\n",
       "      <td>1</td>\n",
       "      <td>0</td>\n",
       "    </tr>\n",
       "    <tr>\n",
       "      <th>15</th>\n",
       "      <td>-5695543000262062576</td>\n",
       "      <td>checkpoint_j</td>\n",
       "      <td>2020-11-08 04:39:40 UTC</td>\n",
       "      <td>2020-11-08 04:39:40</td>\n",
       "      <td>2020-11-01</td>\n",
       "      <td>7</td>\n",
       "      <td>0</td>\n",
       "      <td>1</td>\n",
       "      <td>0</td>\n",
       "    </tr>\n",
       "  </tbody>\n",
       "</table>\n",
       "</div>"
      ],
      "text/plain": [
       "                   user         event               event_time  \\\n",
       "4    987174099125648640  checkpoint_c  2020-12-03 17:23:01 UTC   \n",
       "7  -5875944197577849825  checkpoint_c  2020-12-04 05:12:55 UTC   \n",
       "8    880185644960156078  checkpoint_s  2020-12-02 03:48:11 UTC   \n",
       "9  -3854780075935461278  checkpoint_g  2020-12-01 22:33:13 UTC   \n",
       "15 -5695543000262062576  checkpoint_j  2020-11-08 04:39:40 UTC   \n",
       "\n",
       "        event_datetime install_datetime  events_day_diff  iap_or_not  \\\n",
       "4  2020-12-03 17:23:01       2020-11-29                4           0   \n",
       "7  2020-12-04 05:12:55       2020-11-30                4           0   \n",
       "8  2020-12-02 03:48:11       2020-11-29                3           0   \n",
       "9  2020-12-01 22:33:13       2020-11-25                6           0   \n",
       "15 2020-11-08 04:39:40       2020-11-01                7           0   \n",
       "\n",
       "    events_category  tutorial_a  \n",
       "4                 1           0  \n",
       "7                 1           0  \n",
       "8                 1           0  \n",
       "9                 1           0  \n",
       "15                1           0  "
      ]
     },
     "execution_count": 67,
     "metadata": {},
     "output_type": "execute_result"
    }
   ],
   "source": [
    "# Create a feature as the indicator of having tutorial_complete or checkpoint_a on a day\n",
    "events_df['tutorial_a'] = np.where(events_df['event'].isin(('tutorial_complete', 'checkpoint_a')), 1, 0)\n",
    "events_df.head()"
   ]
  },
  {
   "cell_type": "markdown",
   "metadata": {},
   "source": [
    "To see if it worths adding 'lap_total' and 'tutorial_a_total' to models, check their relationship with day 60 revenue."
   ]
  },
  {
   "cell_type": "code",
   "execution_count": 68,
   "metadata": {},
   "outputs": [
    {
     "data": {
      "text/html": [
       "<div>\n",
       "<style scoped>\n",
       "    .dataframe tbody tr th:only-of-type {\n",
       "        vertical-align: middle;\n",
       "    }\n",
       "\n",
       "    .dataframe tbody tr th {\n",
       "        vertical-align: top;\n",
       "    }\n",
       "\n",
       "    .dataframe thead th {\n",
       "        text-align: right;\n",
       "    }\n",
       "</style>\n",
       "<table border=\"1\" class=\"dataframe\">\n",
       "  <thead>\n",
       "    <tr style=\"text-align: right;\">\n",
       "      <th></th>\n",
       "      <th>user</th>\n",
       "      <th>iap_total</th>\n",
       "      <th>tutorial_a_total</th>\n",
       "      <th>revenue_d60</th>\n",
       "    </tr>\n",
       "  </thead>\n",
       "  <tbody>\n",
       "    <tr>\n",
       "      <th>0</th>\n",
       "      <td>-9223024671825712078</td>\n",
       "      <td>3</td>\n",
       "      <td>0</td>\n",
       "      <td>0.0</td>\n",
       "    </tr>\n",
       "    <tr>\n",
       "      <th>1</th>\n",
       "      <td>-9222449106698282755</td>\n",
       "      <td>0</td>\n",
       "      <td>2</td>\n",
       "      <td>0.0</td>\n",
       "    </tr>\n",
       "    <tr>\n",
       "      <th>2</th>\n",
       "      <td>-9222407629623737699</td>\n",
       "      <td>3</td>\n",
       "      <td>0</td>\n",
       "      <td>0.0</td>\n",
       "    </tr>\n",
       "    <tr>\n",
       "      <th>3</th>\n",
       "      <td>-9221675257351750983</td>\n",
       "      <td>0</td>\n",
       "      <td>1</td>\n",
       "      <td>0.0</td>\n",
       "    </tr>\n",
       "    <tr>\n",
       "      <th>4</th>\n",
       "      <td>-9221115360712779506</td>\n",
       "      <td>4</td>\n",
       "      <td>0</td>\n",
       "      <td>0.0</td>\n",
       "    </tr>\n",
       "  </tbody>\n",
       "</table>\n",
       "</div>"
      ],
      "text/plain": [
       "                  user  iap_total  tutorial_a_total  revenue_d60\n",
       "0 -9223024671825712078          3                 0          0.0\n",
       "1 -9222449106698282755          0                 2          0.0\n",
       "2 -9222407629623737699          3                 0          0.0\n",
       "3 -9221675257351750983          0                 1          0.0\n",
       "4 -9221115360712779506          4                 0          0.0"
      ]
     },
     "execution_count": 68,
     "metadata": {},
     "output_type": "execute_result"
    }
   ],
   "source": [
    "# Create a user level dataset with the sum of iap events and tutorial_a indicators\n",
    "events_users_df = events_df.groupby('user')\\\n",
    "                           .agg(iap_total = ('iap_or_not', 'sum')\\\n",
    "                                , tutorial_a_total = ('tutorial_a', 'sum'))\\\n",
    "                           .reset_index()\n",
    "# Merge events_daily_df with users_d60\n",
    "events_daily_d60 = events_users_df.merge(users_d60, how = 'left', on = 'user')\n",
    "# Already checked revenue is a subset of events datasets, so fill NaN as zero\n",
    "events_daily_d60 = events_daily_d60.fillna(0)\n",
    "events_daily_d60.head()"
   ]
  },
  {
   "cell_type": "code",
   "execution_count": 69,
   "metadata": {},
   "outputs": [
    {
     "data": {
      "text/plain": [
       "Text(0, 0.5, 'Day 60 Revenue')"
      ]
     },
     "execution_count": 69,
     "metadata": {},
     "output_type": "execute_result"
    },
    {
     "data": {
      "image/png": "[encoded data removed]",
      "text/plain": [
       "<Figure size 432x288 with 1 Axes>"
      ]
     },
     "metadata": {
      "needs_background": "light"
     },
     "output_type": "display_data"
    }
   ],
   "source": [
    "# Distribution of Day 60 Positive Revenue by Number of __iap__ events within 7 Days of Installation\n",
    "plt.scatter(events_daily_d60[events_daily_d60['revenue_d60'] > 0]['iap_total']\\\n",
    "            , events_daily_d60[events_daily_d60['revenue_d60'] > 0]['revenue_d60'])\n",
    "plt.title('Distribution of Day 60 Revenue by Positive Number of __iap__ events within 7 Days of Installation')\n",
    "plt.xlabel('Number of __iap__ events')\n",
    "plt.ylabel('Day 60 Revenue')"
   ]
  },
  {
   "cell_type": "code",
   "execution_count": 70,
   "metadata": {},
   "outputs": [
    {
     "data": {
      "text/plain": [
       "Text(0, 0.5, 'Day 60 Revenue')"
      ]
     },
     "execution_count": 70,
     "metadata": {},
     "output_type": "execute_result"
    },
    {
     "data": {
      "image/png": "[encoded data removed]",
      "text/plain": [
       "<Figure size 432x288 with 1 Axes>"
      ]
     },
     "metadata": {
      "needs_background": "light"
     },
     "output_type": "display_data"
    }
   ],
   "source": [
    "# Distribution of Day 60 Zero Revenue by Number of __iap__ events within 7 Days of Installation\n",
    "plt.scatter(events_daily_d60[events_daily_d60['revenue_d60'] == 0]['iap_total']\\\n",
    "            , events_daily_d60[events_daily_d60['revenue_d60'] == 0]['revenue_d60'])\n",
    "plt.title('Distribution of Day 60 Revenue by Positive Number of __iap__ events within 7 Days of Installation')\n",
    "plt.xlabel('Number of __iap__ events')\n",
    "plt.ylabel('Day 60 Revenue')"
   ]
  },
  {
   "cell_type": "markdown",
   "metadata": {},
   "source": [
    "Interestingly, when the total number of __iap__ events within 7 days of installation was more than 50, there's no revenue(payments) from users on day 60, except for an outlier (top right corner of the first graph). A couple of possible reasons: \n",
    "* Data collection was biased or not complete. In other words, we simply didn't have sufficent data on day 60 for users with more than 50 iap events within 7 days of installation.\n",
    "* Players that made more than 50 payments within 7 days of installation were easier to get hooked up by a game, but they might just be tired of this game faster, too. As they explored more features and functions of this game within the first week of installation, their silent reaction on day 60 might tell something about this game's sustainability.\n",
    "* For users with the number of iap events between 0 and 50, there's also a relatively downwards slope. This vaguely suggests that users made more payments within a week of installation might not be interested in paying much later on day 60."
   ]
  },
  {
   "cell_type": "code",
   "execution_count": 71,
   "metadata": {},
   "outputs": [
    {
     "data": {
      "text/plain": [
       "Text(0, 0.5, 'Day 60 Revenue')"
      ]
     },
     "execution_count": 71,
     "metadata": {},
     "output_type": "execute_result"
    },
    {
     "data": {
      "image/png": "[encoded data removed]",
      "text/plain": [
       "<Figure size 432x288 with 1 Axes>"
      ]
     },
     "metadata": {
      "needs_background": "light"
     },
     "output_type": "display_data"
    }
   ],
   "source": [
    "# Distribution of Day 60 Positive Revenue by Number of tutorial_complete and checkpoint_a events within 7 Days of Installation\n",
    "plt.scatter(events_daily_d60[events_daily_d60['revenue_d60'] > 0]['tutorial_a_total']\\\n",
    "            , events_daily_d60[events_daily_d60['revenue_d60'] > 0]['revenue_d60'])\n",
    "plt.title('Distribution of Day 60 Revenue by Positive Number of tutorial_complete and checkpoint_a events within 7 Days of Installation')\n",
    "plt.xlabel('Number of tutorial_complete or checkpoint_a events')\n",
    "plt.ylabel('Day 60 Revenue')"
   ]
  },
  {
   "cell_type": "code",
   "execution_count": 72,
   "metadata": {},
   "outputs": [
    {
     "data": {
      "text/plain": [
       "Text(0, 0.5, 'Day 60 Revenue')"
      ]
     },
     "execution_count": 72,
     "metadata": {},
     "output_type": "execute_result"
    },
    {
     "data": {
      "image/png": "[encoded data removed]",
      "text/plain": [
       "<Figure size 432x288 with 1 Axes>"
      ]
     },
     "metadata": {
      "needs_background": "light"
     },
     "output_type": "display_data"
    }
   ],
   "source": [
    "# Distribution of Day 60 Zero Revenue by Number of tutorial_complete and checkpoint_a events within 7 Days of Installation\n",
    "plt.scatter(events_daily_d60[events_daily_d60['revenue_d60'] == 0]['tutorial_a_total']\\\n",
    "            , events_daily_d60[events_daily_d60['revenue_d60'] == 0]['revenue_d60'])\n",
    "plt.title('Distribution of Day 60 Revenue by Positive Number of tutorial_complete and checkpoint_a events within 7 Days of Installation')\n",
    "plt.xlabel('Number of tutorial_complete or checkpoint_a events')\n",
    "plt.ylabel('Day 60 Revenue')"
   ]
  },
  {
   "cell_type": "code",
   "execution_count": 73,
   "metadata": {},
   "outputs": [
    {
     "data": {
      "text/html": [
       "<div>\n",
       "<style scoped>\n",
       "    .dataframe tbody tr th:only-of-type {\n",
       "        vertical-align: middle;\n",
       "    }\n",
       "\n",
       "    .dataframe tbody tr th {\n",
       "        vertical-align: top;\n",
       "    }\n",
       "\n",
       "    .dataframe thead th {\n",
       "        text-align: right;\n",
       "    }\n",
       "</style>\n",
       "<table border=\"1\" class=\"dataframe\">\n",
       "  <thead>\n",
       "    <tr style=\"text-align: right;\">\n",
       "      <th></th>\n",
       "      <th>user</th>\n",
       "      <th>iap_total</th>\n",
       "      <th>tutorial_a_total</th>\n",
       "      <th>revenue_d60</th>\n",
       "    </tr>\n",
       "  </thead>\n",
       "  <tbody>\n",
       "    <tr>\n",
       "      <th>23252</th>\n",
       "      <td>5366407237799498667</td>\n",
       "      <td>102</td>\n",
       "      <td>0</td>\n",
       "      <td>10042.698</td>\n",
       "    </tr>\n",
       "    <tr>\n",
       "      <th>24118</th>\n",
       "      <td>5939157427975081386</td>\n",
       "      <td>79</td>\n",
       "      <td>0</td>\n",
       "      <td>0.000</td>\n",
       "    </tr>\n",
       "  </tbody>\n",
       "</table>\n",
       "</div>"
      ],
      "text/plain": [
       "                      user  iap_total  tutorial_a_total  revenue_d60\n",
       "23252  5366407237799498667        102                 0    10042.698\n",
       "24118  5939157427975081386         79                 0        0.000"
      ]
     },
     "execution_count": 73,
     "metadata": {},
     "output_type": "execute_result"
    }
   ],
   "source": [
    "# Remove an outlier\n",
    "# When iap_total > 70, there's an extreme large day 60 revenue associated with a user, contradicting zeros\n",
    "events_daily_d60[events_daily_d60['iap_total'] > 70]"
   ]
  },
  {
   "cell_type": "code",
   "execution_count": 74,
   "metadata": {},
   "outputs": [
    {
     "data": {
      "text/html": [
       "<div>\n",
       "<style scoped>\n",
       "    .dataframe tbody tr th:only-of-type {\n",
       "        vertical-align: middle;\n",
       "    }\n",
       "\n",
       "    .dataframe tbody tr th {\n",
       "        vertical-align: top;\n",
       "    }\n",
       "\n",
       "    .dataframe thead th {\n",
       "        text-align: right;\n",
       "    }\n",
       "</style>\n",
       "<table border=\"1\" class=\"dataframe\">\n",
       "  <thead>\n",
       "    <tr style=\"text-align: right;\">\n",
       "      <th></th>\n",
       "      <th>user</th>\n",
       "      <th>iap_total</th>\n",
       "      <th>tutorial_a_total</th>\n",
       "      <th>revenue_d60</th>\n",
       "    </tr>\n",
       "  </thead>\n",
       "  <tbody>\n",
       "    <tr>\n",
       "      <th>23252</th>\n",
       "      <td>5366407237799498667</td>\n",
       "      <td>102</td>\n",
       "      <td>0</td>\n",
       "      <td>10042.698</td>\n",
       "    </tr>\n",
       "  </tbody>\n",
       "</table>\n",
       "</div>"
      ],
      "text/plain": [
       "                      user  iap_total  tutorial_a_total  revenue_d60\n",
       "23252  5366407237799498667        102                 0    10042.698"
      ]
     },
     "execution_count": 74,
     "metadata": {},
     "output_type": "execute_result"
    }
   ],
   "source": [
    "# When tutorial_a_total = 0, there's an extreme large day 60 revenue associated with a user, more than twice as others\n",
    "events_daily_d60[(events_daily_d60['tutorial_a_total'] == 0) & (events_daily_d60['revenue_d60'] > 7000)]"
   ]
  },
  {
   "cell_type": "code",
   "execution_count": 75,
   "metadata": {},
   "outputs": [],
   "source": [
    "# The same user indeed. Remove this user from the users table. \n",
    "# Later will use the users table as the left table in the left join.\n",
    "users_df = users_df.drop(users_df[users_df['user'] == 5366407237799498667].index)"
   ]
  },
  {
   "cell_type": "markdown",
   "metadata": {},
   "source": [
    "The variation of 'tutorial_a_total' didn't indicate much about the variation of values of revenue on day 60. I include 'iap_total' in models."
   ]
  },
  {
   "cell_type": "code",
   "execution_count": 76,
   "metadata": {},
   "outputs": [
    {
     "data": {
      "text/plain": [
       "Index(['user', 'event', 'event_time', 'event_datetime', 'install_datetime',\n",
       "       'events_day_diff', 'iap_or_not', 'events_category', 'tutorial_a'],\n",
       "      dtype='object')"
      ]
     },
     "execution_count": 76,
     "metadata": {},
     "output_type": "execute_result"
    }
   ],
   "source": [
    "events_df.columns"
   ]
  },
  {
   "cell_type": "code",
   "execution_count": 77,
   "metadata": {},
   "outputs": [],
   "source": [
    "# Summarize daily events (sum of 'events_category')\n",
    "events_daily_df = events_df.groupby(['user', 'events_day_diff'])\\\n",
    "                           .agg(events_type_daily = ('events_category', 'sum')\\\n",
    "                               , iap_total = ('iap_or_not', 'sum'))\\\n",
    "                           .reset_index()"
   ]
  },
  {
   "cell_type": "code",
   "execution_count": 78,
   "metadata": {},
   "outputs": [
    {
     "data": {
      "text/html": [
       "<div>\n",
       "<style scoped>\n",
       "    .dataframe tbody tr th:only-of-type {\n",
       "        vertical-align: middle;\n",
       "    }\n",
       "\n",
       "    .dataframe tbody tr th {\n",
       "        vertical-align: top;\n",
       "    }\n",
       "\n",
       "    .dataframe thead th {\n",
       "        text-align: right;\n",
       "    }\n",
       "</style>\n",
       "<table border=\"1\" class=\"dataframe\">\n",
       "  <thead>\n",
       "    <tr style=\"text-align: right;\">\n",
       "      <th></th>\n",
       "      <th>user</th>\n",
       "      <th>events_day_diff</th>\n",
       "      <th>events_type_daily</th>\n",
       "      <th>iap_total</th>\n",
       "    </tr>\n",
       "  </thead>\n",
       "  <tbody>\n",
       "    <tr>\n",
       "      <th>0</th>\n",
       "      <td>-9223024671825712078</td>\n",
       "      <td>7</td>\n",
       "      <td>12</td>\n",
       "      <td>3</td>\n",
       "    </tr>\n",
       "    <tr>\n",
       "      <th>1</th>\n",
       "      <td>-9222449106698282755</td>\n",
       "      <td>1</td>\n",
       "      <td>6</td>\n",
       "      <td>0</td>\n",
       "    </tr>\n",
       "    <tr>\n",
       "      <th>2</th>\n",
       "      <td>-9222407629623737699</td>\n",
       "      <td>6</td>\n",
       "      <td>4</td>\n",
       "      <td>1</td>\n",
       "    </tr>\n",
       "    <tr>\n",
       "      <th>3</th>\n",
       "      <td>-9222407629623737699</td>\n",
       "      <td>7</td>\n",
       "      <td>8</td>\n",
       "      <td>2</td>\n",
       "    </tr>\n",
       "    <tr>\n",
       "      <th>4</th>\n",
       "      <td>-9221675257351750983</td>\n",
       "      <td>1</td>\n",
       "      <td>3</td>\n",
       "      <td>0</td>\n",
       "    </tr>\n",
       "  </tbody>\n",
       "</table>\n",
       "</div>"
      ],
      "text/plain": [
       "                  user  events_day_diff  events_type_daily  iap_total\n",
       "0 -9223024671825712078                7                 12          3\n",
       "1 -9222449106698282755                1                  6          0\n",
       "2 -9222407629623737699                6                  4          1\n",
       "3 -9222407629623737699                7                  8          2\n",
       "4 -9221675257351750983                1                  3          0"
      ]
     },
     "execution_count": 78,
     "metadata": {},
     "output_type": "execute_result"
    }
   ],
   "source": [
    "events_daily_df.head()"
   ]
  },
  {
   "cell_type": "code",
   "execution_count": 79,
   "metadata": {},
   "outputs": [],
   "source": [
    "# Create a new column as the multiple of events_type_daily and iap_total\n",
    "# Because when iap_total = 0, we don't need a positive total number of irrelevant events to confuse algorithms\n",
    "events_daily_df['iap_times_total_events'] = events_daily_df['events_type_daily'] * events_daily_df['iap_total']"
   ]
  },
  {
   "cell_type": "code",
   "execution_count": 80,
   "metadata": {},
   "outputs": [
    {
     "data": {
      "text/html": [
       "<div>\n",
       "<style scoped>\n",
       "    .dataframe tbody tr th:only-of-type {\n",
       "        vertical-align: middle;\n",
       "    }\n",
       "\n",
       "    .dataframe tbody tr th {\n",
       "        vertical-align: top;\n",
       "    }\n",
       "\n",
       "    .dataframe thead tr th {\n",
       "        text-align: left;\n",
       "    }\n",
       "\n",
       "    .dataframe thead tr:last-of-type th {\n",
       "        text-align: right;\n",
       "    }\n",
       "</style>\n",
       "<table border=\"1\" class=\"dataframe\">\n",
       "  <thead>\n",
       "    <tr>\n",
       "      <th></th>\n",
       "      <th colspan=\"7\" halign=\"left\">iap_times_total_events</th>\n",
       "    </tr>\n",
       "    <tr>\n",
       "      <th>events_day_diff</th>\n",
       "      <th>1</th>\n",
       "      <th>2</th>\n",
       "      <th>3</th>\n",
       "      <th>4</th>\n",
       "      <th>5</th>\n",
       "      <th>6</th>\n",
       "      <th>7</th>\n",
       "    </tr>\n",
       "    <tr>\n",
       "      <th>user</th>\n",
       "      <th></th>\n",
       "      <th></th>\n",
       "      <th></th>\n",
       "      <th></th>\n",
       "      <th></th>\n",
       "      <th></th>\n",
       "      <th></th>\n",
       "    </tr>\n",
       "  </thead>\n",
       "  <tbody>\n",
       "    <tr>\n",
       "      <th>-9223024671825712078</th>\n",
       "      <td>NaN</td>\n",
       "      <td>NaN</td>\n",
       "      <td>NaN</td>\n",
       "      <td>NaN</td>\n",
       "      <td>NaN</td>\n",
       "      <td>NaN</td>\n",
       "      <td>36.0</td>\n",
       "    </tr>\n",
       "    <tr>\n",
       "      <th>-9222449106698282755</th>\n",
       "      <td>0.0</td>\n",
       "      <td>NaN</td>\n",
       "      <td>NaN</td>\n",
       "      <td>NaN</td>\n",
       "      <td>NaN</td>\n",
       "      <td>NaN</td>\n",
       "      <td>NaN</td>\n",
       "    </tr>\n",
       "    <tr>\n",
       "      <th>-9222407629623737699</th>\n",
       "      <td>NaN</td>\n",
       "      <td>NaN</td>\n",
       "      <td>NaN</td>\n",
       "      <td>NaN</td>\n",
       "      <td>NaN</td>\n",
       "      <td>4.0</td>\n",
       "      <td>16.0</td>\n",
       "    </tr>\n",
       "    <tr>\n",
       "      <th>-9221675257351750983</th>\n",
       "      <td>0.0</td>\n",
       "      <td>NaN</td>\n",
       "      <td>NaN</td>\n",
       "      <td>NaN</td>\n",
       "      <td>NaN</td>\n",
       "      <td>NaN</td>\n",
       "      <td>NaN</td>\n",
       "    </tr>\n",
       "    <tr>\n",
       "      <th>-9221115360712779506</th>\n",
       "      <td>NaN</td>\n",
       "      <td>NaN</td>\n",
       "      <td>NaN</td>\n",
       "      <td>NaN</td>\n",
       "      <td>NaN</td>\n",
       "      <td>36.0</td>\n",
       "      <td>4.0</td>\n",
       "    </tr>\n",
       "  </tbody>\n",
       "</table>\n",
       "</div>"
      ],
      "text/plain": [
       "                     iap_times_total_events                            \n",
       "events_day_diff                           1   2   3   4   5     6     7\n",
       "user                                                                   \n",
       "-9223024671825712078                    NaN NaN NaN NaN NaN   NaN  36.0\n",
       "-9222449106698282755                    0.0 NaN NaN NaN NaN   NaN   NaN\n",
       "-9222407629623737699                    NaN NaN NaN NaN NaN   4.0  16.0\n",
       "-9221675257351750983                    0.0 NaN NaN NaN NaN   NaN   NaN\n",
       "-9221115360712779506                    NaN NaN NaN NaN NaN  36.0   4.0"
      ]
     },
     "execution_count": 80,
     "metadata": {},
     "output_type": "execute_result"
    }
   ],
   "source": [
    "events_daily_pivot = events_daily_df.pivot(index=['user']\\\n",
    "                                   , columns='events_day_diff'\\\n",
    "                                   , values=['iap_times_total_events'])\n",
    "events_daily_pivot.head()"
   ]
  },
  {
   "cell_type": "code",
   "execution_count": 81,
   "metadata": {},
   "outputs": [
    {
     "data": {
      "text/html": [
       "<div>\n",
       "<style scoped>\n",
       "    .dataframe tbody tr th:only-of-type {\n",
       "        vertical-align: middle;\n",
       "    }\n",
       "\n",
       "    .dataframe tbody tr th {\n",
       "        vertical-align: top;\n",
       "    }\n",
       "\n",
       "    .dataframe thead th {\n",
       "        text-align: right;\n",
       "    }\n",
       "</style>\n",
       "<table border=\"1\" class=\"dataframe\">\n",
       "  <thead>\n",
       "    <tr style=\"text-align: right;\">\n",
       "      <th></th>\n",
       "      <th>user</th>\n",
       "      <th>iap_times_total_events_1</th>\n",
       "      <th>iap_times_total_events_2</th>\n",
       "      <th>iap_times_total_events_3</th>\n",
       "      <th>iap_times_total_events_4</th>\n",
       "      <th>iap_times_total_events_5</th>\n",
       "      <th>iap_times_total_events_6</th>\n",
       "      <th>iap_times_total_events_7</th>\n",
       "    </tr>\n",
       "  </thead>\n",
       "  <tbody>\n",
       "    <tr>\n",
       "      <th>0</th>\n",
       "      <td>-9223024671825712078</td>\n",
       "      <td>NaN</td>\n",
       "      <td>NaN</td>\n",
       "      <td>NaN</td>\n",
       "      <td>NaN</td>\n",
       "      <td>NaN</td>\n",
       "      <td>NaN</td>\n",
       "      <td>36.0</td>\n",
       "    </tr>\n",
       "    <tr>\n",
       "      <th>1</th>\n",
       "      <td>-9222449106698282755</td>\n",
       "      <td>0.0</td>\n",
       "      <td>NaN</td>\n",
       "      <td>NaN</td>\n",
       "      <td>NaN</td>\n",
       "      <td>NaN</td>\n",
       "      <td>NaN</td>\n",
       "      <td>NaN</td>\n",
       "    </tr>\n",
       "    <tr>\n",
       "      <th>2</th>\n",
       "      <td>-9222407629623737699</td>\n",
       "      <td>NaN</td>\n",
       "      <td>NaN</td>\n",
       "      <td>NaN</td>\n",
       "      <td>NaN</td>\n",
       "      <td>NaN</td>\n",
       "      <td>4.0</td>\n",
       "      <td>16.0</td>\n",
       "    </tr>\n",
       "    <tr>\n",
       "      <th>3</th>\n",
       "      <td>-9221675257351750983</td>\n",
       "      <td>0.0</td>\n",
       "      <td>NaN</td>\n",
       "      <td>NaN</td>\n",
       "      <td>NaN</td>\n",
       "      <td>NaN</td>\n",
       "      <td>NaN</td>\n",
       "      <td>NaN</td>\n",
       "    </tr>\n",
       "    <tr>\n",
       "      <th>4</th>\n",
       "      <td>-9221115360712779506</td>\n",
       "      <td>NaN</td>\n",
       "      <td>NaN</td>\n",
       "      <td>NaN</td>\n",
       "      <td>NaN</td>\n",
       "      <td>NaN</td>\n",
       "      <td>36.0</td>\n",
       "      <td>4.0</td>\n",
       "    </tr>\n",
       "  </tbody>\n",
       "</table>\n",
       "</div>"
      ],
      "text/plain": [
       "                  user  iap_times_total_events_1  iap_times_total_events_2  \\\n",
       "0 -9223024671825712078                       NaN                       NaN   \n",
       "1 -9222449106698282755                       0.0                       NaN   \n",
       "2 -9222407629623737699                       NaN                       NaN   \n",
       "3 -9221675257351750983                       0.0                       NaN   \n",
       "4 -9221115360712779506                       NaN                       NaN   \n",
       "\n",
       "   iap_times_total_events_3  iap_times_total_events_4  \\\n",
       "0                       NaN                       NaN   \n",
       "1                       NaN                       NaN   \n",
       "2                       NaN                       NaN   \n",
       "3                       NaN                       NaN   \n",
       "4                       NaN                       NaN   \n",
       "\n",
       "   iap_times_total_events_5  iap_times_total_events_6  \\\n",
       "0                       NaN                       NaN   \n",
       "1                       NaN                       NaN   \n",
       "2                       NaN                       4.0   \n",
       "3                       NaN                       NaN   \n",
       "4                       NaN                      36.0   \n",
       "\n",
       "   iap_times_total_events_7  \n",
       "0                      36.0  \n",
       "1                       NaN  \n",
       "2                      16.0  \n",
       "3                       NaN  \n",
       "4                       4.0  "
      ]
     },
     "execution_count": 81,
     "metadata": {},
     "output_type": "execute_result"
    }
   ],
   "source": [
    "# Reshape the pivot table\n",
    "events_daily_pivot.columns = [c[0] + \"_\" + str(c[1]) for c in events_daily_pivot.columns]\n",
    "events_daily_pivot = events_daily_pivot.reset_index()\n",
    "events_daily_pivot.head()"
   ]
  },
  {
   "cell_type": "code",
   "execution_count": 82,
   "metadata": {},
   "outputs": [
    {
     "data": {
      "text/html": [
       "<div>\n",
       "<style scoped>\n",
       "    .dataframe tbody tr th:only-of-type {\n",
       "        vertical-align: middle;\n",
       "    }\n",
       "\n",
       "    .dataframe tbody tr th {\n",
       "        vertical-align: top;\n",
       "    }\n",
       "\n",
       "    .dataframe thead th {\n",
       "        text-align: right;\n",
       "    }\n",
       "</style>\n",
       "<table border=\"1\" class=\"dataframe\">\n",
       "  <thead>\n",
       "    <tr style=\"text-align: right;\">\n",
       "      <th></th>\n",
       "      <th>user</th>\n",
       "      <th>platform</th>\n",
       "      <th>channel</th>\n",
       "      <th>geo</th>\n",
       "      <th>install_date</th>\n",
       "      <th>install_datetime</th>\n",
       "      <th>iap_times_total_events_1</th>\n",
       "      <th>iap_times_total_events_2</th>\n",
       "      <th>iap_times_total_events_3</th>\n",
       "      <th>iap_times_total_events_4</th>\n",
       "      <th>...</th>\n",
       "      <th>iap_times_total_events_6</th>\n",
       "      <th>iap_times_total_events_7</th>\n",
       "      <th>revenue_d60</th>\n",
       "      <th>rev_day_1</th>\n",
       "      <th>rev_day_2</th>\n",
       "      <th>rev_day_3</th>\n",
       "      <th>rev_day_4</th>\n",
       "      <th>rev_day_5</th>\n",
       "      <th>rev_day_6</th>\n",
       "      <th>rev_day_7</th>\n",
       "    </tr>\n",
       "  </thead>\n",
       "  <tbody>\n",
       "    <tr>\n",
       "      <th>0</th>\n",
       "      <td>-6850362954315242018</td>\n",
       "      <td>purple</td>\n",
       "      <td>Mice</td>\n",
       "      <td>AB</td>\n",
       "      <td>2020-11-03</td>\n",
       "      <td>2020-11-03</td>\n",
       "      <td>NaN</td>\n",
       "      <td>NaN</td>\n",
       "      <td>NaN</td>\n",
       "      <td>NaN</td>\n",
       "      <td>...</td>\n",
       "      <td>NaN</td>\n",
       "      <td>NaN</td>\n",
       "      <td>NaN</td>\n",
       "      <td>NaN</td>\n",
       "      <td>NaN</td>\n",
       "      <td>NaN</td>\n",
       "      <td>NaN</td>\n",
       "      <td>NaN</td>\n",
       "      <td>NaN</td>\n",
       "      <td>NaN</td>\n",
       "    </tr>\n",
       "    <tr>\n",
       "      <th>1</th>\n",
       "      <td>7863223365093340651</td>\n",
       "      <td>purple</td>\n",
       "      <td>Mice</td>\n",
       "      <td>AB</td>\n",
       "      <td>2020-11-03</td>\n",
       "      <td>2020-11-03</td>\n",
       "      <td>NaN</td>\n",
       "      <td>NaN</td>\n",
       "      <td>NaN</td>\n",
       "      <td>NaN</td>\n",
       "      <td>...</td>\n",
       "      <td>NaN</td>\n",
       "      <td>NaN</td>\n",
       "      <td>NaN</td>\n",
       "      <td>NaN</td>\n",
       "      <td>NaN</td>\n",
       "      <td>NaN</td>\n",
       "      <td>NaN</td>\n",
       "      <td>NaN</td>\n",
       "      <td>NaN</td>\n",
       "      <td>NaN</td>\n",
       "    </tr>\n",
       "    <tr>\n",
       "      <th>2</th>\n",
       "      <td>-5844463704494523566</td>\n",
       "      <td>purple</td>\n",
       "      <td>Mice</td>\n",
       "      <td>AB</td>\n",
       "      <td>2020-11-03</td>\n",
       "      <td>2020-11-03</td>\n",
       "      <td>NaN</td>\n",
       "      <td>NaN</td>\n",
       "      <td>NaN</td>\n",
       "      <td>NaN</td>\n",
       "      <td>...</td>\n",
       "      <td>NaN</td>\n",
       "      <td>NaN</td>\n",
       "      <td>NaN</td>\n",
       "      <td>NaN</td>\n",
       "      <td>NaN</td>\n",
       "      <td>NaN</td>\n",
       "      <td>NaN</td>\n",
       "      <td>NaN</td>\n",
       "      <td>NaN</td>\n",
       "      <td>NaN</td>\n",
       "    </tr>\n",
       "    <tr>\n",
       "      <th>3</th>\n",
       "      <td>-2710245180531833391</td>\n",
       "      <td>purple</td>\n",
       "      <td>Mice</td>\n",
       "      <td>AB</td>\n",
       "      <td>2020-11-03</td>\n",
       "      <td>2020-11-03</td>\n",
       "      <td>NaN</td>\n",
       "      <td>NaN</td>\n",
       "      <td>NaN</td>\n",
       "      <td>NaN</td>\n",
       "      <td>...</td>\n",
       "      <td>NaN</td>\n",
       "      <td>NaN</td>\n",
       "      <td>NaN</td>\n",
       "      <td>NaN</td>\n",
       "      <td>NaN</td>\n",
       "      <td>NaN</td>\n",
       "      <td>NaN</td>\n",
       "      <td>NaN</td>\n",
       "      <td>NaN</td>\n",
       "      <td>NaN</td>\n",
       "    </tr>\n",
       "    <tr>\n",
       "      <th>4</th>\n",
       "      <td>-1227926074670215435</td>\n",
       "      <td>purple</td>\n",
       "      <td>Mice</td>\n",
       "      <td>AB</td>\n",
       "      <td>2020-11-03</td>\n",
       "      <td>2020-11-03</td>\n",
       "      <td>NaN</td>\n",
       "      <td>NaN</td>\n",
       "      <td>NaN</td>\n",
       "      <td>NaN</td>\n",
       "      <td>...</td>\n",
       "      <td>NaN</td>\n",
       "      <td>NaN</td>\n",
       "      <td>NaN</td>\n",
       "      <td>NaN</td>\n",
       "      <td>NaN</td>\n",
       "      <td>NaN</td>\n",
       "      <td>NaN</td>\n",
       "      <td>NaN</td>\n",
       "      <td>NaN</td>\n",
       "      <td>NaN</td>\n",
       "    </tr>\n",
       "  </tbody>\n",
       "</table>\n",
       "<p>5 rows × 21 columns</p>\n",
       "</div>"
      ],
      "text/plain": [
       "                  user platform channel geo install_date install_datetime  \\\n",
       "0 -6850362954315242018   purple    Mice  AB   2020-11-03       2020-11-03   \n",
       "1  7863223365093340651   purple    Mice  AB   2020-11-03       2020-11-03   \n",
       "2 -5844463704494523566   purple    Mice  AB   2020-11-03       2020-11-03   \n",
       "3 -2710245180531833391   purple    Mice  AB   2020-11-03       2020-11-03   \n",
       "4 -1227926074670215435   purple    Mice  AB   2020-11-03       2020-11-03   \n",
       "\n",
       "   iap_times_total_events_1  iap_times_total_events_2  \\\n",
       "0                       NaN                       NaN   \n",
       "1                       NaN                       NaN   \n",
       "2                       NaN                       NaN   \n",
       "3                       NaN                       NaN   \n",
       "4                       NaN                       NaN   \n",
       "\n",
       "   iap_times_total_events_3  iap_times_total_events_4  ...  \\\n",
       "0                       NaN                       NaN  ...   \n",
       "1                       NaN                       NaN  ...   \n",
       "2                       NaN                       NaN  ...   \n",
       "3                       NaN                       NaN  ...   \n",
       "4                       NaN                       NaN  ...   \n",
       "\n",
       "   iap_times_total_events_6  iap_times_total_events_7  revenue_d60  rev_day_1  \\\n",
       "0                       NaN                       NaN          NaN        NaN   \n",
       "1                       NaN                       NaN          NaN        NaN   \n",
       "2                       NaN                       NaN          NaN        NaN   \n",
       "3                       NaN                       NaN          NaN        NaN   \n",
       "4                       NaN                       NaN          NaN        NaN   \n",
       "\n",
       "   rev_day_2  rev_day_3  rev_day_4  rev_day_5  rev_day_6  rev_day_7  \n",
       "0        NaN        NaN        NaN        NaN        NaN        NaN  \n",
       "1        NaN        NaN        NaN        NaN        NaN        NaN  \n",
       "2        NaN        NaN        NaN        NaN        NaN        NaN  \n",
       "3        NaN        NaN        NaN        NaN        NaN        NaN  \n",
       "4        NaN        NaN        NaN        NaN        NaN        NaN  \n",
       "\n",
       "[5 rows x 21 columns]"
      ]
     },
     "execution_count": 82,
     "metadata": {},
     "output_type": "execute_result"
    }
   ],
   "source": [
    "# Add events and revenue to the users table\n",
    "users_df = users_df.merge(events_daily_pivot, how = 'left', on = 'user')\n",
    "users_df = users_df.merge(rev_daily, how = 'left', on = 'user')\n",
    "users_df.head()"
   ]
  },
  {
   "cell_type": "code",
   "execution_count": 83,
   "metadata": {},
   "outputs": [],
   "source": [
    "# If a user didn't have an event or revenue within 7 days of installation, or didn't have revenue on day 60: set 0\n",
    "users_df = users_df.fillna(0)"
   ]
  },
  {
   "cell_type": "code",
   "execution_count": 84,
   "metadata": {},
   "outputs": [
    {
     "data": {
      "text/html": [
       "<div>\n",
       "<style scoped>\n",
       "    .dataframe tbody tr th:only-of-type {\n",
       "        vertical-align: middle;\n",
       "    }\n",
       "\n",
       "    .dataframe tbody tr th {\n",
       "        vertical-align: top;\n",
       "    }\n",
       "\n",
       "    .dataframe thead th {\n",
       "        text-align: right;\n",
       "    }\n",
       "</style>\n",
       "<table border=\"1\" class=\"dataframe\">\n",
       "  <thead>\n",
       "    <tr style=\"text-align: right;\">\n",
       "      <th></th>\n",
       "      <th>user</th>\n",
       "      <th>platform</th>\n",
       "      <th>channel</th>\n",
       "      <th>geo</th>\n",
       "      <th>install_date</th>\n",
       "      <th>install_datetime</th>\n",
       "      <th>iap_times_total_events_1</th>\n",
       "      <th>iap_times_total_events_2</th>\n",
       "      <th>iap_times_total_events_3</th>\n",
       "      <th>iap_times_total_events_4</th>\n",
       "      <th>...</th>\n",
       "      <th>iap_times_total_events_6</th>\n",
       "      <th>iap_times_total_events_7</th>\n",
       "      <th>revenue_d60</th>\n",
       "      <th>rev_day_1</th>\n",
       "      <th>rev_day_2</th>\n",
       "      <th>rev_day_3</th>\n",
       "      <th>rev_day_4</th>\n",
       "      <th>rev_day_5</th>\n",
       "      <th>rev_day_6</th>\n",
       "      <th>rev_day_7</th>\n",
       "    </tr>\n",
       "  </thead>\n",
       "  <tbody>\n",
       "    <tr>\n",
       "      <th>0</th>\n",
       "      <td>-6850362954315242018</td>\n",
       "      <td>purple</td>\n",
       "      <td>Mice</td>\n",
       "      <td>AB</td>\n",
       "      <td>2020-11-03</td>\n",
       "      <td>2020-11-03</td>\n",
       "      <td>0.0</td>\n",
       "      <td>0.0</td>\n",
       "      <td>0.0</td>\n",
       "      <td>0.0</td>\n",
       "      <td>...</td>\n",
       "      <td>0.0</td>\n",
       "      <td>0.0</td>\n",
       "      <td>0.0</td>\n",
       "      <td>0.0</td>\n",
       "      <td>0.0</td>\n",
       "      <td>0.0</td>\n",
       "      <td>0.0</td>\n",
       "      <td>0.0</td>\n",
       "      <td>0.0</td>\n",
       "      <td>0.0</td>\n",
       "    </tr>\n",
       "    <tr>\n",
       "      <th>1</th>\n",
       "      <td>7863223365093340651</td>\n",
       "      <td>purple</td>\n",
       "      <td>Mice</td>\n",
       "      <td>AB</td>\n",
       "      <td>2020-11-03</td>\n",
       "      <td>2020-11-03</td>\n",
       "      <td>0.0</td>\n",
       "      <td>0.0</td>\n",
       "      <td>0.0</td>\n",
       "      <td>0.0</td>\n",
       "      <td>...</td>\n",
       "      <td>0.0</td>\n",
       "      <td>0.0</td>\n",
       "      <td>0.0</td>\n",
       "      <td>0.0</td>\n",
       "      <td>0.0</td>\n",
       "      <td>0.0</td>\n",
       "      <td>0.0</td>\n",
       "      <td>0.0</td>\n",
       "      <td>0.0</td>\n",
       "      <td>0.0</td>\n",
       "    </tr>\n",
       "    <tr>\n",
       "      <th>2</th>\n",
       "      <td>-5844463704494523566</td>\n",
       "      <td>purple</td>\n",
       "      <td>Mice</td>\n",
       "      <td>AB</td>\n",
       "      <td>2020-11-03</td>\n",
       "      <td>2020-11-03</td>\n",
       "      <td>0.0</td>\n",
       "      <td>0.0</td>\n",
       "      <td>0.0</td>\n",
       "      <td>0.0</td>\n",
       "      <td>...</td>\n",
       "      <td>0.0</td>\n",
       "      <td>0.0</td>\n",
       "      <td>0.0</td>\n",
       "      <td>0.0</td>\n",
       "      <td>0.0</td>\n",
       "      <td>0.0</td>\n",
       "      <td>0.0</td>\n",
       "      <td>0.0</td>\n",
       "      <td>0.0</td>\n",
       "      <td>0.0</td>\n",
       "    </tr>\n",
       "    <tr>\n",
       "      <th>3</th>\n",
       "      <td>-2710245180531833391</td>\n",
       "      <td>purple</td>\n",
       "      <td>Mice</td>\n",
       "      <td>AB</td>\n",
       "      <td>2020-11-03</td>\n",
       "      <td>2020-11-03</td>\n",
       "      <td>0.0</td>\n",
       "      <td>0.0</td>\n",
       "      <td>0.0</td>\n",
       "      <td>0.0</td>\n",
       "      <td>...</td>\n",
       "      <td>0.0</td>\n",
       "      <td>0.0</td>\n",
       "      <td>0.0</td>\n",
       "      <td>0.0</td>\n",
       "      <td>0.0</td>\n",
       "      <td>0.0</td>\n",
       "      <td>0.0</td>\n",
       "      <td>0.0</td>\n",
       "      <td>0.0</td>\n",
       "      <td>0.0</td>\n",
       "    </tr>\n",
       "    <tr>\n",
       "      <th>4</th>\n",
       "      <td>-1227926074670215435</td>\n",
       "      <td>purple</td>\n",
       "      <td>Mice</td>\n",
       "      <td>AB</td>\n",
       "      <td>2020-11-03</td>\n",
       "      <td>2020-11-03</td>\n",
       "      <td>0.0</td>\n",
       "      <td>0.0</td>\n",
       "      <td>0.0</td>\n",
       "      <td>0.0</td>\n",
       "      <td>...</td>\n",
       "      <td>0.0</td>\n",
       "      <td>0.0</td>\n",
       "      <td>0.0</td>\n",
       "      <td>0.0</td>\n",
       "      <td>0.0</td>\n",
       "      <td>0.0</td>\n",
       "      <td>0.0</td>\n",
       "      <td>0.0</td>\n",
       "      <td>0.0</td>\n",
       "      <td>0.0</td>\n",
       "    </tr>\n",
       "  </tbody>\n",
       "</table>\n",
       "<p>5 rows × 21 columns</p>\n",
       "</div>"
      ],
      "text/plain": [
       "                  user platform channel geo install_date install_datetime  \\\n",
       "0 -6850362954315242018   purple    Mice  AB   2020-11-03       2020-11-03   \n",
       "1  7863223365093340651   purple    Mice  AB   2020-11-03       2020-11-03   \n",
       "2 -5844463704494523566   purple    Mice  AB   2020-11-03       2020-11-03   \n",
       "3 -2710245180531833391   purple    Mice  AB   2020-11-03       2020-11-03   \n",
       "4 -1227926074670215435   purple    Mice  AB   2020-11-03       2020-11-03   \n",
       "\n",
       "   iap_times_total_events_1  iap_times_total_events_2  \\\n",
       "0                       0.0                       0.0   \n",
       "1                       0.0                       0.0   \n",
       "2                       0.0                       0.0   \n",
       "3                       0.0                       0.0   \n",
       "4                       0.0                       0.0   \n",
       "\n",
       "   iap_times_total_events_3  iap_times_total_events_4  ...  \\\n",
       "0                       0.0                       0.0  ...   \n",
       "1                       0.0                       0.0  ...   \n",
       "2                       0.0                       0.0  ...   \n",
       "3                       0.0                       0.0  ...   \n",
       "4                       0.0                       0.0  ...   \n",
       "\n",
       "   iap_times_total_events_6  iap_times_total_events_7  revenue_d60  rev_day_1  \\\n",
       "0                       0.0                       0.0          0.0        0.0   \n",
       "1                       0.0                       0.0          0.0        0.0   \n",
       "2                       0.0                       0.0          0.0        0.0   \n",
       "3                       0.0                       0.0          0.0        0.0   \n",
       "4                       0.0                       0.0          0.0        0.0   \n",
       "\n",
       "   rev_day_2  rev_day_3  rev_day_4  rev_day_5  rev_day_6  rev_day_7  \n",
       "0        0.0        0.0        0.0        0.0        0.0        0.0  \n",
       "1        0.0        0.0        0.0        0.0        0.0        0.0  \n",
       "2        0.0        0.0        0.0        0.0        0.0        0.0  \n",
       "3        0.0        0.0        0.0        0.0        0.0        0.0  \n",
       "4        0.0        0.0        0.0        0.0        0.0        0.0  \n",
       "\n",
       "[5 rows x 21 columns]"
      ]
     },
     "execution_count": 84,
     "metadata": {},
     "output_type": "execute_result"
    }
   ],
   "source": [
    "users_df.head()"
   ]
  },
  {
   "cell_type": "markdown",
   "metadata": {},
   "source": [
    "Data presented sparsity. Tree algorithms might not perform well."
   ]
  },
  {
   "cell_type": "code",
   "execution_count": 85,
   "metadata": {},
   "outputs": [
    {
     "data": {
      "text/plain": [
       "rev_day_4                 iap_times_total_events_5    0.231243\n",
       "rev_day_2                 rev_day_3                   0.236003\n",
       "iap_times_total_events_3  rev_day_5                   0.256191\n",
       "                          iap_times_total_events_4    0.256556\n",
       "rev_day_3                 iap_times_total_events_4    0.257891\n",
       "iap_times_total_events_6  rev_day_4                   0.259379\n",
       "iap_times_total_events_4  rev_day_5                   0.261235\n",
       "rev_day_3                 rev_day_1                   0.265113\n",
       "rev_day_2                 rev_day_5                   0.275963\n",
       "rev_day_1                 rev_day_2                   0.290709\n",
       "rev_day_3                 rev_day_4                   0.291751\n",
       "                          rev_day_5                   0.324612\n",
       "rev_day_5                 rev_day_4                   0.327903\n",
       "rev_day_6                 rev_day_5                   0.328376\n",
       "iap_times_total_events_4  iap_times_total_events_6    0.384484\n",
       "rev_day_4                 rev_day_6                   0.394151\n",
       "iap_times_total_events_4  rev_day_6                   0.449307\n",
       "iap_times_total_events_6  rev_day_6                   0.609404\n",
       "rev_day_7                 iap_times_total_events_7    0.637903\n",
       "iap_times_total_events_1  rev_day_1                   0.656195\n",
       "iap_times_total_events_5  rev_day_5                   0.686534\n",
       "rev_day_2                 iap_times_total_events_2    0.701269\n",
       "iap_times_total_events_4  rev_day_4                   0.745006\n",
       "rev_day_3                 iap_times_total_events_3    0.768578\n",
       "dtype: float64"
      ]
     },
     "execution_count": 85,
     "metadata": {},
     "output_type": "execute_result"
    }
   ],
   "source": [
    "# Check correlation between variables\n",
    "main_df = users_df.drop('user', axis = 1)\n",
    "correlations_vars = main_df.corr()\n",
    "corr_unstack = correlations_vars.unstack()\n",
    "# drop_duplicates omits the 1 correlation of a variable and itself\n",
    "corr_st = corr_unstack.sort_values(kind=\"quicksort\").drop_duplicates()\n",
    "corr_st[-25:-1]"
   ]
  },
  {
   "cell_type": "markdown",
   "metadata": {},
   "source": [
    "Note:\n",
    "* The revenue on day 60 isn't highly correlated (correlation > 30%) with any variable.\n",
    "* High correlation (>30%) presents among several features. The highest correlation was 77%. High correlation could cause problems in Causal Inference. The main task is prediction here. I will check whether PCA pipelines help reduce prediction error at all later."
   ]
  },
  {
   "cell_type": "code",
   "execution_count": 86,
   "metadata": {},
   "outputs": [
    {
     "data": {
      "text/plain": [
       "Index(['platform', 'channel', 'geo', 'install_date', 'install_datetime',\n",
       "       'iap_times_total_events_1', 'iap_times_total_events_2',\n",
       "       'iap_times_total_events_3', 'iap_times_total_events_4',\n",
       "       'iap_times_total_events_5', 'iap_times_total_events_6',\n",
       "       'iap_times_total_events_7', 'revenue_d60', 'rev_day_1', 'rev_day_2',\n",
       "       'rev_day_3', 'rev_day_4', 'rev_day_5', 'rev_day_6', 'rev_day_7'],\n",
       "      dtype='object')"
      ]
     },
     "execution_count": 86,
     "metadata": {},
     "output_type": "execute_result"
    }
   ],
   "source": [
    "main_df.columns"
   ]
  },
  {
   "cell_type": "code",
   "execution_count": 87,
   "metadata": {},
   "outputs": [
    {
     "data": {
      "text/plain": [
       "((461853, 20), (6922, 20))"
      ]
     },
     "execution_count": 87,
     "metadata": {},
     "output_type": "execute_result"
    }
   ],
   "source": [
    "main_df_ddp = main_df.drop_duplicates(subset=['platform', 'channel', 'geo'\\\n",
    "                                              , 'iap_times_total_events_1', 'iap_times_total_events_2'\\\n",
    "                                              ,'iap_times_total_events_3', 'iap_times_total_events_4'\\\n",
    "                                              ,'iap_times_total_events_5', 'iap_times_total_events_6'\\\n",
    "                                              ,'iap_times_total_events_7', 'rev_day_1', 'rev_day_2'\\\n",
    "                                              ,'rev_day_3', 'rev_day_4', 'rev_day_5', 'rev_day_6', 'rev_day_7'])\n",
    "main_df.shape, main_df_ddp.shape"
   ]
  },
  {
   "cell_type": "code",
   "execution_count": 88,
   "metadata": {},
   "outputs": [],
   "source": [
    "# Summarize events and revenue for comparison among platform, channel and geo\n",
    "main_df_ddp['total_events'] = main_df_ddp.iloc[:, 5:12].sum(axis=1)\n",
    "main_df_ddp['total_revenue'] = main_df_ddp.iloc[:, 13:20].sum(axis=1)"
   ]
  },
  {
   "cell_type": "code",
   "execution_count": 89,
   "metadata": {},
   "outputs": [
    {
     "data": {
      "text/html": [
       "<div>\n",
       "<style scoped>\n",
       "    .dataframe tbody tr th:only-of-type {\n",
       "        vertical-align: middle;\n",
       "    }\n",
       "\n",
       "    .dataframe tbody tr th {\n",
       "        vertical-align: top;\n",
       "    }\n",
       "\n",
       "    .dataframe thead th {\n",
       "        text-align: right;\n",
       "    }\n",
       "</style>\n",
       "<table border=\"1\" class=\"dataframe\">\n",
       "  <thead>\n",
       "    <tr style=\"text-align: right;\">\n",
       "      <th></th>\n",
       "      <th>platform</th>\n",
       "      <th>channel</th>\n",
       "      <th>geo</th>\n",
       "      <th>total_events_combo</th>\n",
       "      <th>total_users</th>\n",
       "      <th>total_revenue_d60</th>\n",
       "      <th>total_revenue_first7</th>\n",
       "    </tr>\n",
       "  </thead>\n",
       "  <tbody>\n",
       "    <tr>\n",
       "      <th>0</th>\n",
       "      <td>orange</td>\n",
       "      <td>Frogs</td>\n",
       "      <td>AB</td>\n",
       "      <td>60839.0</td>\n",
       "      <td>846</td>\n",
       "      <td>12144.064</td>\n",
       "      <td>422323.788</td>\n",
       "    </tr>\n",
       "    <tr>\n",
       "      <th>1</th>\n",
       "      <td>orange</td>\n",
       "      <td>Frogs</td>\n",
       "      <td>BC</td>\n",
       "      <td>6882.0</td>\n",
       "      <td>223</td>\n",
       "      <td>722.858</td>\n",
       "      <td>59942.096</td>\n",
       "    </tr>\n",
       "    <tr>\n",
       "      <th>2</th>\n",
       "      <td>orange</td>\n",
       "      <td>Frogs</td>\n",
       "      <td>CD</td>\n",
       "      <td>2803.0</td>\n",
       "      <td>80</td>\n",
       "      <td>516.088</td>\n",
       "      <td>22689.272</td>\n",
       "    </tr>\n",
       "    <tr>\n",
       "      <th>3</th>\n",
       "      <td>orange</td>\n",
       "      <td>Frogs</td>\n",
       "      <td>DE</td>\n",
       "      <td>0.0</td>\n",
       "      <td>1</td>\n",
       "      <td>0.000</td>\n",
       "      <td>0.000</td>\n",
       "    </tr>\n",
       "    <tr>\n",
       "      <th>4</th>\n",
       "      <td>orange</td>\n",
       "      <td>Geese</td>\n",
       "      <td>AB</td>\n",
       "      <td>11066.0</td>\n",
       "      <td>190</td>\n",
       "      <td>2391.712</td>\n",
       "      <td>84000.948</td>\n",
       "    </tr>\n",
       "  </tbody>\n",
       "</table>\n",
       "</div>"
      ],
      "text/plain": [
       "  platform channel geo  total_events_combo  total_users  total_revenue_d60  \\\n",
       "0   orange   Frogs  AB             60839.0          846          12144.064   \n",
       "1   orange   Frogs  BC              6882.0          223            722.858   \n",
       "2   orange   Frogs  CD              2803.0           80            516.088   \n",
       "3   orange   Frogs  DE                 0.0            1              0.000   \n",
       "4   orange   Geese  AB             11066.0          190           2391.712   \n",
       "\n",
       "   total_revenue_first7  \n",
       "0            422323.788  \n",
       "1             59942.096  \n",
       "2             22689.272  \n",
       "3                 0.000  \n",
       "4             84000.948  "
      ]
     },
     "execution_count": 89,
     "metadata": {},
     "output_type": "execute_result"
    }
   ],
   "source": [
    "# Check consumer behavior per combination of platform, channel and geo\n",
    "checks_combined = main_df_ddp.groupby(['platform', 'channel', 'geo'])\\\n",
    "                             .agg(total_events_combo = ('total_events', 'sum')\\\n",
    "                                  , total_users = ('install_datetime', 'size')\\\n",
    "                                  , total_revenue_d60 = ('revenue_d60', 'sum')\\\n",
    "                                  , total_revenue_first7 = ('total_revenue', 'sum'))\\\n",
    "                             .reset_index()\n",
    "checks_combined.head()"
   ]
  },
  {
   "cell_type": "code",
   "execution_count": 90,
   "metadata": {},
   "outputs": [
    {
     "data": {
      "text/html": [
       "<div>\n",
       "<style scoped>\n",
       "    .dataframe tbody tr th:only-of-type {\n",
       "        vertical-align: middle;\n",
       "    }\n",
       "\n",
       "    .dataframe tbody tr th {\n",
       "        vertical-align: top;\n",
       "    }\n",
       "\n",
       "    .dataframe thead th {\n",
       "        text-align: right;\n",
       "    }\n",
       "</style>\n",
       "<table border=\"1\" class=\"dataframe\">\n",
       "  <thead>\n",
       "    <tr style=\"text-align: right;\">\n",
       "      <th></th>\n",
       "      <th>platform</th>\n",
       "      <th>channel</th>\n",
       "      <th>geo</th>\n",
       "      <th>total_events_combo</th>\n",
       "      <th>total_users</th>\n",
       "      <th>total_revenue_d60</th>\n",
       "      <th>total_revenue_first7</th>\n",
       "      <th>avg_revenue_d60</th>\n",
       "      <th>avg_events_first7</th>\n",
       "      <th>avg_revenue_first7</th>\n",
       "    </tr>\n",
       "  </thead>\n",
       "  <tbody>\n",
       "    <tr>\n",
       "      <th>0</th>\n",
       "      <td>orange</td>\n",
       "      <td>Frogs</td>\n",
       "      <td>AB</td>\n",
       "      <td>60839.0</td>\n",
       "      <td>846</td>\n",
       "      <td>12144.064</td>\n",
       "      <td>422323.788</td>\n",
       "      <td>14.354686</td>\n",
       "      <td>71.913712</td>\n",
       "      <td>499.200695</td>\n",
       "    </tr>\n",
       "    <tr>\n",
       "      <th>1</th>\n",
       "      <td>orange</td>\n",
       "      <td>Frogs</td>\n",
       "      <td>BC</td>\n",
       "      <td>6882.0</td>\n",
       "      <td>223</td>\n",
       "      <td>722.858</td>\n",
       "      <td>59942.096</td>\n",
       "      <td>3.241516</td>\n",
       "      <td>30.860987</td>\n",
       "      <td>268.798637</td>\n",
       "    </tr>\n",
       "    <tr>\n",
       "      <th>2</th>\n",
       "      <td>orange</td>\n",
       "      <td>Frogs</td>\n",
       "      <td>CD</td>\n",
       "      <td>2803.0</td>\n",
       "      <td>80</td>\n",
       "      <td>516.088</td>\n",
       "      <td>22689.272</td>\n",
       "      <td>6.451100</td>\n",
       "      <td>35.037500</td>\n",
       "      <td>283.615900</td>\n",
       "    </tr>\n",
       "    <tr>\n",
       "      <th>3</th>\n",
       "      <td>orange</td>\n",
       "      <td>Frogs</td>\n",
       "      <td>DE</td>\n",
       "      <td>0.0</td>\n",
       "      <td>1</td>\n",
       "      <td>0.000</td>\n",
       "      <td>0.000</td>\n",
       "      <td>0.000000</td>\n",
       "      <td>0.000000</td>\n",
       "      <td>0.000000</td>\n",
       "    </tr>\n",
       "    <tr>\n",
       "      <th>4</th>\n",
       "      <td>orange</td>\n",
       "      <td>Geese</td>\n",
       "      <td>AB</td>\n",
       "      <td>11066.0</td>\n",
       "      <td>190</td>\n",
       "      <td>2391.712</td>\n",
       "      <td>84000.948</td>\n",
       "      <td>12.587958</td>\n",
       "      <td>58.242105</td>\n",
       "      <td>442.110253</td>\n",
       "    </tr>\n",
       "  </tbody>\n",
       "</table>\n",
       "</div>"
      ],
      "text/plain": [
       "  platform channel geo  total_events_combo  total_users  total_revenue_d60  \\\n",
       "0   orange   Frogs  AB             60839.0          846          12144.064   \n",
       "1   orange   Frogs  BC              6882.0          223            722.858   \n",
       "2   orange   Frogs  CD              2803.0           80            516.088   \n",
       "3   orange   Frogs  DE                 0.0            1              0.000   \n",
       "4   orange   Geese  AB             11066.0          190           2391.712   \n",
       "\n",
       "   total_revenue_first7  avg_revenue_d60  avg_events_first7  \\\n",
       "0            422323.788        14.354686          71.913712   \n",
       "1             59942.096         3.241516          30.860987   \n",
       "2             22689.272         6.451100          35.037500   \n",
       "3                 0.000         0.000000           0.000000   \n",
       "4             84000.948        12.587958          58.242105   \n",
       "\n",
       "   avg_revenue_first7  \n",
       "0          499.200695  \n",
       "1          268.798637  \n",
       "2          283.615900  \n",
       "3            0.000000  \n",
       "4          442.110253  "
      ]
     },
     "execution_count": 90,
     "metadata": {},
     "output_type": "execute_result"
    }
   ],
   "source": [
    "# Compute the avarages of revenue/events per user corresponding to each combo\n",
    "checks_combined['avg_revenue_d60'] = checks_combined['total_revenue_d60'] / checks_combined['total_users']\n",
    "checks_combined['avg_events_first7'] = checks_combined['total_events_combo'] / checks_combined['total_users']\n",
    "checks_combined['avg_revenue_first7'] = checks_combined['total_revenue_first7'] / checks_combined['total_users']\n",
    "checks_combined.head()"
   ]
  },
  {
   "cell_type": "code",
   "execution_count": 91,
   "metadata": {},
   "outputs": [
    {
     "data": {
      "text/html": [
       "<div>\n",
       "<style scoped>\n",
       "    .dataframe tbody tr th:only-of-type {\n",
       "        vertical-align: middle;\n",
       "    }\n",
       "\n",
       "    .dataframe tbody tr th {\n",
       "        vertical-align: top;\n",
       "    }\n",
       "\n",
       "    .dataframe thead th {\n",
       "        text-align: right;\n",
       "    }\n",
       "</style>\n",
       "<table border=\"1\" class=\"dataframe\">\n",
       "  <thead>\n",
       "    <tr style=\"text-align: right;\">\n",
       "      <th></th>\n",
       "      <th>platform</th>\n",
       "      <th>channel</th>\n",
       "      <th>geo</th>\n",
       "      <th>total_events_combo</th>\n",
       "      <th>total_users</th>\n",
       "      <th>total_revenue_d60</th>\n",
       "      <th>total_revenue_first7</th>\n",
       "      <th>avg_revenue_d60</th>\n",
       "      <th>avg_events_first7</th>\n",
       "      <th>avg_revenue_first7</th>\n",
       "    </tr>\n",
       "  </thead>\n",
       "  <tbody>\n",
       "    <tr>\n",
       "      <th>3</th>\n",
       "      <td>orange</td>\n",
       "      <td>Frogs</td>\n",
       "      <td>DE</td>\n",
       "      <td>0.0</td>\n",
       "      <td>1</td>\n",
       "      <td>0.000</td>\n",
       "      <td>0.000</td>\n",
       "      <td>0.000000</td>\n",
       "      <td>0.000000</td>\n",
       "      <td>0.000000</td>\n",
       "    </tr>\n",
       "    <tr>\n",
       "      <th>15</th>\n",
       "      <td>purple</td>\n",
       "      <td>Frogs</td>\n",
       "      <td>DE</td>\n",
       "      <td>0.0</td>\n",
       "      <td>1</td>\n",
       "      <td>0.000</td>\n",
       "      <td>0.000</td>\n",
       "      <td>0.000000</td>\n",
       "      <td>0.000000</td>\n",
       "      <td>0.000000</td>\n",
       "    </tr>\n",
       "    <tr>\n",
       "      <th>14</th>\n",
       "      <td>purple</td>\n",
       "      <td>Frogs</td>\n",
       "      <td>CD</td>\n",
       "      <td>215.0</td>\n",
       "      <td>18</td>\n",
       "      <td>0.000</td>\n",
       "      <td>2809.902</td>\n",
       "      <td>0.000000</td>\n",
       "      <td>11.944444</td>\n",
       "      <td>156.105667</td>\n",
       "    </tr>\n",
       "    <tr>\n",
       "      <th>19</th>\n",
       "      <td>purple</td>\n",
       "      <td>Geese</td>\n",
       "      <td>DE</td>\n",
       "      <td>300.0</td>\n",
       "      <td>22</td>\n",
       "      <td>0.000</td>\n",
       "      <td>4102.106</td>\n",
       "      <td>0.000000</td>\n",
       "      <td>13.636364</td>\n",
       "      <td>186.459364</td>\n",
       "    </tr>\n",
       "    <tr>\n",
       "      <th>7</th>\n",
       "      <td>orange</td>\n",
       "      <td>Geese</td>\n",
       "      <td>DE</td>\n",
       "      <td>747.0</td>\n",
       "      <td>36</td>\n",
       "      <td>0.000</td>\n",
       "      <td>4672.568</td>\n",
       "      <td>0.000000</td>\n",
       "      <td>20.750000</td>\n",
       "      <td>129.793556</td>\n",
       "    </tr>\n",
       "    <tr>\n",
       "      <th>6</th>\n",
       "      <td>orange</td>\n",
       "      <td>Geese</td>\n",
       "      <td>CD</td>\n",
       "      <td>418.0</td>\n",
       "      <td>23</td>\n",
       "      <td>13.702</td>\n",
       "      <td>4017.724</td>\n",
       "      <td>0.595739</td>\n",
       "      <td>18.173913</td>\n",
       "      <td>174.683652</td>\n",
       "    </tr>\n",
       "    <tr>\n",
       "      <th>5</th>\n",
       "      <td>orange</td>\n",
       "      <td>Geese</td>\n",
       "      <td>BC</td>\n",
       "      <td>1860.0</td>\n",
       "      <td>61</td>\n",
       "      <td>120.714</td>\n",
       "      <td>20106.414</td>\n",
       "      <td>1.978918</td>\n",
       "      <td>30.491803</td>\n",
       "      <td>329.613344</td>\n",
       "    </tr>\n",
       "    <tr>\n",
       "      <th>18</th>\n",
       "      <td>purple</td>\n",
       "      <td>Geese</td>\n",
       "      <td>CD</td>\n",
       "      <td>300.0</td>\n",
       "      <td>12</td>\n",
       "      <td>137.578</td>\n",
       "      <td>3289.348</td>\n",
       "      <td>11.464833</td>\n",
       "      <td>25.000000</td>\n",
       "      <td>274.112333</td>\n",
       "    </tr>\n",
       "    <tr>\n",
       "      <th>17</th>\n",
       "      <td>purple</td>\n",
       "      <td>Geese</td>\n",
       "      <td>BC</td>\n",
       "      <td>1408.0</td>\n",
       "      <td>58</td>\n",
       "      <td>176.824</td>\n",
       "      <td>20393.846</td>\n",
       "      <td>3.048690</td>\n",
       "      <td>24.275862</td>\n",
       "      <td>351.618034</td>\n",
       "    </tr>\n",
       "    <tr>\n",
       "      <th>13</th>\n",
       "      <td>purple</td>\n",
       "      <td>Frogs</td>\n",
       "      <td>BC</td>\n",
       "      <td>2869.0</td>\n",
       "      <td>109</td>\n",
       "      <td>241.180</td>\n",
       "      <td>23575.004</td>\n",
       "      <td>2.212661</td>\n",
       "      <td>26.321101</td>\n",
       "      <td>216.284440</td>\n",
       "    </tr>\n",
       "    <tr>\n",
       "      <th>2</th>\n",
       "      <td>orange</td>\n",
       "      <td>Frogs</td>\n",
       "      <td>CD</td>\n",
       "      <td>2803.0</td>\n",
       "      <td>80</td>\n",
       "      <td>516.088</td>\n",
       "      <td>22689.272</td>\n",
       "      <td>6.451100</td>\n",
       "      <td>35.037500</td>\n",
       "      <td>283.615900</td>\n",
       "    </tr>\n",
       "    <tr>\n",
       "      <th>11</th>\n",
       "      <td>orange</td>\n",
       "      <td>Mice</td>\n",
       "      <td>DE</td>\n",
       "      <td>3265.0</td>\n",
       "      <td>179</td>\n",
       "      <td>525.636</td>\n",
       "      <td>25197.544</td>\n",
       "      <td>2.936514</td>\n",
       "      <td>18.240223</td>\n",
       "      <td>140.768402</td>\n",
       "    </tr>\n",
       "    <tr>\n",
       "      <th>1</th>\n",
       "      <td>orange</td>\n",
       "      <td>Frogs</td>\n",
       "      <td>BC</td>\n",
       "      <td>6882.0</td>\n",
       "      <td>223</td>\n",
       "      <td>722.858</td>\n",
       "      <td>59942.096</td>\n",
       "      <td>3.241516</td>\n",
       "      <td>30.860987</td>\n",
       "      <td>268.798637</td>\n",
       "    </tr>\n",
       "    <tr>\n",
       "      <th>12</th>\n",
       "      <td>purple</td>\n",
       "      <td>Frogs</td>\n",
       "      <td>AB</td>\n",
       "      <td>10407.0</td>\n",
       "      <td>214</td>\n",
       "      <td>1611.380</td>\n",
       "      <td>86753.686</td>\n",
       "      <td>7.529813</td>\n",
       "      <td>48.630841</td>\n",
       "      <td>405.391056</td>\n",
       "    </tr>\n",
       "    <tr>\n",
       "      <th>23</th>\n",
       "      <td>purple</td>\n",
       "      <td>Mice</td>\n",
       "      <td>DE</td>\n",
       "      <td>5104.0</td>\n",
       "      <td>137</td>\n",
       "      <td>2069.994</td>\n",
       "      <td>57242.678</td>\n",
       "      <td>15.109445</td>\n",
       "      <td>37.255474</td>\n",
       "      <td>417.829766</td>\n",
       "    </tr>\n",
       "    <tr>\n",
       "      <th>10</th>\n",
       "      <td>orange</td>\n",
       "      <td>Mice</td>\n",
       "      <td>CD</td>\n",
       "      <td>5849.0</td>\n",
       "      <td>177</td>\n",
       "      <td>2341.864</td>\n",
       "      <td>63439.764</td>\n",
       "      <td>13.230870</td>\n",
       "      <td>33.045198</td>\n",
       "      <td>358.416746</td>\n",
       "    </tr>\n",
       "    <tr>\n",
       "      <th>4</th>\n",
       "      <td>orange</td>\n",
       "      <td>Geese</td>\n",
       "      <td>AB</td>\n",
       "      <td>11066.0</td>\n",
       "      <td>190</td>\n",
       "      <td>2391.712</td>\n",
       "      <td>84000.948</td>\n",
       "      <td>12.587958</td>\n",
       "      <td>58.242105</td>\n",
       "      <td>442.110253</td>\n",
       "    </tr>\n",
       "    <tr>\n",
       "      <th>16</th>\n",
       "      <td>purple</td>\n",
       "      <td>Geese</td>\n",
       "      <td>AB</td>\n",
       "      <td>9612.0</td>\n",
       "      <td>180</td>\n",
       "      <td>5987.464</td>\n",
       "      <td>88519.818</td>\n",
       "      <td>33.263689</td>\n",
       "      <td>53.400000</td>\n",
       "      <td>491.776767</td>\n",
       "    </tr>\n",
       "    <tr>\n",
       "      <th>22</th>\n",
       "      <td>purple</td>\n",
       "      <td>Mice</td>\n",
       "      <td>CD</td>\n",
       "      <td>6136.0</td>\n",
       "      <td>227</td>\n",
       "      <td>6341.918</td>\n",
       "      <td>90837.006</td>\n",
       "      <td>27.937965</td>\n",
       "      <td>27.030837</td>\n",
       "      <td>400.163022</td>\n",
       "    </tr>\n",
       "    <tr>\n",
       "      <th>9</th>\n",
       "      <td>orange</td>\n",
       "      <td>Mice</td>\n",
       "      <td>BC</td>\n",
       "      <td>13134.0</td>\n",
       "      <td>407</td>\n",
       "      <td>9079.900</td>\n",
       "      <td>178626.216</td>\n",
       "      <td>22.309337</td>\n",
       "      <td>32.270270</td>\n",
       "      <td>438.885052</td>\n",
       "    </tr>\n",
       "    <tr>\n",
       "      <th>21</th>\n",
       "      <td>purple</td>\n",
       "      <td>Mice</td>\n",
       "      <td>BC</td>\n",
       "      <td>12556.0</td>\n",
       "      <td>461</td>\n",
       "      <td>10459.586</td>\n",
       "      <td>154662.348</td>\n",
       "      <td>22.688907</td>\n",
       "      <td>27.236443</td>\n",
       "      <td>335.493163</td>\n",
       "    </tr>\n",
       "    <tr>\n",
       "      <th>0</th>\n",
       "      <td>orange</td>\n",
       "      <td>Frogs</td>\n",
       "      <td>AB</td>\n",
       "      <td>60839.0</td>\n",
       "      <td>846</td>\n",
       "      <td>12144.064</td>\n",
       "      <td>422323.788</td>\n",
       "      <td>14.354686</td>\n",
       "      <td>71.913712</td>\n",
       "      <td>499.200695</td>\n",
       "    </tr>\n",
       "    <tr>\n",
       "      <th>8</th>\n",
       "      <td>orange</td>\n",
       "      <td>Mice</td>\n",
       "      <td>AB</td>\n",
       "      <td>87289.0</td>\n",
       "      <td>1243</td>\n",
       "      <td>25789.644</td>\n",
       "      <td>719977.046</td>\n",
       "      <td>20.747903</td>\n",
       "      <td>70.224457</td>\n",
       "      <td>579.225298</td>\n",
       "    </tr>\n",
       "    <tr>\n",
       "      <th>20</th>\n",
       "      <td>purple</td>\n",
       "      <td>Mice</td>\n",
       "      <td>AB</td>\n",
       "      <td>156977.0</td>\n",
       "      <td>2017</td>\n",
       "      <td>62546.778</td>\n",
       "      <td>1386586.414</td>\n",
       "      <td>31.009806</td>\n",
       "      <td>77.826971</td>\n",
       "      <td>687.449883</td>\n",
       "    </tr>\n",
       "  </tbody>\n",
       "</table>\n",
       "</div>"
      ],
      "text/plain": [
       "   platform channel geo  total_events_combo  total_users  total_revenue_d60  \\\n",
       "3    orange   Frogs  DE                 0.0            1              0.000   \n",
       "15   purple   Frogs  DE                 0.0            1              0.000   \n",
       "14   purple   Frogs  CD               215.0           18              0.000   \n",
       "19   purple   Geese  DE               300.0           22              0.000   \n",
       "7    orange   Geese  DE               747.0           36              0.000   \n",
       "6    orange   Geese  CD               418.0           23             13.702   \n",
       "5    orange   Geese  BC              1860.0           61            120.714   \n",
       "18   purple   Geese  CD               300.0           12            137.578   \n",
       "17   purple   Geese  BC              1408.0           58            176.824   \n",
       "13   purple   Frogs  BC              2869.0          109            241.180   \n",
       "2    orange   Frogs  CD              2803.0           80            516.088   \n",
       "11   orange    Mice  DE              3265.0          179            525.636   \n",
       "1    orange   Frogs  BC              6882.0          223            722.858   \n",
       "12   purple   Frogs  AB             10407.0          214           1611.380   \n",
       "23   purple    Mice  DE              5104.0          137           2069.994   \n",
       "10   orange    Mice  CD              5849.0          177           2341.864   \n",
       "4    orange   Geese  AB             11066.0          190           2391.712   \n",
       "16   purple   Geese  AB              9612.0          180           5987.464   \n",
       "22   purple    Mice  CD              6136.0          227           6341.918   \n",
       "9    orange    Mice  BC             13134.0          407           9079.900   \n",
       "21   purple    Mice  BC             12556.0          461          10459.586   \n",
       "0    orange   Frogs  AB             60839.0          846          12144.064   \n",
       "8    orange    Mice  AB             87289.0         1243          25789.644   \n",
       "20   purple    Mice  AB            156977.0         2017          62546.778   \n",
       "\n",
       "    total_revenue_first7  avg_revenue_d60  avg_events_first7  \\\n",
       "3                  0.000         0.000000           0.000000   \n",
       "15                 0.000         0.000000           0.000000   \n",
       "14              2809.902         0.000000          11.944444   \n",
       "19              4102.106         0.000000          13.636364   \n",
       "7               4672.568         0.000000          20.750000   \n",
       "6               4017.724         0.595739          18.173913   \n",
       "5              20106.414         1.978918          30.491803   \n",
       "18              3289.348        11.464833          25.000000   \n",
       "17             20393.846         3.048690          24.275862   \n",
       "13             23575.004         2.212661          26.321101   \n",
       "2              22689.272         6.451100          35.037500   \n",
       "11             25197.544         2.936514          18.240223   \n",
       "1              59942.096         3.241516          30.860987   \n",
       "12             86753.686         7.529813          48.630841   \n",
       "23             57242.678        15.109445          37.255474   \n",
       "10             63439.764        13.230870          33.045198   \n",
       "4              84000.948        12.587958          58.242105   \n",
       "16             88519.818        33.263689          53.400000   \n",
       "22             90837.006        27.937965          27.030837   \n",
       "9             178626.216        22.309337          32.270270   \n",
       "21            154662.348        22.688907          27.236443   \n",
       "0             422323.788        14.354686          71.913712   \n",
       "8             719977.046        20.747903          70.224457   \n",
       "20           1386586.414        31.009806          77.826971   \n",
       "\n",
       "    avg_revenue_first7  \n",
       "3             0.000000  \n",
       "15            0.000000  \n",
       "14          156.105667  \n",
       "19          186.459364  \n",
       "7           129.793556  \n",
       "6           174.683652  \n",
       "5           329.613344  \n",
       "18          274.112333  \n",
       "17          351.618034  \n",
       "13          216.284440  \n",
       "2           283.615900  \n",
       "11          140.768402  \n",
       "1           268.798637  \n",
       "12          405.391056  \n",
       "23          417.829766  \n",
       "10          358.416746  \n",
       "4           442.110253  \n",
       "16          491.776767  \n",
       "22          400.163022  \n",
       "9           438.885052  \n",
       "21          335.493163  \n",
       "0           499.200695  \n",
       "8           579.225298  \n",
       "20          687.449883  "
      ]
     },
     "execution_count": 91,
     "metadata": {},
     "output_type": "execute_result"
    }
   ],
   "source": [
    "checks_combined.sort_values(by = ['total_revenue_d60', 'total_revenue_first7', 'total_events_combo'])"
   ]
  },
  {
   "cell_type": "code",
   "execution_count": 92,
   "metadata": {},
   "outputs": [
    {
     "data": {
      "text/plain": [
       "Text(0, 0.5, 'Total Revenue on Day 60')"
      ]
     },
     "execution_count": 92,
     "metadata": {},
     "output_type": "execute_result"
    },
    {
     "data": {
      "image/png": "[encoded data removed]",
      "text/plain": [
       "<Figure size 432x288 with 1 Axes>"
      ]
     },
     "metadata": {
      "needs_background": "light"
     },
     "output_type": "display_data"
    }
   ],
   "source": [
    "plt.scatter(checks_combined['total_revenue_first7'], checks_combined['total_revenue_d60'])\n",
    "plt.xlabel('Total Revenue 7 days after installation')\n",
    "plt.ylabel('Total Revenue on Day 60')\n",
    "# Looks linear"
   ]
  },
  {
   "cell_type": "code",
   "execution_count": 93,
   "metadata": {},
   "outputs": [
    {
     "data": {
      "text/plain": [
       "Text(0, 0.5, 'Total Revenue on Day 60')"
      ]
     },
     "execution_count": 93,
     "metadata": {},
     "output_type": "execute_result"
    },
    {
     "data": {
      "image/png": "[encoded data removed]",
      "text/plain": [
       "<Figure size 432x288 with 1 Axes>"
      ]
     },
     "metadata": {
      "needs_background": "light"
     },
     "output_type": "display_data"
    }
   ],
   "source": [
    "plt.scatter(checks_combined['total_events_combo'], checks_combined['total_revenue_d60'])\n",
    "plt.xlabel('Total Events 7 days after installation')\n",
    "plt.ylabel('Total Revenue on Day 60')\n",
    "# Looks linear"
   ]
  },
  {
   "cell_type": "code",
   "execution_count": 94,
   "metadata": {},
   "outputs": [
    {
     "data": {
      "text/plain": [
       "Text(0, 0.5, 'Total Revenue on Day 60')"
      ]
     },
     "execution_count": 94,
     "metadata": {},
     "output_type": "execute_result"
    },
    {
     "data": {
      "image/png": "[encoded data removed]",
      "text/plain": [
       "<Figure size 432x288 with 1 Axes>"
      ]
     },
     "metadata": {
      "needs_background": "light"
     },
     "output_type": "display_data"
    }
   ],
   "source": [
    "plt.scatter(checks_combined['avg_revenue_first7'], checks_combined['total_revenue_d60'])\n",
    "plt.xlabel('Average Revenue per User after 7 Days of Installation')\n",
    "plt.ylabel('Total Revenue on Day 60')\n",
    "# Looks log linear"
   ]
  },
  {
   "cell_type": "code",
   "execution_count": 95,
   "metadata": {},
   "outputs": [
    {
     "data": {
      "text/plain": [
       "Text(0, 0.5, 'Total Revenue on Day 60')"
      ]
     },
     "execution_count": 95,
     "metadata": {},
     "output_type": "execute_result"
    },
    {
     "data": {
      "image/png": "[encoded data removed]",
      "text/plain": [
       "<Figure size 432x288 with 1 Axes>"
      ]
     },
     "metadata": {
      "needs_background": "light"
     },
     "output_type": "display_data"
    }
   ],
   "source": [
    "plt.scatter(checks_combined['avg_events_first7'], checks_combined['total_revenue_d60'])\n",
    "plt.xlabel('Average Events 7 days after installation')\n",
    "plt.ylabel('Total Revenue on Day 60')\n",
    "# Looks log linear"
   ]
  },
  {
   "cell_type": "markdown",
   "metadata": {},
   "source": [
    "After removing duplicates, two users belong to \"orange Frogs DE\" or \"purple Frogs DE\" combinations and didn't make a payment in the first seven days, nor on day 60. With such a small sample size, we couldn't read much into it. I don't have the relationshiop between platforms, channels and geos. Fortunately, these tow combinations were very unpopular. I will just assign $0 payment on day 60 to users that belong to these two combinations.\n",
    "\n",
    "The above graphs show that total events and revenue 7 days after installation had approximately linear relationshiop with the revenue on day 60; average events and revenue per user 7 days after installation had approximately log-linear relationshiop with revenue on day 60. I'll incorporate total events/revenue 7 days after installation into models.\n",
    "\n",
    "## Grouping Users according to Total Revenue on Day 60 across Combinations <a class=\"anchor\" id=\"group\"></a>"
   ]
  },
  {
   "cell_type": "code",
   "execution_count": 96,
   "metadata": {},
   "outputs": [
    {
     "data": {
      "text/html": [
       "<div>\n",
       "<style scoped>\n",
       "    .dataframe tbody tr th:only-of-type {\n",
       "        vertical-align: middle;\n",
       "    }\n",
       "\n",
       "    .dataframe tbody tr th {\n",
       "        vertical-align: top;\n",
       "    }\n",
       "\n",
       "    .dataframe thead th {\n",
       "        text-align: right;\n",
       "    }\n",
       "</style>\n",
       "<table border=\"1\" class=\"dataframe\">\n",
       "  <thead>\n",
       "    <tr style=\"text-align: right;\">\n",
       "      <th></th>\n",
       "      <th>platform</th>\n",
       "      <th>channel</th>\n",
       "      <th>geo</th>\n",
       "      <th>total_events_combo</th>\n",
       "      <th>total_users</th>\n",
       "      <th>total_revenue_d60</th>\n",
       "      <th>total_revenue_first7</th>\n",
       "      <th>avg_revenue_d60</th>\n",
       "      <th>avg_events_first7</th>\n",
       "      <th>avg_revenue_first7</th>\n",
       "      <th>combo_category</th>\n",
       "    </tr>\n",
       "  </thead>\n",
       "  <tbody>\n",
       "    <tr>\n",
       "      <th>0</th>\n",
       "      <td>orange</td>\n",
       "      <td>Frogs</td>\n",
       "      <td>AB</td>\n",
       "      <td>60839.0</td>\n",
       "      <td>846</td>\n",
       "      <td>12144.064</td>\n",
       "      <td>422323.788</td>\n",
       "      <td>14.354686</td>\n",
       "      <td>71.913712</td>\n",
       "      <td>499.200695</td>\n",
       "      <td>3</td>\n",
       "    </tr>\n",
       "    <tr>\n",
       "      <th>1</th>\n",
       "      <td>orange</td>\n",
       "      <td>Frogs</td>\n",
       "      <td>BC</td>\n",
       "      <td>6882.0</td>\n",
       "      <td>223</td>\n",
       "      <td>722.858</td>\n",
       "      <td>59942.096</td>\n",
       "      <td>3.241516</td>\n",
       "      <td>30.860987</td>\n",
       "      <td>268.798637</td>\n",
       "      <td>1</td>\n",
       "    </tr>\n",
       "    <tr>\n",
       "      <th>2</th>\n",
       "      <td>orange</td>\n",
       "      <td>Frogs</td>\n",
       "      <td>CD</td>\n",
       "      <td>2803.0</td>\n",
       "      <td>80</td>\n",
       "      <td>516.088</td>\n",
       "      <td>22689.272</td>\n",
       "      <td>6.451100</td>\n",
       "      <td>35.037500</td>\n",
       "      <td>283.615900</td>\n",
       "      <td>1</td>\n",
       "    </tr>\n",
       "    <tr>\n",
       "      <th>3</th>\n",
       "      <td>orange</td>\n",
       "      <td>Frogs</td>\n",
       "      <td>DE</td>\n",
       "      <td>0.0</td>\n",
       "      <td>1</td>\n",
       "      <td>0.000</td>\n",
       "      <td>0.000</td>\n",
       "      <td>0.000000</td>\n",
       "      <td>0.000000</td>\n",
       "      <td>0.000000</td>\n",
       "      <td>0</td>\n",
       "    </tr>\n",
       "    <tr>\n",
       "      <th>4</th>\n",
       "      <td>orange</td>\n",
       "      <td>Geese</td>\n",
       "      <td>AB</td>\n",
       "      <td>11066.0</td>\n",
       "      <td>190</td>\n",
       "      <td>2391.712</td>\n",
       "      <td>84000.948</td>\n",
       "      <td>12.587958</td>\n",
       "      <td>58.242105</td>\n",
       "      <td>442.110253</td>\n",
       "      <td>2</td>\n",
       "    </tr>\n",
       "    <tr>\n",
       "      <th>5</th>\n",
       "      <td>orange</td>\n",
       "      <td>Geese</td>\n",
       "      <td>BC</td>\n",
       "      <td>1860.0</td>\n",
       "      <td>61</td>\n",
       "      <td>120.714</td>\n",
       "      <td>20106.414</td>\n",
       "      <td>1.978918</td>\n",
       "      <td>30.491803</td>\n",
       "      <td>329.613344</td>\n",
       "      <td>1</td>\n",
       "    </tr>\n",
       "    <tr>\n",
       "      <th>6</th>\n",
       "      <td>orange</td>\n",
       "      <td>Geese</td>\n",
       "      <td>CD</td>\n",
       "      <td>418.0</td>\n",
       "      <td>23</td>\n",
       "      <td>13.702</td>\n",
       "      <td>4017.724</td>\n",
       "      <td>0.595739</td>\n",
       "      <td>18.173913</td>\n",
       "      <td>174.683652</td>\n",
       "      <td>0</td>\n",
       "    </tr>\n",
       "    <tr>\n",
       "      <th>7</th>\n",
       "      <td>orange</td>\n",
       "      <td>Geese</td>\n",
       "      <td>DE</td>\n",
       "      <td>747.0</td>\n",
       "      <td>36</td>\n",
       "      <td>0.000</td>\n",
       "      <td>4672.568</td>\n",
       "      <td>0.000000</td>\n",
       "      <td>20.750000</td>\n",
       "      <td>129.793556</td>\n",
       "      <td>0</td>\n",
       "    </tr>\n",
       "    <tr>\n",
       "      <th>8</th>\n",
       "      <td>orange</td>\n",
       "      <td>Mice</td>\n",
       "      <td>AB</td>\n",
       "      <td>87289.0</td>\n",
       "      <td>1243</td>\n",
       "      <td>25789.644</td>\n",
       "      <td>719977.046</td>\n",
       "      <td>20.747903</td>\n",
       "      <td>70.224457</td>\n",
       "      <td>579.225298</td>\n",
       "      <td>3</td>\n",
       "    </tr>\n",
       "    <tr>\n",
       "      <th>9</th>\n",
       "      <td>orange</td>\n",
       "      <td>Mice</td>\n",
       "      <td>BC</td>\n",
       "      <td>13134.0</td>\n",
       "      <td>407</td>\n",
       "      <td>9079.900</td>\n",
       "      <td>178626.216</td>\n",
       "      <td>22.309337</td>\n",
       "      <td>32.270270</td>\n",
       "      <td>438.885052</td>\n",
       "      <td>2</td>\n",
       "    </tr>\n",
       "    <tr>\n",
       "      <th>10</th>\n",
       "      <td>orange</td>\n",
       "      <td>Mice</td>\n",
       "      <td>CD</td>\n",
       "      <td>5849.0</td>\n",
       "      <td>177</td>\n",
       "      <td>2341.864</td>\n",
       "      <td>63439.764</td>\n",
       "      <td>13.230870</td>\n",
       "      <td>33.045198</td>\n",
       "      <td>358.416746</td>\n",
       "      <td>2</td>\n",
       "    </tr>\n",
       "    <tr>\n",
       "      <th>11</th>\n",
       "      <td>orange</td>\n",
       "      <td>Mice</td>\n",
       "      <td>DE</td>\n",
       "      <td>3265.0</td>\n",
       "      <td>179</td>\n",
       "      <td>525.636</td>\n",
       "      <td>25197.544</td>\n",
       "      <td>2.936514</td>\n",
       "      <td>18.240223</td>\n",
       "      <td>140.768402</td>\n",
       "      <td>1</td>\n",
       "    </tr>\n",
       "    <tr>\n",
       "      <th>12</th>\n",
       "      <td>purple</td>\n",
       "      <td>Frogs</td>\n",
       "      <td>AB</td>\n",
       "      <td>10407.0</td>\n",
       "      <td>214</td>\n",
       "      <td>1611.380</td>\n",
       "      <td>86753.686</td>\n",
       "      <td>7.529813</td>\n",
       "      <td>48.630841</td>\n",
       "      <td>405.391056</td>\n",
       "      <td>2</td>\n",
       "    </tr>\n",
       "    <tr>\n",
       "      <th>13</th>\n",
       "      <td>purple</td>\n",
       "      <td>Frogs</td>\n",
       "      <td>BC</td>\n",
       "      <td>2869.0</td>\n",
       "      <td>109</td>\n",
       "      <td>241.180</td>\n",
       "      <td>23575.004</td>\n",
       "      <td>2.212661</td>\n",
       "      <td>26.321101</td>\n",
       "      <td>216.284440</td>\n",
       "      <td>1</td>\n",
       "    </tr>\n",
       "    <tr>\n",
       "      <th>14</th>\n",
       "      <td>purple</td>\n",
       "      <td>Frogs</td>\n",
       "      <td>CD</td>\n",
       "      <td>215.0</td>\n",
       "      <td>18</td>\n",
       "      <td>0.000</td>\n",
       "      <td>2809.902</td>\n",
       "      <td>0.000000</td>\n",
       "      <td>11.944444</td>\n",
       "      <td>156.105667</td>\n",
       "      <td>0</td>\n",
       "    </tr>\n",
       "    <tr>\n",
       "      <th>15</th>\n",
       "      <td>purple</td>\n",
       "      <td>Frogs</td>\n",
       "      <td>DE</td>\n",
       "      <td>0.0</td>\n",
       "      <td>1</td>\n",
       "      <td>0.000</td>\n",
       "      <td>0.000</td>\n",
       "      <td>0.000000</td>\n",
       "      <td>0.000000</td>\n",
       "      <td>0.000000</td>\n",
       "      <td>0</td>\n",
       "    </tr>\n",
       "    <tr>\n",
       "      <th>16</th>\n",
       "      <td>purple</td>\n",
       "      <td>Geese</td>\n",
       "      <td>AB</td>\n",
       "      <td>9612.0</td>\n",
       "      <td>180</td>\n",
       "      <td>5987.464</td>\n",
       "      <td>88519.818</td>\n",
       "      <td>33.263689</td>\n",
       "      <td>53.400000</td>\n",
       "      <td>491.776767</td>\n",
       "      <td>2</td>\n",
       "    </tr>\n",
       "    <tr>\n",
       "      <th>17</th>\n",
       "      <td>purple</td>\n",
       "      <td>Geese</td>\n",
       "      <td>BC</td>\n",
       "      <td>1408.0</td>\n",
       "      <td>58</td>\n",
       "      <td>176.824</td>\n",
       "      <td>20393.846</td>\n",
       "      <td>3.048690</td>\n",
       "      <td>24.275862</td>\n",
       "      <td>351.618034</td>\n",
       "      <td>1</td>\n",
       "    </tr>\n",
       "    <tr>\n",
       "      <th>18</th>\n",
       "      <td>purple</td>\n",
       "      <td>Geese</td>\n",
       "      <td>CD</td>\n",
       "      <td>300.0</td>\n",
       "      <td>12</td>\n",
       "      <td>137.578</td>\n",
       "      <td>3289.348</td>\n",
       "      <td>11.464833</td>\n",
       "      <td>25.000000</td>\n",
       "      <td>274.112333</td>\n",
       "      <td>1</td>\n",
       "    </tr>\n",
       "    <tr>\n",
       "      <th>19</th>\n",
       "      <td>purple</td>\n",
       "      <td>Geese</td>\n",
       "      <td>DE</td>\n",
       "      <td>300.0</td>\n",
       "      <td>22</td>\n",
       "      <td>0.000</td>\n",
       "      <td>4102.106</td>\n",
       "      <td>0.000000</td>\n",
       "      <td>13.636364</td>\n",
       "      <td>186.459364</td>\n",
       "      <td>0</td>\n",
       "    </tr>\n",
       "    <tr>\n",
       "      <th>20</th>\n",
       "      <td>purple</td>\n",
       "      <td>Mice</td>\n",
       "      <td>AB</td>\n",
       "      <td>156977.0</td>\n",
       "      <td>2017</td>\n",
       "      <td>62546.778</td>\n",
       "      <td>1386586.414</td>\n",
       "      <td>31.009806</td>\n",
       "      <td>77.826971</td>\n",
       "      <td>687.449883</td>\n",
       "      <td>3</td>\n",
       "    </tr>\n",
       "    <tr>\n",
       "      <th>21</th>\n",
       "      <td>purple</td>\n",
       "      <td>Mice</td>\n",
       "      <td>BC</td>\n",
       "      <td>12556.0</td>\n",
       "      <td>461</td>\n",
       "      <td>10459.586</td>\n",
       "      <td>154662.348</td>\n",
       "      <td>22.688907</td>\n",
       "      <td>27.236443</td>\n",
       "      <td>335.493163</td>\n",
       "      <td>3</td>\n",
       "    </tr>\n",
       "    <tr>\n",
       "      <th>22</th>\n",
       "      <td>purple</td>\n",
       "      <td>Mice</td>\n",
       "      <td>CD</td>\n",
       "      <td>6136.0</td>\n",
       "      <td>227</td>\n",
       "      <td>6341.918</td>\n",
       "      <td>90837.006</td>\n",
       "      <td>27.937965</td>\n",
       "      <td>27.030837</td>\n",
       "      <td>400.163022</td>\n",
       "      <td>2</td>\n",
       "    </tr>\n",
       "    <tr>\n",
       "      <th>23</th>\n",
       "      <td>purple</td>\n",
       "      <td>Mice</td>\n",
       "      <td>DE</td>\n",
       "      <td>5104.0</td>\n",
       "      <td>137</td>\n",
       "      <td>2069.994</td>\n",
       "      <td>57242.678</td>\n",
       "      <td>15.109445</td>\n",
       "      <td>37.255474</td>\n",
       "      <td>417.829766</td>\n",
       "      <td>2</td>\n",
       "    </tr>\n",
       "  </tbody>\n",
       "</table>\n",
       "</div>"
      ],
      "text/plain": [
       "   platform channel geo  total_events_combo  total_users  total_revenue_d60  \\\n",
       "0    orange   Frogs  AB             60839.0          846          12144.064   \n",
       "1    orange   Frogs  BC              6882.0          223            722.858   \n",
       "2    orange   Frogs  CD              2803.0           80            516.088   \n",
       "3    orange   Frogs  DE                 0.0            1              0.000   \n",
       "4    orange   Geese  AB             11066.0          190           2391.712   \n",
       "5    orange   Geese  BC              1860.0           61            120.714   \n",
       "6    orange   Geese  CD               418.0           23             13.702   \n",
       "7    orange   Geese  DE               747.0           36              0.000   \n",
       "8    orange    Mice  AB             87289.0         1243          25789.644   \n",
       "9    orange    Mice  BC             13134.0          407           9079.900   \n",
       "10   orange    Mice  CD              5849.0          177           2341.864   \n",
       "11   orange    Mice  DE              3265.0          179            525.636   \n",
       "12   purple   Frogs  AB             10407.0          214           1611.380   \n",
       "13   purple   Frogs  BC              2869.0          109            241.180   \n",
       "14   purple   Frogs  CD               215.0           18              0.000   \n",
       "15   purple   Frogs  DE                 0.0            1              0.000   \n",
       "16   purple   Geese  AB              9612.0          180           5987.464   \n",
       "17   purple   Geese  BC              1408.0           58            176.824   \n",
       "18   purple   Geese  CD               300.0           12            137.578   \n",
       "19   purple   Geese  DE               300.0           22              0.000   \n",
       "20   purple    Mice  AB            156977.0         2017          62546.778   \n",
       "21   purple    Mice  BC             12556.0          461          10459.586   \n",
       "22   purple    Mice  CD              6136.0          227           6341.918   \n",
       "23   purple    Mice  DE              5104.0          137           2069.994   \n",
       "\n",
       "    total_revenue_first7  avg_revenue_d60  avg_events_first7  \\\n",
       "0             422323.788        14.354686          71.913712   \n",
       "1              59942.096         3.241516          30.860987   \n",
       "2              22689.272         6.451100          35.037500   \n",
       "3                  0.000         0.000000           0.000000   \n",
       "4              84000.948        12.587958          58.242105   \n",
       "5              20106.414         1.978918          30.491803   \n",
       "6               4017.724         0.595739          18.173913   \n",
       "7               4672.568         0.000000          20.750000   \n",
       "8             719977.046        20.747903          70.224457   \n",
       "9             178626.216        22.309337          32.270270   \n",
       "10             63439.764        13.230870          33.045198   \n",
       "11             25197.544         2.936514          18.240223   \n",
       "12             86753.686         7.529813          48.630841   \n",
       "13             23575.004         2.212661          26.321101   \n",
       "14              2809.902         0.000000          11.944444   \n",
       "15                 0.000         0.000000           0.000000   \n",
       "16             88519.818        33.263689          53.400000   \n",
       "17             20393.846         3.048690          24.275862   \n",
       "18              3289.348        11.464833          25.000000   \n",
       "19              4102.106         0.000000          13.636364   \n",
       "20           1386586.414        31.009806          77.826971   \n",
       "21            154662.348        22.688907          27.236443   \n",
       "22             90837.006        27.937965          27.030837   \n",
       "23             57242.678        15.109445          37.255474   \n",
       "\n",
       "    avg_revenue_first7  combo_category  \n",
       "0           499.200695               3  \n",
       "1           268.798637               1  \n",
       "2           283.615900               1  \n",
       "3             0.000000               0  \n",
       "4           442.110253               2  \n",
       "5           329.613344               1  \n",
       "6           174.683652               0  \n",
       "7           129.793556               0  \n",
       "8           579.225298               3  \n",
       "9           438.885052               2  \n",
       "10          358.416746               2  \n",
       "11          140.768402               1  \n",
       "12          405.391056               2  \n",
       "13          216.284440               1  \n",
       "14          156.105667               0  \n",
       "15            0.000000               0  \n",
       "16          491.776767               2  \n",
       "17          351.618034               1  \n",
       "18          274.112333               1  \n",
       "19          186.459364               0  \n",
       "20          687.449883               3  \n",
       "21          335.493163               3  \n",
       "22          400.163022               2  \n",
       "23          417.829766               2  "
      ]
     },
     "execution_count": 96,
     "metadata": {},
     "output_type": "execute_result"
    }
   ],
   "source": [
    "# Group combinations with similar ranges of day 60 revenue together\n",
    "conditions = [checks_combined['total_revenue_d60'] < 100\\\n",
    "             , (checks_combined['total_revenue_d60'] >= 100) & (checks_combined['total_revenue_d60'] < 1000)\\\n",
    "             , (checks_combined['total_revenue_d60'] >= 1000) & (checks_combined['total_revenue_d60'] < 10000)\\\n",
    "             , checks_combined['total_revenue_d60'] >= 10000]\n",
    "# Assign combo_category numbers\n",
    "choices = [0, 1, 2, 3]\n",
    "checks_combined['combo_category'] = np.select(conditions, choices, default=0)\n",
    "checks_combined"
   ]
  },
  {
   "cell_type": "code",
   "execution_count": 97,
   "metadata": {},
   "outputs": [
    {
     "data": {
      "text/html": [
       "<div>\n",
       "<style scoped>\n",
       "    .dataframe tbody tr th:only-of-type {\n",
       "        vertical-align: middle;\n",
       "    }\n",
       "\n",
       "    .dataframe tbody tr th {\n",
       "        vertical-align: top;\n",
       "    }\n",
       "\n",
       "    .dataframe thead th {\n",
       "        text-align: right;\n",
       "    }\n",
       "</style>\n",
       "<table border=\"1\" class=\"dataframe\">\n",
       "  <thead>\n",
       "    <tr style=\"text-align: right;\">\n",
       "      <th></th>\n",
       "      <th>combo_category</th>\n",
       "      <th>users_sum</th>\n",
       "    </tr>\n",
       "  </thead>\n",
       "  <tbody>\n",
       "    <tr>\n",
       "      <th>0</th>\n",
       "      <td>0</td>\n",
       "      <td>101</td>\n",
       "    </tr>\n",
       "    <tr>\n",
       "      <th>1</th>\n",
       "      <td>1</td>\n",
       "      <td>722</td>\n",
       "    </tr>\n",
       "    <tr>\n",
       "      <th>2</th>\n",
       "      <td>2</td>\n",
       "      <td>1532</td>\n",
       "    </tr>\n",
       "    <tr>\n",
       "      <th>3</th>\n",
       "      <td>3</td>\n",
       "      <td>4567</td>\n",
       "    </tr>\n",
       "  </tbody>\n",
       "</table>\n",
       "</div>"
      ],
      "text/plain": [
       "   combo_category  users_sum\n",
       "0               0        101\n",
       "1               1        722\n",
       "2               2       1532\n",
       "3               3       4567"
      ]
     },
     "execution_count": 97,
     "metadata": {},
     "output_type": "execute_result"
    }
   ],
   "source": [
    "# Check the number of total users in each of three groups\n",
    "checks_groups_users = checks_combined.groupby('combo_category')\\\n",
    "                                     .agg(users_sum = ('total_users', 'sum'))\\\n",
    "                                     .reset_index()\n",
    "checks_groups_users"
   ]
  },
  {
   "cell_type": "markdown",
   "metadata": {},
   "source": [
    "I almost have no data for '0' combo category. Users under this category almost always had zero revenue on day 60 in the given data. For users fall into category '0,' I'll just predict their day 60 revenue as zero. Below is the modeling part of other three combo categories."
   ]
  },
  {
   "cell_type": "code",
   "execution_count": 98,
   "metadata": {},
   "outputs": [],
   "source": [
    "# Add combo_category to main_df_ddp\n",
    "main_df_ddp = main_df_ddp.merge(checks_combined[['platform', 'channel', 'geo', 'combo_category']], how = 'left'\\\n",
    "                               , on = ['platform', 'channel', 'geo'])"
   ]
  },
  {
   "cell_type": "code",
   "execution_count": 99,
   "metadata": {},
   "outputs": [
    {
     "data": {
      "text/html": [
       "<div>\n",
       "<style scoped>\n",
       "    .dataframe tbody tr th:only-of-type {\n",
       "        vertical-align: middle;\n",
       "    }\n",
       "\n",
       "    .dataframe tbody tr th {\n",
       "        vertical-align: top;\n",
       "    }\n",
       "\n",
       "    .dataframe thead th {\n",
       "        text-align: right;\n",
       "    }\n",
       "</style>\n",
       "<table border=\"1\" class=\"dataframe\">\n",
       "  <thead>\n",
       "    <tr style=\"text-align: right;\">\n",
       "      <th></th>\n",
       "      <th>platform</th>\n",
       "      <th>channel</th>\n",
       "      <th>geo</th>\n",
       "      <th>install_date</th>\n",
       "      <th>install_datetime</th>\n",
       "      <th>iap_times_total_events_1</th>\n",
       "      <th>iap_times_total_events_2</th>\n",
       "      <th>iap_times_total_events_3</th>\n",
       "      <th>iap_times_total_events_4</th>\n",
       "      <th>iap_times_total_events_5</th>\n",
       "      <th>...</th>\n",
       "      <th>rev_day_1</th>\n",
       "      <th>rev_day_2</th>\n",
       "      <th>rev_day_3</th>\n",
       "      <th>rev_day_4</th>\n",
       "      <th>rev_day_5</th>\n",
       "      <th>rev_day_6</th>\n",
       "      <th>rev_day_7</th>\n",
       "      <th>total_events</th>\n",
       "      <th>total_revenue</th>\n",
       "      <th>combo_category</th>\n",
       "    </tr>\n",
       "  </thead>\n",
       "  <tbody>\n",
       "    <tr>\n",
       "      <th>0</th>\n",
       "      <td>purple</td>\n",
       "      <td>Mice</td>\n",
       "      <td>AB</td>\n",
       "      <td>2020-11-03</td>\n",
       "      <td>2020-11-03</td>\n",
       "      <td>0.0</td>\n",
       "      <td>0.0</td>\n",
       "      <td>0.0</td>\n",
       "      <td>0.0</td>\n",
       "      <td>0.0</td>\n",
       "      <td>...</td>\n",
       "      <td>0.0</td>\n",
       "      <td>0.0</td>\n",
       "      <td>0.0</td>\n",
       "      <td>0.0</td>\n",
       "      <td>0.0</td>\n",
       "      <td>0.0</td>\n",
       "      <td>0.000</td>\n",
       "      <td>0.0</td>\n",
       "      <td>0.000</td>\n",
       "      <td>3</td>\n",
       "    </tr>\n",
       "    <tr>\n",
       "      <th>1</th>\n",
       "      <td>purple</td>\n",
       "      <td>Mice</td>\n",
       "      <td>BC</td>\n",
       "      <td>2020-11-03</td>\n",
       "      <td>2020-11-03</td>\n",
       "      <td>0.0</td>\n",
       "      <td>0.0</td>\n",
       "      <td>0.0</td>\n",
       "      <td>0.0</td>\n",
       "      <td>0.0</td>\n",
       "      <td>...</td>\n",
       "      <td>0.0</td>\n",
       "      <td>0.0</td>\n",
       "      <td>0.0</td>\n",
       "      <td>0.0</td>\n",
       "      <td>0.0</td>\n",
       "      <td>0.0</td>\n",
       "      <td>0.000</td>\n",
       "      <td>0.0</td>\n",
       "      <td>0.000</td>\n",
       "      <td>3</td>\n",
       "    </tr>\n",
       "    <tr>\n",
       "      <th>2</th>\n",
       "      <td>purple</td>\n",
       "      <td>Mice</td>\n",
       "      <td>CD</td>\n",
       "      <td>2020-11-03</td>\n",
       "      <td>2020-11-03</td>\n",
       "      <td>0.0</td>\n",
       "      <td>0.0</td>\n",
       "      <td>0.0</td>\n",
       "      <td>0.0</td>\n",
       "      <td>0.0</td>\n",
       "      <td>...</td>\n",
       "      <td>0.0</td>\n",
       "      <td>0.0</td>\n",
       "      <td>0.0</td>\n",
       "      <td>0.0</td>\n",
       "      <td>0.0</td>\n",
       "      <td>0.0</td>\n",
       "      <td>0.000</td>\n",
       "      <td>0.0</td>\n",
       "      <td>0.000</td>\n",
       "      <td>2</td>\n",
       "    </tr>\n",
       "    <tr>\n",
       "      <th>3</th>\n",
       "      <td>purple</td>\n",
       "      <td>Mice</td>\n",
       "      <td>DE</td>\n",
       "      <td>2020-11-03</td>\n",
       "      <td>2020-11-03</td>\n",
       "      <td>0.0</td>\n",
       "      <td>0.0</td>\n",
       "      <td>0.0</td>\n",
       "      <td>0.0</td>\n",
       "      <td>0.0</td>\n",
       "      <td>...</td>\n",
       "      <td>0.0</td>\n",
       "      <td>0.0</td>\n",
       "      <td>0.0</td>\n",
       "      <td>0.0</td>\n",
       "      <td>0.0</td>\n",
       "      <td>0.0</td>\n",
       "      <td>0.000</td>\n",
       "      <td>0.0</td>\n",
       "      <td>0.000</td>\n",
       "      <td>2</td>\n",
       "    </tr>\n",
       "    <tr>\n",
       "      <th>4</th>\n",
       "      <td>purple</td>\n",
       "      <td>Mice</td>\n",
       "      <td>AB</td>\n",
       "      <td>2020-11-03</td>\n",
       "      <td>2020-11-03</td>\n",
       "      <td>0.0</td>\n",
       "      <td>0.0</td>\n",
       "      <td>0.0</td>\n",
       "      <td>0.0</td>\n",
       "      <td>0.0</td>\n",
       "      <td>...</td>\n",
       "      <td>0.0</td>\n",
       "      <td>0.0</td>\n",
       "      <td>0.0</td>\n",
       "      <td>0.0</td>\n",
       "      <td>0.0</td>\n",
       "      <td>0.0</td>\n",
       "      <td>61.876</td>\n",
       "      <td>28.0</td>\n",
       "      <td>61.876</td>\n",
       "      <td>3</td>\n",
       "    </tr>\n",
       "  </tbody>\n",
       "</table>\n",
       "<p>5 rows × 23 columns</p>\n",
       "</div>"
      ],
      "text/plain": [
       "  platform channel geo install_date install_datetime  \\\n",
       "0   purple    Mice  AB   2020-11-03       2020-11-03   \n",
       "1   purple    Mice  BC   2020-11-03       2020-11-03   \n",
       "2   purple    Mice  CD   2020-11-03       2020-11-03   \n",
       "3   purple    Mice  DE   2020-11-03       2020-11-03   \n",
       "4   purple    Mice  AB   2020-11-03       2020-11-03   \n",
       "\n",
       "   iap_times_total_events_1  iap_times_total_events_2  \\\n",
       "0                       0.0                       0.0   \n",
       "1                       0.0                       0.0   \n",
       "2                       0.0                       0.0   \n",
       "3                       0.0                       0.0   \n",
       "4                       0.0                       0.0   \n",
       "\n",
       "   iap_times_total_events_3  iap_times_total_events_4  \\\n",
       "0                       0.0                       0.0   \n",
       "1                       0.0                       0.0   \n",
       "2                       0.0                       0.0   \n",
       "3                       0.0                       0.0   \n",
       "4                       0.0                       0.0   \n",
       "\n",
       "   iap_times_total_events_5  ...  rev_day_1  rev_day_2  rev_day_3  rev_day_4  \\\n",
       "0                       0.0  ...        0.0        0.0        0.0        0.0   \n",
       "1                       0.0  ...        0.0        0.0        0.0        0.0   \n",
       "2                       0.0  ...        0.0        0.0        0.0        0.0   \n",
       "3                       0.0  ...        0.0        0.0        0.0        0.0   \n",
       "4                       0.0  ...        0.0        0.0        0.0        0.0   \n",
       "\n",
       "   rev_day_5  rev_day_6  rev_day_7  total_events  total_revenue  \\\n",
       "0        0.0        0.0      0.000           0.0          0.000   \n",
       "1        0.0        0.0      0.000           0.0          0.000   \n",
       "2        0.0        0.0      0.000           0.0          0.000   \n",
       "3        0.0        0.0      0.000           0.0          0.000   \n",
       "4        0.0        0.0     61.876          28.0         61.876   \n",
       "\n",
       "   combo_category  \n",
       "0               3  \n",
       "1               3  \n",
       "2               2  \n",
       "3               2  \n",
       "4               3  \n",
       "\n",
       "[5 rows x 23 columns]"
      ]
     },
     "execution_count": 99,
     "metadata": {},
     "output_type": "execute_result"
    }
   ],
   "source": [
    "main_df_ddp.head()"
   ]
  },
  {
   "cell_type": "code",
   "execution_count": 100,
   "metadata": {},
   "outputs": [],
   "source": [
    "# Separate features and targets for the later splits\n",
    "main_df_features = main_df_ddp.drop(['platform', 'channel', 'geo', 'revenue_d60', 'install_date', 'install_datetime'], axis = 1)\n",
    "main_df_targets = main_df_ddp[['revenue_d60', 'combo_category']]"
   ]
  },
  {
   "cell_type": "markdown",
   "metadata": {},
   "source": [
    "## Modeling <a class=\"anchor\" id=\"model\"></a>"
   ]
  },
  {
   "cell_type": "code",
   "execution_count": 101,
   "metadata": {},
   "outputs": [],
   "source": [
    "# Train-test split\n",
    "X_train_1, X_test_1, y_train_1, y_test_1 = train_test_split(main_df_features\\\n",
    "                                                            [main_df_features['combo_category'] == 1]\\\n",
    "                                                            , main_df_targets\\\n",
    "                                                            [main_df_targets['combo_category'] == 1]['revenue_d60']\\\n",
    "                                                            , test_size = 0.3, random_state = 0)\n",
    "X_train_2, X_test_2, y_train_2, y_test_2 = train_test_split(main_df_features\\\n",
    "                                                            [main_df_features['combo_category'] == 2]\\\n",
    "                                                            , main_df_targets\\\n",
    "                                                            [main_df_targets['combo_category'] == 2]['revenue_d60']\\\n",
    "                                                            , test_size = 0.3, random_state = 0)\n",
    "X_train_3, X_test_3, y_train_3, y_test_3 = train_test_split(main_df_features\\\n",
    "                                                            [main_df_features['combo_category'] == 3]\\\n",
    "                                                            , main_df_targets\\\n",
    "                                                            [main_df_targets['combo_category'] == 3]['revenue_d60']\\\n",
    "                                                            , test_size = 0.3, random_state = 0)"
   ]
  },
  {
   "cell_type": "code",
   "execution_count": 102,
   "metadata": {},
   "outputs": [],
   "source": [
    "# User RMSE as a scoring metric, because I want to penalize extreme large errors (positive or negative)\n",
    "metric = 'neg_root_mean_squared_error'"
   ]
  },
  {
   "cell_type": "code",
   "execution_count": 103,
   "metadata": {},
   "outputs": [
    {
     "name": "stdout",
     "output_type": "stream",
     "text": [
      "14.92089605946834\n"
     ]
    }
   ],
   "source": [
    "# Try simple OLS\n",
    "linear_reg1 = LinearRegression().fit(X_train_1, y_train_1)\n",
    "y_test_pred1_lr = linear_reg1.predict(X_test_1)\n",
    "print(mean_squared_error(y_test_1, y_test_pred1_lr, squared=False))"
   ]
  },
  {
   "cell_type": "code",
   "execution_count": 104,
   "metadata": {},
   "outputs": [
    {
     "name": "stdout",
     "output_type": "stream",
     "text": [
      "14.920785201150435\n"
     ]
    }
   ],
   "source": [
    "# Lasso\n",
    "lasso1 = Lasso(alpha= 0.003, random_state=1)\n",
    "param_grid_lasso1 = {\n",
    "                    'alpha' : np.linspace(0.0001, 0.001, 10)\n",
    "                    }\n",
    "search_lasso1 = GridSearchCV(estimator = lasso1, param_grid=param_grid_lasso1, cv=10, scoring=metric, n_jobs=-1)\n",
    "search_lasso1.fit(X_train_1, y_train_1)\n",
    "# Compute RMSE on test set\n",
    "y_test_pred1_lasso = search_lasso1.predict(X_test_1)\n",
    "print(mean_squared_error(y_test_1, y_test_pred1_lasso, squared=False))"
   ]
  },
  {
   "cell_type": "code",
   "execution_count": 109,
   "metadata": {},
   "outputs": [
    {
     "name": "stdout",
     "output_type": "stream",
     "text": [
      "{'lasso1__alpha': 0.001, 'reduce_dims__n_components': 0.75}\n",
      "13.134720027377671\n"
     ]
    }
   ],
   "source": [
    "# Lasso with å PCA pipeline\n",
    "lasso1_pipe = Pipeline([(\"scale\", StandardScaler()),\n",
    "                           (\"reduce_dims\", PCA()),\n",
    "                           (\"lasso1\", Lasso())\n",
    "                          ])\n",
    "param_grid_lassopca1 = dict(\n",
    "                            reduce_dims__n_components = [0.75, 0.95],\n",
    "                            lasso1__alpha = np.linspace(0.0001, 0.001, 10)\n",
    "                            )\n",
    "search_pca_lasso1 = GridSearchCV(estimator = lasso1_pipe, param_grid=param_grid_lassopca1, cv=10, scoring=metric, n_jobs=-1)\n",
    "search_pca_lasso1.fit(X_train_1, y_train_1)\n",
    "# Compute RMSE on test set\n",
    "y_test_pred1_lassopca = search_pca_lasso1.predict(X_test_1)\n",
    "print(f\"{search_pca_lasso1.best_params_}\")\n",
    "print(mean_squared_error(y_test_1, y_test_pred1_lassopca, squared=False))"
   ]
  },
  {
   "cell_type": "code",
   "execution_count": 372,
   "metadata": {},
   "outputs": [
    {
     "name": "stdout",
     "output_type": "stream",
     "text": [
      "14.920896034123997\n"
     ]
    }
   ],
   "source": [
    "# Ridge.\n",
    "ridge1 = Ridge(alpha= 0.003, random_state=1)\n",
    "param_grid_ridge1 = {\n",
    "                    'alpha' : np.linspace(0.0001, 0.001, 10)\n",
    "                    }\n",
    "search_ridge1 = GridSearchCV(estimator = ridge1, param_grid = param_grid_ridge1, cv=10, scoring=metric, n_jobs=-1)\n",
    "search_ridge1.fit(X_train_1, y_train_1)\n",
    "# Compute RMSE on test set\n",
    "y_test_pred1_ridge = search_ridge1.predict(X_test_1)\n",
    "print(mean_squared_error(y_test_1, y_test_pred1_ridge, squared=False))"
   ]
  },
  {
   "cell_type": "code",
   "execution_count": 112,
   "metadata": {},
   "outputs": [
    {
     "name": "stdout",
     "output_type": "stream",
     "text": [
      "{'reduce_dims__n_components': 0.75, 'ridge1__alpha': 0.001}\n",
      "13.135095888632728\n"
     ]
    }
   ],
   "source": [
    "# Ridge with å PCA pipeline\n",
    "ridge1_pipe = Pipeline([(\"scale\", StandardScaler()),\n",
    "                           (\"reduce_dims\", PCA()),\n",
    "                           (\"ridge1\", Ridge())\n",
    "                          ])\n",
    "param_grid_ridgepca1 = dict(\n",
    "                            reduce_dims__n_components = [0.75, 0.95],\n",
    "                            ridge1__alpha = np.linspace(0.0001, 0.001, 10)\n",
    "                            )\n",
    "search_pca_ridge1 = GridSearchCV(estimator = ridge1_pipe, param_grid=param_grid_ridgepca1, cv=10, scoring=metric, n_jobs=-1)\n",
    "search_pca_ridge1.fit(X_train_1, y_train_1)\n",
    "# Compute RMSE on test set\n",
    "y_test_pred1_ridgepca = search_pca_ridge1.predict(X_test_1)\n",
    "print(f\"{search_pca_ridge1.best_params_}\")\n",
    "print(mean_squared_error(y_test_1, y_test_pred1_ridgepca, squared=False))"
   ]
  },
  {
   "cell_type": "code",
   "execution_count": 375,
   "metadata": {},
   "outputs": [
    {
     "name": "stdout",
     "output_type": "stream",
     "text": [
      "{'alpha': 0.001, 'l1_ratio': 0.95}\n",
      "14.920790142418559\n"
     ]
    }
   ],
   "source": [
    "# Elastic Net.\n",
    "elastic_net1 = ElasticNet(alpha= 0.0005, \n",
    "                         l1_ratio= 0.4, \n",
    "                         random_state=1)\n",
    "param_grid_el1 = {\n",
    "                'alpha' : np.linspace(0.0001, 0.001, 10),\n",
    "                'l1_ratio' : np.linspace(0.6, 0.95, 20)\n",
    "                }\n",
    "search_el1 = GridSearchCV(estimator = elastic_net1, param_grid = param_grid_el1, cv=10, scoring=metric, n_jobs=-1)\n",
    "search_el1.fit(X_train_1, y_train_1)\n",
    "print(f\"{search_el1.best_params_}\")\n",
    "# Compute RMSE on test set\n",
    "y_test_pred1_el = search_el1.predict(X_test_1)\n",
    "print(mean_squared_error(y_test_1, y_test_pred1_el, squared=False))"
   ]
  },
  {
   "cell_type": "code",
   "execution_count": 113,
   "metadata": {},
   "outputs": [
    {
     "name": "stdout",
     "output_type": "stream",
     "text": [
      "{'el1__alpha': 0.001, 'el1__l1_ratio': 0.6, 'reduce_dims__n_components': 0.75}\n",
      "13.134149929902904\n"
     ]
    }
   ],
   "source": [
    "# Elastic Net with å PCA pipeline\n",
    "el1_pipe = Pipeline([(\"scale\", StandardScaler()),\n",
    "                           (\"reduce_dims\", PCA()),\n",
    "                           (\"el1\", ElasticNet())\n",
    "                          ])\n",
    "param_grid_el1 = dict(\n",
    "                            reduce_dims__n_components = [0.75, 0.95],\n",
    "                            el1__alpha = np.linspace(0.0001, 0.001, 10),\n",
    "                            el1__l1_ratio = np.linspace(0.6, 0.95, 20)\n",
    "                            )\n",
    "search_pca_el1 = GridSearchCV(estimator = el1_pipe, param_grid=param_grid_el1, cv=10, scoring=metric, n_jobs=-1)\n",
    "search_pca_el1.fit(X_train_1, y_train_1)\n",
    "# Compute RMSE on test set\n",
    "y_test_pred1_elpca = search_pca_el1.predict(X_test_1)\n",
    "print(f\"{search_pca_el1.best_params_}\")\n",
    "print(mean_squared_error(y_test_1, y_test_pred1_elpca, squared=False))"
   ]
  },
  {
   "cell_type": "code",
   "execution_count": 361,
   "metadata": {},
   "outputs": [
    {
     "name": "stdout",
     "output_type": "stream",
     "text": [
      "{'max_depth': 5}\n"
     ]
    }
   ],
   "source": [
    "# Decision Tree\n",
    "metric = 'neg_root_mean_squared_error'\n",
    "dt1 = DecisionTreeRegressor(max_depth=4, random_state=1)\n",
    "param_grid_dt1=[{\n",
    "                'max_depth': range(4, 7)\n",
    "                }]\n",
    "# Increase the number of folds from 3 to 5 according to the results of KNN above\n",
    "search_dt1 = GridSearchCV(estimator = dt1, param_grid=param_grid_dt1, cv=10, scoring=metric, n_jobs=-1)   \n",
    "search_dt1.fit(X_train_1, y_train_1)\n",
    "print(f\"{search_dt1.best_params_}\")"
   ]
  },
  {
   "cell_type": "code",
   "execution_count": 362,
   "metadata": {},
   "outputs": [
    {
     "name": "stdout",
     "output_type": "stream",
     "text": [
      "55.29158223129511\n"
     ]
    }
   ],
   "source": [
    "# Compute RMSE on test set\n",
    "y_test_pred1_dt = search_dt.predict(X_test_1)\n",
    "print(mean_squared_error(y_test_1, y_test_pred1_dt, squared=False))"
   ]
  },
  {
   "cell_type": "code",
   "execution_count": 116,
   "metadata": {},
   "outputs": [
    {
     "name": "stdout",
     "output_type": "stream",
     "text": [
      "{'dt1__max_depth': 3, 'reduce_dims__n_components': 0.95}\n",
      "38.559904262952976\n"
     ]
    }
   ],
   "source": [
    "# Decision Tree with a PCA pipeline.\n",
    "dt1_pipe = Pipeline([(\"scale\", StandardScaler()),\n",
    "                       (\"reduce_dims\", PCA()),\n",
    "                       (\"dt1\", DecisionTreeRegressor())\n",
    "                      ])\n",
    "\n",
    "\n",
    "dt1_param_grid = dict(reduce_dims__n_components = [0.75, 0.95],\n",
    "                        dt1__max_depth = range(2,4)\n",
    "                       )\n",
    "search_dt1_pipe = GridSearchCV(estimator = dt1_pipe, param_grid = dt1_param_grid, cv = 10, n_jobs=-1)   \n",
    "search_dt1_pipe.fit(X_train_1, y_train_1)\n",
    "print(f\"{search_dt1_pipe.best_params_}\")\n",
    "# Compute RMSE on test set\n",
    "y_test_pred_dt1_pipe = search_dt1_pipe.predict(X_test_1)\n",
    "print(mean_squared_error(y_test_1, y_test_pred_dt1_pipe, squared=False))"
   ]
  },
  {
   "cell_type": "code",
   "execution_count": 366,
   "metadata": {},
   "outputs": [
    {
     "name": "stdout",
     "output_type": "stream",
     "text": [
      "{'max_depth': 5, 'n_estimators': 100}\n"
     ]
    }
   ],
   "source": [
    "# Random Forest\n",
    "rdf1 = RandomForestRegressor(max_depth=4, n_estimators=100, random_state=1)\n",
    "param_grid_rdf1=[{\n",
    "                'max_depth': range(4,7),\n",
    "                'n_estimators': [50, 100, 150]\n",
    "                }]\n",
    "search_rdf1 = GridSearchCV(estimator = rdf1, param_grid=param_grid_rdf1, cv = 10, scoring=metric, n_jobs=-1)\n",
    "search_rdf1.fit(X_train_1, y_train_1)\n",
    "print(f\"{search_rdf1.best_params_}\")"
   ]
  },
  {
   "cell_type": "code",
   "execution_count": 367,
   "metadata": {},
   "outputs": [
    {
     "name": "stdout",
     "output_type": "stream",
     "text": [
      "17.987924880306633\n"
     ]
    }
   ],
   "source": [
    "# Compute RMSE on test set\n",
    "y_test_pred1_rdf = search_rdf1.predict(X_test_1)\n",
    "print(mean_squared_error(y_test_1, y_test_pred1_rdf, squared=False))"
   ]
  },
  {
   "cell_type": "code",
   "execution_count": 118,
   "metadata": {},
   "outputs": [
    {
     "name": "stdout",
     "output_type": "stream",
     "text": [
      "{'rdf1__max_depth': 2, 'rdf1__n_estimators': 52, 'reduce_dims__n_components': 0.95}\n",
      "17.90498380896533\n"
     ]
    }
   ],
   "source": [
    "# Random Forest with a PCA pipeline.\n",
    "rdf1_pipe = Pipeline([(\"scale\", StandardScaler()),\n",
    "                       (\"reduce_dims\", PCA()),\n",
    "                       (\"rdf1\", RandomForestRegressor())\n",
    "                      ])\n",
    "\n",
    "\n",
    "rdf1_param_grid = dict(reduce_dims__n_components = [0.75, 0.95],\n",
    "                       rdf1__max_depth = range(2,4),\n",
    "                       rdf1__n_estimators = range(50, 100)\n",
    "                      )\n",
    "search_rdf1_pipe = GridSearchCV(estimator = rdf1_pipe, param_grid = rdf1_param_grid, cv = 10, n_jobs=-1)   \n",
    "search_rdf1_pipe.fit(X_train_1, y_train_1)\n",
    "print(f\"{search_rdf1_pipe.best_params_}\")\n",
    "# Compute RMSE on test set\n",
    "y_test_pred_rdf1_pipe = search_rdf1_pipe.predict(X_test_1)\n",
    "print(mean_squared_error(y_test_1, y_test_pred_rdf1_pipe, squared=False))"
   ]
  },
  {
   "cell_type": "markdown",
   "metadata": {},
   "source": [
    "Linear models outperformed tree models for users of combinations with total revenue on day 60 between 100 and 1,000 dollar (combo_category = 1). Even a simple OLS model without cross-validation outperformed Random Forest on the out-of-sample data by around 3 dollar. This was as expected, as tree algorithms generally are sensitive to the sparsity of data. However, this is not the case for users fell into '2' combo_category, for whom tree algorithms had much lower RMSE."
   ]
  },
  {
   "cell_type": "code",
   "execution_count": 377,
   "metadata": {},
   "outputs": [
    {
     "name": "stdout",
     "output_type": "stream",
     "text": [
      "116.58079872048418\n"
     ]
    }
   ],
   "source": [
    "# Try simple OLS\n",
    "linear_reg2 = LinearRegression().fit(X_train_2, y_train_2)\n",
    "y_test_pred2_lr = linear_reg2.predict(X_test_2)\n",
    "print(mean_squared_error(y_test_2, y_test_pred2_lr, squared=False))"
   ]
  },
  {
   "cell_type": "code",
   "execution_count": 379,
   "metadata": {},
   "outputs": [
    {
     "name": "stdout",
     "output_type": "stream",
     "text": [
      "116.58061744917924\n"
     ]
    }
   ],
   "source": [
    "# Lasso\n",
    "lasso2 = Lasso(alpha= 0.003, random_state=1)\n",
    "param_grid_lasso2 = {\n",
    "                    'alpha' : np.linspace(0.0001, 0.001, 10)\n",
    "                    }\n",
    "search_lasso2 = GridSearchCV(estimator = lasso2, param_grid=param_grid_lasso2, cv=10, scoring=metric, n_jobs=-1)\n",
    "search_lasso2.fit(X_train_2, y_train_2)\n",
    "# Compute RMSE on test set\n",
    "y_test_pred2_lasso = search_lasso2.predict(X_test_2)\n",
    "print(mean_squared_error(y_test_2, y_test_pred2_lasso, squared=False))"
   ]
  },
  {
   "cell_type": "code",
   "execution_count": 119,
   "metadata": {},
   "outputs": [
    {
     "name": "stdout",
     "output_type": "stream",
     "text": [
      "{'lasso2__alpha': 0.001, 'reduce_dims__n_components': 0.75}\n",
      "100.2315146878858\n"
     ]
    }
   ],
   "source": [
    "# Lasso with å PCA pipeline\n",
    "lasso2_pipe = Pipeline([(\"scale\", StandardScaler()),\n",
    "                           (\"reduce_dims\", PCA()),\n",
    "                           (\"lasso2\", Lasso())\n",
    "                          ])\n",
    "param_grid_lassopca2 = dict(\n",
    "                            reduce_dims__n_components = [0.75, 0.95],\n",
    "                            lasso2__alpha = np.linspace(0.0001, 0.001, 10)\n",
    "                            )\n",
    "search_pca_lasso2 = GridSearchCV(estimator = lasso2_pipe, param_grid=param_grid_lassopca2, cv=10, scoring=metric, n_jobs=-1)\n",
    "search_pca_lasso2.fit(X_train_2, y_train_2)\n",
    "# Compute RMSE on test set\n",
    "y_test_pred_lassopca2 = search_pca_lasso2.predict(X_test_2)\n",
    "print(f\"{search_pca_lasso2.best_params_}\")\n",
    "print(mean_squared_error(y_test_2, y_test_pred_lassopca2, squared=False))"
   ]
  },
  {
   "cell_type": "code",
   "execution_count": 381,
   "metadata": {},
   "outputs": [
    {
     "name": "stdout",
     "output_type": "stream",
     "text": [
      "116.58079849386351\n"
     ]
    }
   ],
   "source": [
    "# Ridge.\n",
    "ridge2 = Ridge(alpha= 0.003, random_state=1)\n",
    "param_grid_ridge2 = {\n",
    "                    'alpha' : np.linspace(0.0001, 0.001, 10)\n",
    "                    }\n",
    "search_ridge2 = GridSearchCV(estimator = ridge2, param_grid = param_grid_ridge2, cv=10, scoring=metric, n_jobs=-1)\n",
    "search_ridge2.fit(X_train_2, y_train_2)\n",
    "# Compute RMSE on test set\n",
    "y_test_pred2_ridge = search_ridge2.predict(X_test_2)\n",
    "print(mean_squared_error(y_test_2, y_test_pred2_ridge, squared=False))"
   ]
  },
  {
   "cell_type": "code",
   "execution_count": 130,
   "metadata": {},
   "outputs": [
    {
     "name": "stdout",
     "output_type": "stream",
     "text": [
      "{'reduce_dims__n_components': 0.75, 'ridge2__alpha': 0.001}\n",
      "100.23421688003911\n"
     ]
    }
   ],
   "source": [
    "# Ridge with å PCA pipeline\n",
    "ridge2_pipe = Pipeline([(\"scale\", StandardScaler()),\n",
    "                           (\"reduce_dims\", PCA()),\n",
    "                           (\"ridge2\", Ridge())\n",
    "                          ])\n",
    "param_grid_ridgepca2 = dict(\n",
    "                            reduce_dims__n_components = [0.75, 0.95],\n",
    "                            ridge2__alpha = np.linspace(0.0001, 0.001, 10)\n",
    "                            )\n",
    "search_pca_ridge2 = GridSearchCV(estimator = ridge2_pipe, param_grid=param_grid_ridgepca2, cv=10, scoring=metric, n_jobs=-1)\n",
    "search_pca_ridge2.fit(X_train_2, y_train_2)\n",
    "# Compute RMSE on test set\n",
    "y_test_pred2_ridgepca = search_pca_ridge2.predict(X_test_2)\n",
    "print(f\"{search_pca_ridge2.best_params_}\")\n",
    "print(mean_squared_error(y_test_2, y_test_pred2_ridgepca, squared=False))"
   ]
  },
  {
   "cell_type": "code",
   "execution_count": 382,
   "metadata": {},
   "outputs": [
    {
     "name": "stdout",
     "output_type": "stream",
     "text": [
      "{'alpha': 0.001, 'l1_ratio': 0.95}\n",
      "116.58061257832246\n"
     ]
    }
   ],
   "source": [
    "# Elastic Net.\n",
    "elastic_net2 = ElasticNet(alpha= 0.0005, \n",
    "                         l1_ratio= 0.4, \n",
    "                         random_state=1)\n",
    "param_grid_el2 = {\n",
    "                'alpha' : np.linspace(0.0001, 0.001, 10),\n",
    "                'l1_ratio' : np.linspace(0.6, 0.95, 20)\n",
    "                }\n",
    "search_el2 = GridSearchCV(estimator = elastic_net2, param_grid = param_grid_el2, cv=10, scoring=metric, n_jobs=-1)\n",
    "search_el2.fit(X_train_2, y_train_2)\n",
    "print(f\"{search_el2.best_params_}\")\n",
    "# Compute RMSE on test set\n",
    "y_test_pred2_el = search_el2.predict(X_test_2)\n",
    "print(mean_squared_error(y_test_2, y_test_pred2_el, squared=False))"
   ]
  },
  {
   "cell_type": "code",
   "execution_count": 121,
   "metadata": {},
   "outputs": [
    {
     "name": "stdout",
     "output_type": "stream",
     "text": [
      "{'el2__alpha': 0.001, 'el2__l1_ratio': 0.6, 'reduce_dims__n_components': 0.75}\n",
      "100.21949372587798\n"
     ]
    }
   ],
   "source": [
    "# Elastic Net with å PCA pipeline\n",
    "el2_pipe = Pipeline([(\"scale\", StandardScaler()),\n",
    "                           (\"reduce_dims\", PCA()),\n",
    "                           (\"el2\", ElasticNet())\n",
    "                          ])\n",
    "param_grid_el2 = dict(\n",
    "                            reduce_dims__n_components = [0.75, 0.95],\n",
    "                            el2__alpha = np.linspace(0.0001, 0.001, 10),\n",
    "                            el2__l1_ratio = np.linspace(0.6, 0.95, 20)\n",
    "                            )\n",
    "search_pca_el2 = GridSearchCV(estimator = el2_pipe, param_grid=param_grid_el2, cv=10, scoring=metric, n_jobs=-1)\n",
    "search_pca_el2.fit(X_train_2, y_train_2)\n",
    "# Compute RMSE on test set\n",
    "y_test_pred_elpca2 = search_pca_el2.predict(X_test_2)\n",
    "print(f\"{search_pca_el2.best_params_}\")\n",
    "print(mean_squared_error(y_test_2, y_test_pred_elpca2, squared=False))"
   ]
  },
  {
   "cell_type": "code",
   "execution_count": 392,
   "metadata": {},
   "outputs": [
    {
     "name": "stdout",
     "output_type": "stream",
     "text": [
      "{'max_depth': 5}\n",
      "175.48382092611163\n"
     ]
    }
   ],
   "source": [
    "# Decision Tree\n",
    "metric = 'neg_root_mean_squared_error'\n",
    "dt2 = DecisionTreeRegressor(max_depth=4, random_state=1)\n",
    "param_grid_dt2=[{\n",
    "                'max_depth': range(4, 7)\n",
    "                }]\n",
    "# Increase the number of folds from 3 to 5 according to the results of KNN above\n",
    "search_dt2 = GridSearchCV(estimator = dt2, param_grid=param_grid_dt2, cv=10, scoring=metric, n_jobs=-1)   \n",
    "search_dt2.fit(X_train_2, y_train_2)\n",
    "print(f\"{search_dt.best_params_}\")\n",
    "# Compute RMSE on test set\n",
    "y_test_pred2_dt = search_dt2.predict(X_test_2)\n",
    "print(mean_squared_error(y_test_2, y_test_pred2_dt, squared=False))"
   ]
  },
  {
   "cell_type": "code",
   "execution_count": 124,
   "metadata": {},
   "outputs": [
    {
     "name": "stdout",
     "output_type": "stream",
     "text": [
      "{'dt2__max_depth': 2, 'reduce_dims__n_components': 0.95}\n",
      "78.02729971332344\n"
     ]
    }
   ],
   "source": [
    "# Decision Tree with a PCA pipeline.\n",
    "dt2_pipe = Pipeline([(\"scale\", StandardScaler()),\n",
    "                       (\"reduce_dims\", PCA()),\n",
    "                       (\"dt2\", DecisionTreeRegressor())\n",
    "                      ])\n",
    "\n",
    "\n",
    "dt2_param_grid = dict(reduce_dims__n_components = [0.75, 0.95],\n",
    "                        dt2__max_depth = range(2,4)\n",
    "                       )\n",
    "search_dt2_pipe = GridSearchCV(estimator = dt2_pipe, param_grid = dt2_param_grid, cv = 10, n_jobs=-1)   \n",
    "search_dt2_pipe.fit(X_train_2, y_train_2)\n",
    "print(f\"{search_dt2_pipe.best_params_}\")\n",
    "# Compute RMSE on test set\n",
    "y_test_pred_dt2_pipe = search_dt1_pipe.predict(X_test_2)\n",
    "print(mean_squared_error(y_test_2, y_test_pred_dt2_pipe, squared=False))"
   ]
  },
  {
   "cell_type": "code",
   "execution_count": 385,
   "metadata": {},
   "outputs": [
    {
     "name": "stdout",
     "output_type": "stream",
     "text": [
      "{'max_depth': 4, 'n_estimators': 100}\n",
      "91.40176835216063\n"
     ]
    }
   ],
   "source": [
    "# Random Forest\n",
    "rdf2 = RandomForestRegressor(max_depth=4, n_estimators=100, random_state=1)\n",
    "param_grid_rdf2=[{\n",
    "                'max_depth': range(4,7),\n",
    "                'n_estimators': [50, 100, 150]\n",
    "                }]\n",
    "search_rdf2 = GridSearchCV(estimator = rdf2, param_grid=param_grid_rdf2, cv = 10, scoring=metric, n_jobs=-1)\n",
    "search_rdf2.fit(X_train_2, y_train_2)\n",
    "print(f\"{search_rdf2.best_params_}\")\n",
    "# Compute RMSE on test set\n",
    "y_test_pred2_rdf = search_rdf2.predict(X_test_2)\n",
    "print(mean_squared_error(y_test_2, y_test_pred2_rdf, squared=False))"
   ]
  },
  {
   "cell_type": "code",
   "execution_count": 127,
   "metadata": {},
   "outputs": [
    {
     "name": "stdout",
     "output_type": "stream",
     "text": [
      "{'rdf2__max_depth': 2, 'rdf2__n_estimators': 61, 'reduce_dims__n_components': 0.95}\n",
      "77.69430812360034\n"
     ]
    }
   ],
   "source": [
    "# Random Forest with a PCA pipeline.\n",
    "rdf2_pipe = Pipeline([(\"scale\", StandardScaler()),\n",
    "                       (\"reduce_dims\", PCA()),\n",
    "                       (\"rdf2\", RandomForestRegressor())\n",
    "                      ])\n",
    "\n",
    "\n",
    "rdf2_param_grid = dict(reduce_dims__n_components = [0.75, 0.95],\n",
    "                       rdf2__max_depth = range(2,4),\n",
    "                       rdf2__n_estimators = range(50, 100)\n",
    "                      )\n",
    "search_rdf2_pipe = GridSearchCV(estimator = rdf2_pipe, param_grid = rdf2_param_grid, cv = 10, n_jobs=-1)   \n",
    "search_rdf2_pipe.fit(X_train_2, y_train_2)\n",
    "print(f\"{search_rdf2_pipe.best_params_}\")\n",
    "# Compute RMSE on test set\n",
    "y_test_pred_rdf_pipe2 = search_rdf2_pipe.predict(X_test_2)\n",
    "print(mean_squared_error(y_test_2, y_test_pred_rdf_pipe2, squared=False))"
   ]
  },
  {
   "cell_type": "markdown",
   "metadata": {},
   "source": [
    "For users of combinations with total revenue on day 60 between 1,000 and 10,000, Random Forest with 100 trees outperformed Decision Tree and Linear Regression models. "
   ]
  },
  {
   "cell_type": "code",
   "execution_count": 386,
   "metadata": {},
   "outputs": [
    {
     "name": "stdout",
     "output_type": "stream",
     "text": [
      "153.91840695600624\n"
     ]
    }
   ],
   "source": [
    "# Try simple OLS\n",
    "linear_reg3 = LinearRegression().fit(X_train_3, y_train_3)\n",
    "y_test_pred3_lr = linear_reg3.predict(X_test_3)\n",
    "print(mean_squared_error(y_test_3, y_test_pred3_lr, squared=False))"
   ]
  },
  {
   "cell_type": "code",
   "execution_count": 387,
   "metadata": {},
   "outputs": [
    {
     "name": "stdout",
     "output_type": "stream",
     "text": [
      "153.96647049328675\n"
     ]
    }
   ],
   "source": [
    "# Lasso: Best for combo_category = 1.\n",
    "lasso3 = Lasso(alpha= 0.003, random_state=1)\n",
    "param_grid_lasso3 = {\n",
    "                    'alpha' : np.linspace(0.0001, 0.001, 10)\n",
    "                    }\n",
    "search_lasso3 = GridSearchCV(estimator = lasso3, param_grid=param_grid_lasso3, cv=10, scoring=metric, n_jobs=-1)\n",
    "search_lasso3.fit(X_train_3, y_train_3)\n",
    "# Compute RMSE on test set\n",
    "y_test_pred3_lasso = search_lasso3.predict(X_test_3)\n",
    "print(mean_squared_error(y_test_3, y_test_pred3_lasso, squared=False))"
   ]
  },
  {
   "cell_type": "code",
   "execution_count": 129,
   "metadata": {},
   "outputs": [
    {
     "name": "stdout",
     "output_type": "stream",
     "text": [
      "{'lasso3__alpha': 0.001, 'reduce_dims__n_components': 0.95}\n",
      "154.13188302305355\n"
     ]
    }
   ],
   "source": [
    "# Lasso with å PCA pipeline\n",
    "lasso3_pipe = Pipeline([(\"scale\", StandardScaler()),\n",
    "                           (\"reduce_dims\", PCA()),\n",
    "                           (\"lasso3\", Lasso())\n",
    "                          ])\n",
    "param_grid_lassopca3 = dict(\n",
    "                            reduce_dims__n_components = [0.75, 0.95],\n",
    "                            lasso3__alpha = np.linspace(0.0001, 0.001, 10)\n",
    "                            )\n",
    "search_pca_lasso3 = GridSearchCV(estimator = lasso3_pipe, param_grid=param_grid_lassopca3, cv=10, scoring=metric, n_jobs=-1)\n",
    "search_pca_lasso3.fit(X_train_3, y_train_3)\n",
    "# Compute RMSE on test set\n",
    "y_test_pred_lassopca3 = search_pca_lasso3.predict(X_test_3)\n",
    "print(f\"{search_pca_lasso3.best_params_}\")\n",
    "print(mean_squared_error(y_test_3, y_test_pred_lassopca3, squared=False))"
   ]
  },
  {
   "cell_type": "code",
   "execution_count": 389,
   "metadata": {},
   "outputs": [
    {
     "name": "stdout",
     "output_type": "stream",
     "text": [
      "153.96647605441478\n"
     ]
    }
   ],
   "source": [
    "# Ridge.\n",
    "ridge3 = Ridge(alpha= 0.003, random_state=1)\n",
    "param_grid_ridge3 = {\n",
    "                    'alpha' : np.linspace(0.0001, 0.001, 10)\n",
    "                    }\n",
    "search_ridge3 = GridSearchCV(estimator = ridge3, param_grid = param_grid_ridge3, cv=10, scoring=metric, n_jobs=-1)\n",
    "search_ridge3.fit(X_train_3, y_train_3)\n",
    "# Compute RMSE on test set\n",
    "y_test_pred3_ridge = search_ridge3.predict(X_test_3)\n",
    "print(mean_squared_error(y_test_3, y_test_pred3_ridge, squared=False))"
   ]
  },
  {
   "cell_type": "code",
   "execution_count": 126,
   "metadata": {},
   "outputs": [
    {
     "name": "stdout",
     "output_type": "stream",
     "text": [
      "{'reduce_dims__n_components': 0.95, 'ridge3__alpha': 0.001}\n",
      "154.13203158343234\n"
     ]
    }
   ],
   "source": [
    "# Ridge with å PCA pipeline\n",
    "ridge3_pipe = Pipeline([(\"scale\", StandardScaler()),\n",
    "                           (\"reduce_dims\", PCA()),\n",
    "                           (\"ridge3\", Ridge())\n",
    "                          ])\n",
    "param_grid_ridgepca3 = dict(\n",
    "                            reduce_dims__n_components = [0.75, 0.95],\n",
    "                            ridge3__alpha = np.linspace(0.0001, 0.001, 10)\n",
    "                            )\n",
    "search_pca_ridge3 = GridSearchCV(estimator = ridge3_pipe, param_grid=param_grid_ridgepca3, cv=10, scoring=metric, n_jobs=-1)\n",
    "search_pca_ridge3.fit(X_train_3, y_train_3)\n",
    "# Compute RMSE on test set\n",
    "y_test_pred3_ridgepca = search_pca_ridge3.predict(X_test_3)\n",
    "print(f\"{search_pca_ridge3.best_params_}\")\n",
    "print(mean_squared_error(y_test_3, y_test_pred3_ridgepca, squared=False))"
   ]
  },
  {
   "cell_type": "code",
   "execution_count": 390,
   "metadata": {},
   "outputs": [
    {
     "name": "stdout",
     "output_type": "stream",
     "text": [
      "{'alpha': 0.001, 'l1_ratio': 0.95}\n",
      "153.96647072193045\n"
     ]
    }
   ],
   "source": [
    "# Elastic Net.\n",
    "elastic_net3 = ElasticNet(alpha= 0.0005, \n",
    "                         l1_ratio= 0.4, \n",
    "                         random_state=1)\n",
    "param_grid_el3 = {\n",
    "                'alpha' : np.linspace(0.0001, 0.001, 10),\n",
    "                'l1_ratio' : np.linspace(0.6, 0.95, 20)\n",
    "                }\n",
    "search_el3 = GridSearchCV(estimator = elastic_net3, param_grid = param_grid_el3, cv=10, scoring=metric, n_jobs=-1)\n",
    "search_el3.fit(X_train_3, y_train_3)\n",
    "print(f\"{search_el3.best_params_}\")\n",
    "# Compute RMSE on test set\n",
    "y_test_pred3_el = search_el3.predict(X_test_3)\n",
    "print(mean_squared_error(y_test_3, y_test_pred3_el, squared=False))"
   ]
  },
  {
   "cell_type": "code",
   "execution_count": 391,
   "metadata": {},
   "outputs": [
    {
     "name": "stdout",
     "output_type": "stream",
     "text": [
      "{'max_depth': 5}\n",
      "172.94801692154445\n"
     ]
    }
   ],
   "source": [
    "# Decision Tree\n",
    "dt3 = DecisionTreeRegressor(max_depth=4, random_state=1)\n",
    "param_grid_dt3=[{\n",
    "                'max_depth': range(4, 7)\n",
    "                }]\n",
    "# Increase the number of folds from 3 to 5 according to the results of KNN above\n",
    "search_dt3 = GridSearchCV(estimator = dt3, param_grid=param_grid_dt3, cv=10, scoring=metric, n_jobs=-1)   \n",
    "search_dt3.fit(X_train_3, y_train_3)\n",
    "print(f\"{search_dt.best_params_}\")\n",
    "# Compute RMSE on test set\n",
    "y_test_pred3_dt = search_dt3.predict(X_test_3)\n",
    "print(mean_squared_error(y_test_3, y_test_pred3_dt, squared=False))"
   ]
  },
  {
   "cell_type": "code",
   "execution_count": 393,
   "metadata": {},
   "outputs": [
    {
     "name": "stdout",
     "output_type": "stream",
     "text": [
      "{'max_depth': 4, 'n_estimators': 100}\n",
      "156.5750567543436\n"
     ]
    }
   ],
   "source": [
    "# Random Forest\n",
    "rdf3 = RandomForestRegressor(max_depth=4, n_estimators=100, random_state=1)\n",
    "param_grid_rdf3=[{\n",
    "                'max_depth': range(4,7),\n",
    "                'n_estimators': [50, 100, 150]\n",
    "                }]\n",
    "search_rdf3 = GridSearchCV(estimator = rdf3, param_grid=param_grid_rdf3, cv = 10, scoring=metric, n_jobs=-1)\n",
    "search_rdf3.fit(X_train_3, y_train_3)\n",
    "print(f\"{search_rdf2.best_params_}\")\n",
    "# Compute RMSE on test set\n",
    "y_test_pred3_rdf = search_rdf3.predict(X_test_3)\n",
    "print(mean_squared_error(y_test_3, y_test_pred3_rdf, squared=False))"
   ]
  },
  {
   "cell_type": "code",
   "execution_count": 128,
   "metadata": {},
   "outputs": [
    {
     "name": "stdout",
     "output_type": "stream",
     "text": [
      "{'rdf3__max_depth': 2, 'rdf3__n_estimators': 92, 'reduce_dims__n_components': 0.75}\n",
      "154.89453704132856\n"
     ]
    }
   ],
   "source": [
    "# Random Forest with a PCA pipeline.\n",
    "rdf3_pipe = Pipeline([(\"scale\", StandardScaler()),\n",
    "                       (\"reduce_dims\", PCA()),\n",
    "                       (\"rdf3\", RandomForestRegressor())\n",
    "                      ])\n",
    "\n",
    "\n",
    "rdf3_param_grid = dict(reduce_dims__n_components = [0.75, 0.95],\n",
    "                       rdf3__max_depth = range(2,4),\n",
    "                       rdf3__n_estimators = range(50, 100)\n",
    "                      )\n",
    "search_rdf3_pipe = GridSearchCV(estimator = rdf3_pipe, param_grid = rdf3_param_grid, cv = 10, n_jobs=-1)   \n",
    "search_rdf3_pipe.fit(X_train_3, y_train_3)\n",
    "print(f\"{search_rdf3_pipe.best_params_}\")\n",
    "# Compute RMSE on test set\n",
    "y_test_pred_rdf_pipe3 = search_rdf3_pipe.predict(X_test_3)\n",
    "print(mean_squared_error(y_test_3, y_test_pred_rdf_pipe3, squared=False))"
   ]
  },
  {
   "cell_type": "markdown",
   "metadata": {},
   "source": [
    "For users of combinations with total revenue on day 60 greater than 10,000, a simple OLS model outperformed all the other models on the out-of-sample data."
   ]
  },
  {
   "cell_type": "markdown",
   "metadata": {},
   "source": [
    "## References <a class=\"anchor\" id=\"References\"></a>\n",
    "\n",
    "https://stackoverflow.com/questions/19231871/convert-unix-time-to-readable-date-in-pandas-dataframe\n",
    "\n",
    "https://imbalanced-learn.org/stable/references/generated/imblearn.over_sampling.SMOTE.html\n",
    "\n",
    "https://stackoverflow.com/questions/32544925/cannot-import-scikit-learn"
   ]
  },
  {
   "cell_type": "markdown",
   "metadata": {},
   "source": [
    "## Appendix: Falied Attempts <a class=\"anchor\" id=\"Appendix\"></a>"
   ]
  },
  {
   "cell_type": "markdown",
   "metadata": {},
   "source": [
    "* To predict day 60 revenue, I first predicted at the user level without extra information, such as platform, channel and geo. The result wasn't very ideal with around 20 dollar more RMSE for tree algorithms compared to the solution submitted. Also, these prediction results suggest that error on the unseen test set was smaller than the error on the trainging set. This meant a simple overall model had a __underfitting__ issue. Therefore, I started looking for more complicated solutions.\n",
    "* My second thought was separating the prediction task into two stages: \n",
    "    \n",
    "    * Binary classification: predicting whether a user will have payment on day 60 or not\n",
    "    \n",
    "    * Regression: if a user is predicted to have day 60 payments, how much?\n",
    "\n",
    "The second bullet point above didn't work, mostly because I had very few unique observations if I only used event features in the binary classification part. Below are just some code for these attempts, such as the modeling results of a simple overall model, and an upsampling pipeline with KNN."
   ]
  },
  {
   "cell_type": "code",
   "execution_count": 146,
   "metadata": {},
   "outputs": [],
   "source": [
    "# The first attempt: an overall and simple model\n",
    "X_train, X_test, y_train, y_test = train_test_split(main_df_events_rev_7ds\\\n",
    "                                                    .loc[:, main_df_events_rev_7ds.columns != 'revenue_d60']\\\n",
    "                                                    , main_df_events_rev_7ds['revenue_d60']\\\n",
    "                                                    , test_size = 0.3, random_state = 0)"
   ]
  },
  {
   "cell_type": "code",
   "execution_count": 148,
   "metadata": {},
   "outputs": [
    {
     "name": "stdout",
     "output_type": "stream",
     "text": [
      "{'max_depth': 4}\n",
      "95.33\n"
     ]
    }
   ],
   "source": [
    "# Decision Tree\n",
    "metric = 'neg_root_mean_squared_error'\n",
    "dt = DecisionTreeRegressor(max_depth=4, random_state=1)\n",
    "param_grid_dt=[{\n",
    "                'max_depth': range(4, 7)\n",
    "                }]\n",
    "# Increase the number of folds from 3 to 5 according to the results of KNN above\n",
    "search_dt = GridSearchCV(estimator = dt, param_grid=param_grid_dt, cv=10, scoring=metric, n_jobs=-1)   \n",
    "search_dt.fit(X_train, y_train)\n",
    "print(f\"{search_dt.best_params_}\")\n",
    "print(f\"{-(search_dt.best_score_):.4}\")"
   ]
  },
  {
   "cell_type": "code",
   "execution_count": 149,
   "metadata": {},
   "outputs": [
    {
     "name": "stdout",
     "output_type": "stream",
     "text": [
      "74.4165597484266\n"
     ]
    }
   ],
   "source": [
    "# Compute RMSE on test set\n",
    "y_test_pred_dt = search_dt.predict(X_test)\n",
    "print(mean_squared_error(y_test, y_test_pred_dt, squared=False))"
   ]
  },
  {
   "cell_type": "code",
   "execution_count": 150,
   "metadata": {},
   "outputs": [
    {
     "name": "stdout",
     "output_type": "stream",
     "text": [
      "{'max_depth': 4, 'n_estimators': 100}\n",
      "82.54\n"
     ]
    }
   ],
   "source": [
    "# Random Forest\n",
    "rdf = RandomForestRegressor(max_depth=4, n_estimators=100, random_state=1)\n",
    "param_grid_rdf=[{\n",
    "                'max_depth': range(4,7),\n",
    "                'n_estimators': [50, 100]\n",
    "                }]\n",
    "search_rdf = GridSearchCV(estimator = rdf, param_grid=param_grid_rdf, cv = 10, scoring=metric, n_jobs=-1)\n",
    "search_rdf.fit(X_train, y_train)\n",
    "print(f\"{search_rdf.best_params_}\")\n",
    "print(f\"{-(search_rdf.best_score_):.4}\")"
   ]
  },
  {
   "cell_type": "code",
   "execution_count": 152,
   "metadata": {},
   "outputs": [
    {
     "name": "stdout",
     "output_type": "stream",
     "text": [
      "75.23905890085562\n"
     ]
    }
   ],
   "source": [
    "# Compute RMSE on test set\n",
    "y_test_pred_rdf = search_rdf.predict(X_test)\n",
    "print(mean_squared_error(y_test, y_test_pred_rdf, squared=False))"
   ]
  },
  {
   "cell_type": "code",
   "execution_count": 255,
   "metadata": {},
   "outputs": [
    {
     "name": "stdout",
     "output_type": "stream",
     "text": [
      "{'KNN__n_neighbors': 20}\n",
      "0.484375\n"
     ]
    }
   ],
   "source": [
    "# KNN with an upsampling pipeline\n",
    "from sklearn.preprocessing import StandardScaler\n",
    "scaler = StandardScaler()\n",
    "scaled_X_train_cl1 = scaler.fit_transform(X_train_cl1)\n",
    "model_KNN_cl = Pipeline([\n",
    "                        ('sampling', SMOTE()),\n",
    "                        ('KNN', KNeighborsClassifier(n_neighbors=5))\n",
    "                        ])\n",
    "# Define parametres for hypertuning\n",
    "params_KNN_cl = [{'KNN__n_neighbors': (5, 15, 20, 30)}]\n",
    "# Precision: penalize false positive because they increase our cost-per-installation\n",
    "grid_KNN_cl = GridSearchCV(estimator=model_KNN_cl, param_grid=params_KNN_cl, cv = 5, scoring = 'accuracy',  n_jobs=-1) \n",
    "grid_KNN_cl.fit(scaled_X_train_cl1, y_train_cl1)\n",
    "y_test_pred1_KNN = grid_KNN_cl.predict(X_test_cl1)\n",
    "print(grid_KNN_cl.best_params_)\n",
    "print(accuracy_score(y_test_cl1, y_test_pred1_KNN))"
   ]
  }
 ],
 "metadata": {
  "kernelspec": {
   "display_name": "Python 3",
   "language": "python",
   "name": "python3"
  },
  "language_info": {
   "codemirror_mode": {
    "name": "ipython",
    "version": 3
   },
   "file_extension": ".py",
   "mimetype": "text/x-python",
   "name": "python",
   "nbconvert_exporter": "python",
   "pygments_lexer": "ipython3",
   "version": "3.8.5"
  }
 },
 "nbformat": 4,
 "nbformat_minor": 4
}
